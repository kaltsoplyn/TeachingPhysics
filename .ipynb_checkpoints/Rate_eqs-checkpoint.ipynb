{
 "cells": [
  {
   "cell_type": "code",
   "execution_count": 1,
   "metadata": {},
   "outputs": [
    {
     "data": {
      "text/html": [
       "<script>\n",
       "// Immediately-invoked-function-expression to avoid global variables.\n",
       "(function() {\n",
       "    var warning_div = document.getElementById(\"webio-warning-13490775640890011147\");\n",
       "    var hide = function () {\n",
       "        var script = document.getElementById(\"webio-setup-8138239354467339352\");\n",
       "        var parent = script && script.parentElement;\n",
       "        var grandparent = parent && parent.parentElement;\n",
       "        if (grandparent) {\n",
       "            grandparent.style.display = \"none\";\n",
       "        }\n",
       "        warning_div.style.display = \"none\";\n",
       "    };\n",
       "    if (typeof Jupyter !== \"undefined\") {\n",
       "        console.log(\"WebIO detected Jupyter notebook environment.\");\n",
       "        // Jupyter notebook.\n",
       "        var extensions = (\n",
       "            Jupyter\n",
       "            && Jupyter.notebook.config.data\n",
       "            && Jupyter.notebook.config.data.load_extensions\n",
       "        );\n",
       "        if (extensions && extensions[\"webio-jupyter-notebook\"]) {\n",
       "            // Extension already loaded.\n",
       "            console.log(\"Jupyter WebIO nbextension detected; not loading ad-hoc.\");\n",
       "            hide();\n",
       "            return;\n",
       "        }\n",
       "    } else if (window.location.pathname.includes(\"/lab\")) {\n",
       "        // Guessing JupyterLa\n",
       "        console.log(\"Jupyter Lab detected; make sure the @webio/jupyter-lab-provider labextension is installed.\");\n",
       "        hide();\n",
       "        return;\n",
       "    }\n",
       "})();\n",
       "\n",
       "</script>\n",
       "<p\n",
       "    id=\"webio-warning-13490775640890011147\"\n",
       "    class=\"output_text output_stderr\"\n",
       "    style=\"padding: 1em; font-weight: bold;\"\n",
       ">\n",
       "    Unable to load WebIO. Please make sure WebIO works for your Jupyter client.\n",
       "    For troubleshooting, please see <a href=\"https://juliagizmos.github.io/WebIO.jl/latest/providers/ijulia/\">\n",
       "    the WebIO/IJulia documentation</a>.\n",
       "    <!-- TODO: link to installation docs. -->\n",
       "</p>\n"
      ],
      "text/plain": [
       "HTML{String}(\"<script>\\n// Immediately-invoked-function-expression to avoid global variables.\\n(function() {\\n    var warning_div = document.getElementById(\\\"webio-warning-13490775640890011147\\\");\\n    var hide = function () {\\n        var script = document.getElementById(\\\"webio-setup-8138239354467339352\\\");\\n        var parent = script && script.parentElement;\\n        var grandparent = parent && parent.parentElement;\\n        if (grandparent) {\\n            grandparent.style.display = \\\"none\\\";\\n        }\\n        warning_div.style.display = \\\"none\\\";\\n    };\\n    if (typeof Jupyter !== \\\"undefined\\\") {\\n        console.log(\\\"WebIO detected Jupyter notebook environment.\\\");\\n        // Jupyter notebook.\\n        var extensions = (\\n            Jupyter\\n            && Jupyter.notebook.config.data\\n            && Jupyter.notebook.config.data.load_extensions\\n        );\\n        if (extensions && extensions[\\\"webio-jupyter-notebook\\\"]) {\\n            // Extension already loaded.\\n            console.log(\\\"Jupyter WebIO nbextension detected; not loading ad-hoc.\\\");\\n            hide();\\n            return;\\n        }\\n    } else if (window.location.pathname.includes(\\\"/lab\\\")) {\\n        // Guessing JupyterLa\\n        console.log(\\\"Jupyter Lab detected; make sure the @webio/jupyter-lab-provider labextension is installed.\\\");\\n        hide();\\n        return;\\n    }\\n})();\\n\\n</script>\\n<p\\n    id=\\\"webio-warning-13490775640890011147\\\"\\n    class=\\\"output_text output_stderr\\\"\\n    style=\\\"padding: 1em; font-weight: bold;\\\"\\n>\\n    Unable to load WebIO. Please make sure WebIO works for your Jupyter client.\\n    For troubleshooting, please see <a href=\\\"https://juliagizmos.github.io/WebIO.jl/latest/providers/ijulia/\\\">\\n    the WebIO/IJulia documentation</a>.\\n    <!-- TODO: link to installation docs. -->\\n</p>\\n\")"
      ]
     },
     "metadata": {},
     "output_type": "display_data"
    }
   ],
   "source": [
    "using WebIO, Interact, Plots"
   ]
  },
  {
   "cell_type": "code",
   "execution_count": 2,
   "metadata": {},
   "outputs": [],
   "source": [
    "w = 1.; h = 0.05;\n",
    "level(x,y) = Shape(x .+ [-0.5w,0.5w, 0.5w,-0.5w], y .+ [-0.5h, -0.5h, 0.5h, 0.5h])\n",
    "clipping_box(xl,yb, xr, yu) = Shape([xl, xr, xr, xl], [yb, yb, yu, yu]);\n",
    "\n",
    "w_pop = 0.2;\n",
    "level_pop(x, y, pop) = Shape(x .+ [-0.5w_pop,0.5w_pop, 0.5w_pop,-0.5w_pop], y .+ [0.5h, 0.5h, pop + 0.5h, pop + 0.5h]);"
   ]
  },
  {
   "cell_type": "markdown",
   "metadata": {},
   "source": [
    "## 2 Levels"
   ]
  },
  {
   "cell_type": "markdown",
   "metadata": {},
   "source": [
    "### Solving just for rates can fool you that 2-level system inversion is doable"
   ]
  },
  {
   "cell_type": "code",
   "execution_count": 39,
   "metadata": {},
   "outputs": [
    {
     "data": {
      "text/plain": [
       "\u001b[36mODEProblem\u001b[0m with uType \u001b[36mArray{Float64,1}\u001b[0m and tType \u001b[36mFloat64\u001b[0m. In-place: \u001b[36mtrue\u001b[0m\n",
       "timespan: (0.0, 1.0)\n",
       "u0: [1.0, 0.0]"
      ]
     },
     "execution_count": 39,
     "metadata": {},
     "output_type": "execute_result"
    }
   ],
   "source": [
    "using DifferentialEquations\n",
    "\n",
    "function rate_eqs!(dN, N, pars, t)\n",
    "    N1, N2 = N\n",
    "    R, γ2 = pars\n",
    "    dN[1] = dN1 = -R * N1 + γ2 * N2\n",
    "    dN[2] = dN2 = +R * N1 - γ2 * N2\n",
    "end\n",
    "\n",
    "N0 = [1., 0.]\n",
    "tspan = (0.0, 1.0)\n",
    "p = [10., 4.]\n",
    "\n",
    "prob = ODEProblem(rate_eqs!, N0, tspan, p)"
   ]
  },
  {
   "cell_type": "code",
   "execution_count": 40,
   "metadata": {},
   "outputs": [
    {
     "data": {
      "text/plain": [
       ":Success"
      ]
     },
     "execution_count": 40,
     "metadata": {},
     "output_type": "execute_result"
    }
   ],
   "source": [
    "sol2 = solve(prob, callback = PositiveDomain(),saveat = 0:0.01:1);\n",
    "sol2.retcode"
   ]
  },
  {
   "cell_type": "code",
   "execution_count": 41,
   "metadata": {},
   "outputs": [],
   "source": [
    "pop21R(ti) = sol2(ti)[1];\n",
    "pop22R(ti) = sol2(ti)[2];"
   ]
  },
  {
   "cell_type": "code",
   "execution_count": 42,
   "metadata": {},
   "outputs": [
    {
     "data": {
      "application/vnd.webio.node+json": {
       "children": [
        {
         "children": [
          {
           "children": [
            {
             "children": [
              {
               "children": [
                {
                 "children": [
                  "Time"
                 ],
                 "instanceArgs": {
                  "namespace": "html",
                  "tag": "label"
                 },
                 "nodeType": "DOM",
                 "props": {
                  "className": "interact ",
                  "style": {
                   "padding": "5px 10px 0px 10px"
                  }
                 },
                 "type": "node"
                }
               ],
               "instanceArgs": {
                "namespace": "html",
                "tag": "div"
               },
               "nodeType": "DOM",
               "props": {
                "className": "interact-flex-row-left"
               },
               "type": "node"
              },
              {
               "children": [
                {
                 "children": [],
                 "instanceArgs": {
                  "namespace": "html",
                  "tag": "input"
                 },
                 "nodeType": "DOM",
                 "props": {
                  "attributes": {
                   "data-bind": "numericValue: index, valueUpdate: 'input', event: {change: function (){this.changes(this.changes()+1)}}",
                   "orient": "horizontal",
                   "type": "range"
                  },
                  "className": "slider slider is-fullwidth",
                  "max": 118,
                  "min": 1,
                  "step": 1,
                  "style": {}
                 },
                 "type": "node"
                }
               ],
               "instanceArgs": {
                "namespace": "html",
                "tag": "div"
               },
               "nodeType": "DOM",
               "props": {
                "className": "interact-flex-row-center"
               },
               "type": "node"
              },
              {
               "children": [
                {
                 "children": [],
                 "instanceArgs": {
                  "namespace": "html",
                  "tag": "p"
                 },
                 "nodeType": "DOM",
                 "props": {
                  "attributes": {
                   "data-bind": "text: formatted_val"
                  }
                 },
                 "type": "node"
                }
               ],
               "instanceArgs": {
                "namespace": "html",
                "tag": "div"
               },
               "nodeType": "DOM",
               "props": {
                "className": "interact-flex-row-right"
               },
               "type": "node"
              }
             ],
             "instanceArgs": {
              "namespace": "html",
              "tag": "div"
             },
             "nodeType": "DOM",
             "props": {
              "className": "interact-flex-row interact-widget"
             },
             "type": "node"
            }
           ],
           "instanceArgs": {
            "handlers": {
             "changes": [
              "(function (val){return (val!=this.model[\"changes\"]()) ? (this.valueFromJulia[\"changes\"]=true, this.model[\"changes\"](val)) : undefined})"
             ],
             "index": [
              "(function (val){return (val!=this.model[\"index\"]()) ? (this.valueFromJulia[\"index\"]=true, this.model[\"index\"](val)) : undefined})"
             ]
            },
            "id": "15901082428430300200",
            "imports": {
             "data": [
              {
               "name": "knockout",
               "type": "js",
               "url": "/assetserver/58532c656e5c3ea95bc9e6ba08f6e0bbf64f3349-knockout.js"
              },
              {
               "name": "knockout_punches",
               "type": "js",
               "url": "/assetserver/97167f822e98661cc85dd010a2419f4651aeb9c6-knockout_punches.js"
              },
              {
               "name": null,
               "type": "js",
               "url": "/assetserver/c7daed194cd9e562afee3f059fad5f8587c42456-all.js"
              },
              {
               "name": null,
               "type": "css",
               "url": "/assetserver/3f97f38d83fe3be07cf18967ab9d3b51834c3353-style.css"
              },
              {
               "name": null,
               "type": "css",
               "url": "/assetserver/075c8efb747833dacc2bae1590f31f6a06a5b55a-bulma_confined.min.css"
              }
             ],
             "type": "async_block"
            },
            "mount_callbacks": [
             "function () {\n    var handler = (function (ko, koPunches) {\n    ko.punches.enableAll();\n    ko.bindingHandlers.numericValue = {\n        init: function(element, valueAccessor, allBindings, data, context) {\n            var stringified = ko.observable(ko.unwrap(valueAccessor()));\n            stringified.subscribe(function(value) {\n                var val = parseFloat(value);\n                if (!isNaN(val)) {\n                    valueAccessor()(val);\n                }\n            });\n            valueAccessor().subscribe(function(value) {\n                var str = JSON.stringify(value);\n                if ((str == \"0\") && ([\"-0\", \"-0.\"].indexOf(stringified()) >= 0))\n                     return;\n                 if ([\"null\", \"\"].indexOf(str) >= 0)\n                     return;\n                stringified(str);\n            });\n            ko.applyBindingsToNode(\n                element,\n                {\n                    value: stringified,\n                    valueUpdate: allBindings.get('valueUpdate'),\n                },\n                context,\n            );\n        }\n    };\n    var json_data = {\"formatted_vals\":[\"1\",\"2\",\"3\",\"4\",\"5\",\"6\",\"7\",\"8\",\"9\",\"10\",\"11\",\"12\",\"13\",\"14\",\"15\",\"16\",\"17\",\"18\",\"19\",\"20\",\"21\",\"22\",\"23\",\"24\",\"25\",\"26\",\"27\",\"28\",\"29\",\"30\",\"31\",\"32\",\"33\",\"34\",\"35\",\"36\",\"37\",\"38\",\"39\",\"40\",\"41\",\"42\",\"43\",\"44\",\"45\",\"46\",\"47\",\"48\",\"49\",\"50\",\"51\",\"52\",\"53\",\"54\",\"55\",\"56\",\"57\",\"58\",\"59\",\"60\",\"61\",\"62\",\"63\",\"64\",\"65\",\"66\",\"67\",\"68\",\"69\",\"70\",\"71\",\"72\",\"73\",\"74\",\"75\",\"76\",\"77\",\"78\",\"79\",\"80\",\"81\",\"82\",\"83\",\"84\",\"85\",\"86\",\"87\",\"88\",\"89\",\"90\",\"91\",\"92\",\"93\",\"94\",\"95\",\"96\",\"97\",\"98\",\"99\",\"100\",\"101\",\"102\",\"103\",\"104\",\"105\",\"106\",\"107\",\"108\",\"109\",\"110\",\"111\",\"112\",\"113\",\"114\",\"115\",\"116\",\"117\",\"118\"],\"changes\":WebIO.getval({\"name\":\"changes\",\"scope\":\"15901082428430300200\",\"id\":\"ob_82\",\"type\":\"observable\"}),\"index\":WebIO.getval({\"name\":\"index\",\"scope\":\"15901082428430300200\",\"id\":\"ob_81\",\"type\":\"observable\"})};\n    var self = this;\n    function AppViewModel() {\n        for (var key in json_data) {\n            var el = json_data[key];\n            this[key] = Array.isArray(el) ? ko.observableArray(el) : ko.observable(el);\n        }\n        \n        [this[\"formatted_val\"]=ko.computed(    function(){\n        return this.formatted_vals()[parseInt(this.index())-(1)];\n    }\n,this)]\n        [this[\"changes\"].subscribe((function (val){!(this.valueFromJulia[\"changes\"]) ? (WebIO.setval({\"name\":\"changes\",\"scope\":\"15901082428430300200\",\"id\":\"ob_82\",\"type\":\"observable\"},val)) : undefined; return this.valueFromJulia[\"changes\"]=false}),self),this[\"index\"].subscribe((function (val){!(this.valueFromJulia[\"index\"]) ? (WebIO.setval({\"name\":\"index\",\"scope\":\"15901082428430300200\",\"id\":\"ob_81\",\"type\":\"observable\"},val)) : undefined; return this.valueFromJulia[\"index\"]=false}),self)]\n        \n    }\n    self.model = new AppViewModel();\n    self.valueFromJulia = {};\n    for (var key in json_data) {\n        self.valueFromJulia[key] = false;\n    }\n    ko.applyBindings(self.model, self.dom);\n}\n);\n    (WebIO.importBlock({\"data\":[{\"name\":\"knockout\",\"type\":\"js\",\"url\":\"/assetserver/58532c656e5c3ea95bc9e6ba08f6e0bbf64f3349-knockout.js\"},{\"name\":\"knockout_punches\",\"type\":\"js\",\"url\":\"/assetserver/97167f822e98661cc85dd010a2419f4651aeb9c6-knockout_punches.js\"}],\"type\":\"async_block\"})).then((imports) => handler.apply(this, imports));\n}\n"
            ],
            "observables": {
             "changes": {
              "id": "ob_82",
              "sync": false,
              "value": 0
             },
             "index": {
              "id": "ob_81",
              "sync": true,
              "value": 1
             }
            },
            "systemjs_options": null
           },
           "nodeType": "Scope",
           "props": {},
           "type": "node"
          }
         ],
         "instanceArgs": {
          "namespace": "html",
          "tag": "div"
         },
         "nodeType": "DOM",
         "props": {
          "className": "field interact-widget"
         },
         "type": "node"
        },
        {
         "children": [
          {
           "children": [],
           "instanceArgs": {
            "id": "ob_88",
            "name": "obs-node"
           },
           "nodeType": "ObservableNode",
           "props": {},
           "type": "node"
          }
         ],
         "instanceArgs": {
          "handlers": {},
          "id": "16074543920758738405",
          "imports": {
           "data": [],
           "type": "async_block"
          },
          "mount_callbacks": [],
          "observables": {
           "obs-node": {
            "id": "ob_88",
            "sync": false,
            "value": {
             "children": [
              {
               "children": [],
               "instanceArgs": {
                "namespace": "html",
                "tag": "div"
               },
               "nodeType": "DOM",
               "props": {
                "setInnerHtml": "<?xml version=\"1.0\" encoding=\"utf-8\"?>\n<svg xmlns=\"http://www.w3.org/2000/svg\" xmlns:xlink=\"http://www.w3.org/1999/xlink\" width=\"1100\" height=\"500\" viewBox=\"0 0 4400 2000\">\n<defs>\n  <clipPath id=\"clip2200\">\n    <rect x=\"0\" y=\"0\" width=\"4400\" height=\"2000\"/>\n  </clipPath>\n</defs>\n<path clip-path=\"url(#clip2200)\" d=\"\nM0 2000 L4400 2000 L4400 0 L0 0  Z\n  \" fill=\"#ffffff\" fill-rule=\"evenodd\" fill-opacity=\"1\"/>\n<defs>\n  <clipPath id=\"clip2201\">\n    <rect x=\"880\" y=\"0\" width=\"3081\" height=\"2000\"/>\n  </clipPath>\n</defs>\n<path clip-path=\"url(#clip2200)\" d=\"\nM247.846 1846.96 L2223.18 1846.96 L2223.18 94.4295 L247.846 94.4295  Z\n  \" fill=\"#ffffff\" fill-rule=\"evenodd\" fill-opacity=\"1\"/>\n<defs>\n  <clipPath id=\"clip2202\">\n    <rect x=\"247\" y=\"94\" width=\"1976\" height=\"1754\"/>\n  </clipPath>\n</defs>\n<polyline clip-path=\"url(#clip2202)\" style=\"stroke:#000000; stroke-width:2; stroke-opacity:0.1; fill:none\" points=\"\n  303.751,1846.96 303.751,94.4295 \n  \"/>\n<polyline clip-path=\"url(#clip2202)\" style=\"stroke:#000000; stroke-width:2; stroke-opacity:0.1; fill:none\" points=\"\n  769.633,1846.96 769.633,94.4295 \n  \"/>\n<polyline clip-path=\"url(#clip2202)\" style=\"stroke:#000000; stroke-width:2; stroke-opacity:0.1; fill:none\" points=\"\n  1235.51,1846.96 1235.51,94.4295 \n  \"/>\n<polyline clip-path=\"url(#clip2202)\" style=\"stroke:#000000; stroke-width:2; stroke-opacity:0.1; fill:none\" points=\"\n  1701.4,1846.96 1701.4,94.4295 \n  \"/>\n<polyline clip-path=\"url(#clip2202)\" style=\"stroke:#000000; stroke-width:2; stroke-opacity:0.1; fill:none\" points=\"\n  2167.28,1846.96 2167.28,94.4295 \n  \"/>\n<polyline clip-path=\"url(#clip2202)\" style=\"stroke:#000000; stroke-width:2; stroke-opacity:0.1; fill:none\" points=\"\n  247.846,1797.36 2223.18,1797.36 \n  \"/>\n<polyline clip-path=\"url(#clip2202)\" style=\"stroke:#000000; stroke-width:2; stroke-opacity:0.1; fill:none\" points=\"\n  247.846,1384.03 2223.18,1384.03 \n  \"/>\n<polyline clip-path=\"url(#clip2202)\" style=\"stroke:#000000; stroke-width:2; stroke-opacity:0.1; fill:none\" points=\"\n  247.846,970.694 2223.18,970.694 \n  \"/>\n<polyline clip-path=\"url(#clip2202)\" style=\"stroke:#000000; stroke-width:2; stroke-opacity:0.1; fill:none\" points=\"\n  247.846,557.362 2223.18,557.362 \n  \"/>\n<polyline clip-path=\"url(#clip2202)\" style=\"stroke:#000000; stroke-width:2; stroke-opacity:0.1; fill:none\" points=\"\n  247.846,144.029 2223.18,144.029 \n  \"/>\n<polyline clip-path=\"url(#clip2200)\" style=\"stroke:#000000; stroke-width:4; stroke-opacity:1; fill:none\" points=\"\n  247.846,1846.96 2223.18,1846.96 \n  \"/>\n<polyline clip-path=\"url(#clip2200)\" style=\"stroke:#000000; stroke-width:4; stroke-opacity:1; fill:none\" points=\"\n  247.846,1846.96 247.846,94.4295 \n  \"/>\n<polyline clip-path=\"url(#clip2200)\" style=\"stroke:#000000; stroke-width:4; stroke-opacity:1; fill:none\" points=\"\n  303.751,1846.96 303.751,1825.93 \n  \"/>\n<polyline clip-path=\"url(#clip2200)\" style=\"stroke:#000000; stroke-width:4; stroke-opacity:1; fill:none\" points=\"\n  769.633,1846.96 769.633,1825.93 \n  \"/>\n<polyline clip-path=\"url(#clip2200)\" style=\"stroke:#000000; stroke-width:4; stroke-opacity:1; fill:none\" points=\"\n  1235.51,1846.96 1235.51,1825.93 \n  \"/>\n<polyline clip-path=\"url(#clip2200)\" style=\"stroke:#000000; stroke-width:4; stroke-opacity:1; fill:none\" points=\"\n  1701.4,1846.96 1701.4,1825.93 \n  \"/>\n<polyline clip-path=\"url(#clip2200)\" style=\"stroke:#000000; stroke-width:4; stroke-opacity:1; fill:none\" points=\"\n  2167.28,1846.96 2167.28,1825.93 \n  \"/>\n<polyline clip-path=\"url(#clip2200)\" style=\"stroke:#000000; stroke-width:4; stroke-opacity:1; fill:none\" points=\"\n  247.846,1797.36 271.55,1797.36 \n  \"/>\n<polyline clip-path=\"url(#clip2200)\" style=\"stroke:#000000; stroke-width:4; stroke-opacity:1; fill:none\" points=\"\n  247.846,1384.03 271.55,1384.03 \n  \"/>\n<polyline clip-path=\"url(#clip2200)\" style=\"stroke:#000000; stroke-width:4; stroke-opacity:1; fill:none\" points=\"\n  247.846,970.694 271.55,970.694 \n  \"/>\n<polyline clip-path=\"url(#clip2200)\" style=\"stroke:#000000; stroke-width:4; stroke-opacity:1; fill:none\" points=\"\n  247.846,557.362 271.55,557.362 \n  \"/>\n<polyline clip-path=\"url(#clip2200)\" style=\"stroke:#000000; stroke-width:4; stroke-opacity:1; fill:none\" points=\"\n  247.846,144.029 271.55,144.029 \n  \"/>\n<g clip-path=\"url(#clip2200)\">\n<text style=\"fill:#000000; fill-opacity:1; font-family:Arial,Helvetica Neue,Helvetica,sans-serif; font-size:48px; text-anchor:middle;\" transform=\"rotate(0, 303.751, 1910.96)\" x=\"303.751\" y=\"1910.96\">0.00</text>\n</g>\n<g clip-path=\"url(#clip2200)\">\n<text style=\"fill:#000000; fill-opacity:1; font-family:Arial,Helvetica Neue,Helvetica,sans-serif; font-size:48px; text-anchor:middle;\" transform=\"rotate(0, 769.633, 1910.96)\" x=\"769.633\" y=\"1910.96\">0.25</text>\n</g>\n<g clip-path=\"url(#clip2200)\">\n<text style=\"fill:#000000; fill-opacity:1; font-family:Arial,Helvetica Neue,Helvetica,sans-serif; font-size:48px; text-anchor:middle;\" transform=\"rotate(0, 1235.51, 1910.96)\" x=\"1235.51\" y=\"1910.96\">0.50</text>\n</g>\n<g clip-path=\"url(#clip2200)\">\n<text style=\"fill:#000000; fill-opacity:1; font-family:Arial,Helvetica Neue,Helvetica,sans-serif; font-size:48px; text-anchor:middle;\" transform=\"rotate(0, 1701.4, 1910.96)\" x=\"1701.4\" y=\"1910.96\">0.75</text>\n</g>\n<g clip-path=\"url(#clip2200)\">\n<text style=\"fill:#000000; fill-opacity:1; font-family:Arial,Helvetica Neue,Helvetica,sans-serif; font-size:48px; text-anchor:middle;\" transform=\"rotate(0, 2167.28, 1910.96)\" x=\"2167.28\" y=\"1910.96\">1.00</text>\n</g>\n<g clip-path=\"url(#clip2200)\">\n<text style=\"fill:#000000; fill-opacity:1; font-family:Arial,Helvetica Neue,Helvetica,sans-serif; font-size:48px; text-anchor:end;\" transform=\"rotate(0, 203.846, 1814.86)\" x=\"203.846\" y=\"1814.86\">0.00</text>\n</g>\n<g clip-path=\"url(#clip2200)\">\n<text style=\"fill:#000000; fill-opacity:1; font-family:Arial,Helvetica Neue,Helvetica,sans-serif; font-size:48px; text-anchor:end;\" transform=\"rotate(0, 203.846, 1401.53)\" x=\"203.846\" y=\"1401.53\">0.25</text>\n</g>\n<g clip-path=\"url(#clip2200)\">\n<text style=\"fill:#000000; fill-opacity:1; font-family:Arial,Helvetica Neue,Helvetica,sans-serif; font-size:48px; text-anchor:end;\" transform=\"rotate(0, 203.846, 988.194)\" x=\"203.846\" y=\"988.194\">0.50</text>\n</g>\n<g clip-path=\"url(#clip2200)\">\n<text style=\"fill:#000000; fill-opacity:1; font-family:Arial,Helvetica Neue,Helvetica,sans-serif; font-size:48px; text-anchor:end;\" transform=\"rotate(0, 203.846, 574.862)\" x=\"203.846\" y=\"574.862\">0.75</text>\n</g>\n<g clip-path=\"url(#clip2200)\">\n<text style=\"fill:#000000; fill-opacity:1; font-family:Arial,Helvetica Neue,Helvetica,sans-serif; font-size:48px; text-anchor:end;\" transform=\"rotate(0, 203.846, 161.529)\" x=\"203.846\" y=\"161.529\">1.00</text>\n</g>\n<polyline clip-path=\"url(#clip2202)\" style=\"stroke:#000000; stroke-width:4; stroke-opacity:1; fill:none\" points=\"\n  247.846,94.4295 2223.18,94.4295 \n  \"/>\n<polyline clip-path=\"url(#clip2202)\" style=\"stroke:#000000; stroke-width:4; stroke-opacity:1; fill:none\" points=\"\n  2223.18,1846.96 2223.18,94.4295 \n  \"/>\n<g clip-path=\"url(#clip2200)\">\n<text style=\"fill:#000000; fill-opacity:1; font-family:Arial,Helvetica Neue,Helvetica,sans-serif; font-size:66px; text-anchor:end;\" transform=\"rotate(0, 2223.18, 57.6)\" x=\"2223.18\" y=\"57.6\">2-Level System Rate Equations -- Solution</text>\n</g>\n<g clip-path=\"url(#clip2200)\">\n<text style=\"fill:#000000; fill-opacity:1; font-family:Arial,Helvetica Neue,Helvetica,sans-serif; font-size:66px; text-anchor:middle;\" transform=\"rotate(0, 1235.51, 2000.82)\" x=\"1235.51\" y=\"2000.82\">Time</text>\n</g>\n<g clip-path=\"url(#clip2200)\">\n<text style=\"fill:#000000; fill-opacity:1; font-family:Arial,Helvetica Neue,Helvetica,sans-serif; font-size:66px; text-anchor:middle;\" transform=\"rotate(-90, 54.6154, 970.694)\" x=\"54.6154\" y=\"970.694\">Level populations</text>\n</g>\n<path clip-path=\"url(#clip2200)\" d=\"\nM1589.67 479.389 L2091.18 479.389 L2091.18 297.949 L1589.67 297.949  Z\n  \" fill=\"#ffffff\" fill-rule=\"evenodd\" fill-opacity=\"1\"/>\n<polyline clip-path=\"url(#clip2200)\" style=\"stroke:#000000; stroke-width:4; stroke-opacity:1; fill:none\" points=\"\n  1589.67,479.389 2091.18,479.389 2091.18,297.949 1589.67,297.949 1589.67,479.389 \n  \"/>\n<polyline clip-path=\"url(#clip2200)\" style=\"stroke:#009af9; stroke-width:8; stroke-opacity:1; fill:none\" points=\"\n  1633.67,358.429 1897.67,358.429 \n  \"/>\n<g clip-path=\"url(#clip2200)\">\n<text style=\"fill:#000000; fill-opacity:1; font-family:Arial,Helvetica Neue,Helvetica,sans-serif; font-size:48px; text-anchor:start;\" transform=\"rotate(0, 1941.67, 375.929)\" x=\"1941.67\" y=\"375.929\">N1</text>\n</g>\n<polyline clip-path=\"url(#clip2200)\" style=\"stroke:#e26f46; stroke-width:8; stroke-opacity:1; fill:none\" points=\"\n  1633.67,418.909 1897.67,418.909 \n  \"/>\n<g clip-path=\"url(#clip2200)\">\n<text style=\"fill:#000000; fill-opacity:1; font-family:Arial,Helvetica Neue,Helvetica,sans-serif; font-size:48px; text-anchor:start;\" transform=\"rotate(0, 1941.67, 436.409)\" x=\"1941.67\" y=\"436.409\">N2</text>\n</g>\n<path clip-path=\"url(#clip2200)\" d=\"\nM2377.42 1846.96 L4352.76 1846.96 L4352.76 94.4295 L2377.42 94.4295  Z\n  \" fill=\"#ffffff\" fill-rule=\"evenodd\" fill-opacity=\"1\"/>\n<defs>\n  <clipPath id=\"clip2203\">\n    <rect x=\"2377\" y=\"94\" width=\"1976\" height=\"1754\"/>\n  </clipPath>\n</defs>\n<polyline clip-path=\"url(#clip2203)\" style=\"stroke:#000000; stroke-width:2; stroke-opacity:0.1; fill:none\" points=\"\n  2899.21,1846.96 2899.21,94.4295 \n  \"/>\n<polyline clip-path=\"url(#clip2203)\" style=\"stroke:#000000; stroke-width:2; stroke-opacity:0.1; fill:none\" points=\"\n  3830.97,1846.96 3830.97,94.4295 \n  \"/>\n<polyline clip-path=\"url(#clip2200)\" style=\"stroke:#000000; stroke-width:4; stroke-opacity:1; fill:none\" points=\"\n  2377.42,1846.96 4352.76,1846.96 \n  \"/>\n<polyline clip-path=\"url(#clip2200)\" style=\"stroke:#000000; stroke-width:4; stroke-opacity:1; fill:none\" points=\"\n  2377.42,1846.96 2377.42,94.4295 \n  \"/>\n<polyline clip-path=\"url(#clip2200)\" style=\"stroke:#000000; stroke-width:4; stroke-opacity:1; fill:none\" points=\"\n  2899.21,1846.96 2899.21,1825.93 \n  \"/>\n<polyline clip-path=\"url(#clip2200)\" style=\"stroke:#000000; stroke-width:4; stroke-opacity:1; fill:none\" points=\"\n  3830.97,1846.96 3830.97,1825.93 \n  \"/>\n<g clip-path=\"url(#clip2200)\">\n<text style=\"fill:#000000; fill-opacity:1; font-family:Arial,Helvetica Neue,Helvetica,sans-serif; font-size:48px; text-anchor:middle;\" transform=\"rotate(0, 2899.21, 1910.96)\" x=\"2899.21\" y=\"1910.96\">N1</text>\n</g>\n<g clip-path=\"url(#clip2200)\">\n<text style=\"fill:#000000; fill-opacity:1; font-family:Arial,Helvetica Neue,Helvetica,sans-serif; font-size:48px; text-anchor:middle;\" transform=\"rotate(0, 3830.97, 1910.96)\" x=\"3830.97\" y=\"1910.96\">N2</text>\n</g>\n<polyline clip-path=\"url(#clip2203)\" style=\"stroke:#000000; stroke-width:4; stroke-opacity:1; fill:none\" points=\"\n  2377.42,94.4295 4352.76,94.4295 \n  \"/>\n<polyline clip-path=\"url(#clip2203)\" style=\"stroke:#000000; stroke-width:4; stroke-opacity:1; fill:none\" points=\"\n  4352.76,1846.96 4352.76,94.4295 \n  \"/>\n<path clip-path=\"url(#clip2203)\" d=\"\nM2433.32 1394.36 L3365.09 1394.36 L3365.09 1373.69 L2433.32 1373.69 L2433.32 1394.36  Z\n  \" fill=\"#0000ff\" fill-rule=\"evenodd\" fill-opacity=\"1\"/>\n<polyline clip-path=\"url(#clip2203)\" style=\"stroke:#000000; stroke-width:4; stroke-opacity:1; fill:none\" points=\"\n  2433.32,1394.36 3365.09,1394.36 3365.09,1373.69 2433.32,1373.69 2433.32,1394.36 \n  \"/>\n<path clip-path=\"url(#clip2203)\" d=\"\nM3365.09 567.695 L4296.85 567.695 L4296.85 547.028 L3365.09 547.028 L3365.09 567.695  Z\n  \" fill=\"#ff0000\" fill-rule=\"evenodd\" fill-opacity=\"1\"/>\n<polyline clip-path=\"url(#clip2203)\" style=\"stroke:#000000; stroke-width:4; stroke-opacity:1; fill:none\" points=\"\n  3365.09,567.695 4296.85,567.695 4296.85,547.028 3365.09,547.028 3365.09,567.695 \n  \"/>\n<path clip-path=\"url(#clip2203)\" d=\"\nM2433.32 1797.36 L4296.85 1797.36 L4296.85 144.029 L2433.32 144.029 L2433.32 1797.36  Z\n  \" fill=\"#ffffff\" fill-rule=\"evenodd\" fill-opacity=\"0\"/>\n<polyline clip-path=\"url(#clip2203)\" style=\"stroke:#000000; stroke-width:0; stroke-opacity:1; fill:none\" points=\"\n  2433.32,1797.36 4296.85,1797.36 4296.85,144.029 2433.32,144.029 2433.32,1797.36 \n  \"/>\n<path clip-path=\"url(#clip2203)\" d=\"\nM2806.03 1373.69 L2992.38 1373.69 L2992.38 993.325 L2806.03 993.325 L2806.03 1373.69  Z\n  \" fill=\"#0000ff\" fill-rule=\"evenodd\" fill-opacity=\"0.5\"/>\n<polyline clip-path=\"url(#clip2203)\" style=\"stroke:#000000; stroke-width:4; stroke-opacity:1; fill:none\" points=\"\n  2806.03,1373.69 2992.38,1373.69 2992.38,993.325 2806.03,993.325 2806.03,1373.69 \n  \"/>\n<path clip-path=\"url(#clip2203)\" d=\"\nM3737.79 547.028 L3924.15 547.028 L3924.15 514.064 L3737.79 514.064 L3737.79 547.028  Z\n  \" fill=\"#ff0000\" fill-rule=\"evenodd\" fill-opacity=\"0.5\"/>\n<polyline clip-path=\"url(#clip2203)\" style=\"stroke:#000000; stroke-width:4; stroke-opacity:1; fill:none\" points=\"\n  3737.79,547.028 3924.15,547.028 3924.15,514.064 3737.79,514.064 3737.79,547.028 \n  \"/>\n</svg>\n"
               },
               "type": "node"
              }
             ],
             "instanceArgs": {
              "namespace": "html",
              "tag": "div"
             },
             "nodeType": "DOM",
             "props": {
              "className": "interact-flex-row interact-widget"
             },
             "type": "node"
            }
           }
          },
          "systemjs_options": null
         },
         "nodeType": "Scope",
         "props": {},
         "type": "node"
        }
       ],
       "instanceArgs": {
        "namespace": "html",
        "tag": "div"
       },
       "nodeType": "DOM",
       "props": {},
       "type": "node"
      },
      "text/html": [
       "<div\n",
       "    class=\"webio-mountpoint\"\n",
       "    data-webio-mountpoint=\"3262942634983666411\"\n",
       ">\n",
       "    <script>\n",
       "    if (window.require && require.defined && require.defined(\"nbextensions/webio-jupyter-notebook\")) {\n",
       "        console.log(\"Jupyter WebIO extension detected, not mounting.\");\n",
       "    } else if (window.WebIO) {\n",
       "        WebIO.mount(\n",
       "            document.querySelector('[data-webio-mountpoint=\"3262942634983666411\"]'),\n",
       "            {\"props\":{},\"nodeType\":\"DOM\",\"type\":\"node\",\"instanceArgs\":{\"namespace\":\"html\",\"tag\":\"div\"},\"children\":[{\"props\":{\"className\":\"field interact-widget\"},\"nodeType\":\"DOM\",\"type\":\"node\",\"instanceArgs\":{\"namespace\":\"html\",\"tag\":\"div\"},\"children\":[{\"props\":{},\"nodeType\":\"Scope\",\"type\":\"node\",\"instanceArgs\":{\"imports\":{\"data\":[{\"name\":\"knockout\",\"type\":\"js\",\"url\":\"\\/assetserver\\/58532c656e5c3ea95bc9e6ba08f6e0bbf64f3349-knockout.js\"},{\"name\":\"knockout_punches\",\"type\":\"js\",\"url\":\"\\/assetserver\\/97167f822e98661cc85dd010a2419f4651aeb9c6-knockout_punches.js\"},{\"name\":null,\"type\":\"js\",\"url\":\"\\/assetserver\\/c7daed194cd9e562afee3f059fad5f8587c42456-all.js\"},{\"name\":null,\"type\":\"css\",\"url\":\"\\/assetserver\\/3f97f38d83fe3be07cf18967ab9d3b51834c3353-style.css\"},{\"name\":null,\"type\":\"css\",\"url\":\"\\/assetserver\\/075c8efb747833dacc2bae1590f31f6a06a5b55a-bulma_confined.min.css\"}],\"type\":\"async_block\"},\"id\":\"15901082428430300200\",\"handlers\":{\"changes\":[\"(function (val){return (val!=this.model[\\\"changes\\\"]()) ? (this.valueFromJulia[\\\"changes\\\"]=true, this.model[\\\"changes\\\"](val)) : undefined})\"],\"index\":[\"(function (val){return (val!=this.model[\\\"index\\\"]()) ? (this.valueFromJulia[\\\"index\\\"]=true, this.model[\\\"index\\\"](val)) : undefined})\"]},\"systemjs_options\":null,\"mount_callbacks\":[\"function () {\\n    var handler = (function (ko, koPunches) {\\n    ko.punches.enableAll();\\n    ko.bindingHandlers.numericValue = {\\n        init: function(element, valueAccessor, allBindings, data, context) {\\n            var stringified = ko.observable(ko.unwrap(valueAccessor()));\\n            stringified.subscribe(function(value) {\\n                var val = parseFloat(value);\\n                if (!isNaN(val)) {\\n                    valueAccessor()(val);\\n                }\\n            });\\n            valueAccessor().subscribe(function(value) {\\n                var str = JSON.stringify(value);\\n                if ((str == \\\"0\\\") && ([\\\"-0\\\", \\\"-0.\\\"].indexOf(stringified()) >= 0))\\n                     return;\\n                 if ([\\\"null\\\", \\\"\\\"].indexOf(str) >= 0)\\n                     return;\\n                stringified(str);\\n            });\\n            ko.applyBindingsToNode(\\n                element,\\n                {\\n                    value: stringified,\\n                    valueUpdate: allBindings.get('valueUpdate'),\\n                },\\n                context,\\n            );\\n        }\\n    };\\n    var json_data = {\\\"formatted_vals\\\":[\\\"1\\\",\\\"2\\\",\\\"3\\\",\\\"4\\\",\\\"5\\\",\\\"6\\\",\\\"7\\\",\\\"8\\\",\\\"9\\\",\\\"10\\\",\\\"11\\\",\\\"12\\\",\\\"13\\\",\\\"14\\\",\\\"15\\\",\\\"16\\\",\\\"17\\\",\\\"18\\\",\\\"19\\\",\\\"20\\\",\\\"21\\\",\\\"22\\\",\\\"23\\\",\\\"24\\\",\\\"25\\\",\\\"26\\\",\\\"27\\\",\\\"28\\\",\\\"29\\\",\\\"30\\\",\\\"31\\\",\\\"32\\\",\\\"33\\\",\\\"34\\\",\\\"35\\\",\\\"36\\\",\\\"37\\\",\\\"38\\\",\\\"39\\\",\\\"40\\\",\\\"41\\\",\\\"42\\\",\\\"43\\\",\\\"44\\\",\\\"45\\\",\\\"46\\\",\\\"47\\\",\\\"48\\\",\\\"49\\\",\\\"50\\\",\\\"51\\\",\\\"52\\\",\\\"53\\\",\\\"54\\\",\\\"55\\\",\\\"56\\\",\\\"57\\\",\\\"58\\\",\\\"59\\\",\\\"60\\\",\\\"61\\\",\\\"62\\\",\\\"63\\\",\\\"64\\\",\\\"65\\\",\\\"66\\\",\\\"67\\\",\\\"68\\\",\\\"69\\\",\\\"70\\\",\\\"71\\\",\\\"72\\\",\\\"73\\\",\\\"74\\\",\\\"75\\\",\\\"76\\\",\\\"77\\\",\\\"78\\\",\\\"79\\\",\\\"80\\\",\\\"81\\\",\\\"82\\\",\\\"83\\\",\\\"84\\\",\\\"85\\\",\\\"86\\\",\\\"87\\\",\\\"88\\\",\\\"89\\\",\\\"90\\\",\\\"91\\\",\\\"92\\\",\\\"93\\\",\\\"94\\\",\\\"95\\\",\\\"96\\\",\\\"97\\\",\\\"98\\\",\\\"99\\\",\\\"100\\\",\\\"101\\\",\\\"102\\\",\\\"103\\\",\\\"104\\\",\\\"105\\\",\\\"106\\\",\\\"107\\\",\\\"108\\\",\\\"109\\\",\\\"110\\\",\\\"111\\\",\\\"112\\\",\\\"113\\\",\\\"114\\\",\\\"115\\\",\\\"116\\\",\\\"117\\\",\\\"118\\\"],\\\"changes\\\":WebIO.getval({\\\"name\\\":\\\"changes\\\",\\\"scope\\\":\\\"15901082428430300200\\\",\\\"id\\\":\\\"ob_82\\\",\\\"type\\\":\\\"observable\\\"}),\\\"index\\\":WebIO.getval({\\\"name\\\":\\\"index\\\",\\\"scope\\\":\\\"15901082428430300200\\\",\\\"id\\\":\\\"ob_81\\\",\\\"type\\\":\\\"observable\\\"})};\\n    var self = this;\\n    function AppViewModel() {\\n        for (var key in json_data) {\\n            var el = json_data[key];\\n            this[key] = Array.isArray(el) ? ko.observableArray(el) : ko.observable(el);\\n        }\\n        \\n        [this[\\\"formatted_val\\\"]=ko.computed(    function(){\\n        return this.formatted_vals()[parseInt(this.index())-(1)];\\n    }\\n,this)]\\n        [this[\\\"changes\\\"].subscribe((function (val){!(this.valueFromJulia[\\\"changes\\\"]) ? (WebIO.setval({\\\"name\\\":\\\"changes\\\",\\\"scope\\\":\\\"15901082428430300200\\\",\\\"id\\\":\\\"ob_82\\\",\\\"type\\\":\\\"observable\\\"},val)) : undefined; return this.valueFromJulia[\\\"changes\\\"]=false}),self),this[\\\"index\\\"].subscribe((function (val){!(this.valueFromJulia[\\\"index\\\"]) ? (WebIO.setval({\\\"name\\\":\\\"index\\\",\\\"scope\\\":\\\"15901082428430300200\\\",\\\"id\\\":\\\"ob_81\\\",\\\"type\\\":\\\"observable\\\"},val)) : undefined; return this.valueFromJulia[\\\"index\\\"]=false}),self)]\\n        \\n    }\\n    self.model = new AppViewModel();\\n    self.valueFromJulia = {};\\n    for (var key in json_data) {\\n        self.valueFromJulia[key] = false;\\n    }\\n    ko.applyBindings(self.model, self.dom);\\n}\\n);\\n    (WebIO.importBlock({\\\"data\\\":[{\\\"name\\\":\\\"knockout\\\",\\\"type\\\":\\\"js\\\",\\\"url\\\":\\\"\\/assetserver\\/58532c656e5c3ea95bc9e6ba08f6e0bbf64f3349-knockout.js\\\"},{\\\"name\\\":\\\"knockout_punches\\\",\\\"type\\\":\\\"js\\\",\\\"url\\\":\\\"\\/assetserver\\/97167f822e98661cc85dd010a2419f4651aeb9c6-knockout_punches.js\\\"}],\\\"type\\\":\\\"async_block\\\"})).then((imports) => handler.apply(this, imports));\\n}\\n\"],\"observables\":{\"changes\":{\"sync\":false,\"id\":\"ob_82\",\"value\":0},\"index\":{\"sync\":true,\"id\":\"ob_81\",\"value\":1}}},\"children\":[{\"props\":{\"className\":\"interact-flex-row interact-widget\"},\"nodeType\":\"DOM\",\"type\":\"node\",\"instanceArgs\":{\"namespace\":\"html\",\"tag\":\"div\"},\"children\":[{\"props\":{\"className\":\"interact-flex-row-left\"},\"nodeType\":\"DOM\",\"type\":\"node\",\"instanceArgs\":{\"namespace\":\"html\",\"tag\":\"div\"},\"children\":[{\"props\":{\"className\":\"interact \",\"style\":{\"padding\":\"5px 10px 0px 10px\"}},\"nodeType\":\"DOM\",\"type\":\"node\",\"instanceArgs\":{\"namespace\":\"html\",\"tag\":\"label\"},\"children\":[\"Time\"]}]},{\"props\":{\"className\":\"interact-flex-row-center\"},\"nodeType\":\"DOM\",\"type\":\"node\",\"instanceArgs\":{\"namespace\":\"html\",\"tag\":\"div\"},\"children\":[{\"props\":{\"max\":118,\"min\":1,\"attributes\":{\"type\":\"range\",\"data-bind\":\"numericValue: index, valueUpdate: 'input', event: {change: function (){this.changes(this.changes()+1)}}\",\"orient\":\"horizontal\"},\"step\":1,\"className\":\"slider slider is-fullwidth\",\"style\":{}},\"nodeType\":\"DOM\",\"type\":\"node\",\"instanceArgs\":{\"namespace\":\"html\",\"tag\":\"input\"},\"children\":[]}]},{\"props\":{\"className\":\"interact-flex-row-right\"},\"nodeType\":\"DOM\",\"type\":\"node\",\"instanceArgs\":{\"namespace\":\"html\",\"tag\":\"div\"},\"children\":[{\"props\":{\"attributes\":{\"data-bind\":\"text: formatted_val\"}},\"nodeType\":\"DOM\",\"type\":\"node\",\"instanceArgs\":{\"namespace\":\"html\",\"tag\":\"p\"},\"children\":[]}]}]}]}]},{\"props\":{},\"nodeType\":\"Scope\",\"type\":\"node\",\"instanceArgs\":{\"imports\":{\"data\":[],\"type\":\"async_block\"},\"id\":\"1407867642673873124\",\"handlers\":{},\"systemjs_options\":null,\"mount_callbacks\":[],\"observables\":{\"obs-node\":{\"sync\":false,\"id\":\"ob_86\",\"value\":{\"props\":{\"className\":\"interact-flex-row interact-widget\"},\"nodeType\":\"DOM\",\"type\":\"node\",\"instanceArgs\":{\"namespace\":\"html\",\"tag\":\"div\"},\"children\":[{\"props\":{\"setInnerHtml\":\"<?xml version=\\\"1.0\\\" encoding=\\\"utf-8\\\"?>\\n<svg xmlns=\\\"http:\\/\\/www.w3.org\\/2000\\/svg\\\" xmlns:xlink=\\\"http:\\/\\/www.w3.org\\/1999\\/xlink\\\" width=\\\"1100\\\" height=\\\"500\\\" viewBox=\\\"0 0 4400 2000\\\">\\n<defs>\\n  <clipPath id=\\\"clip1800\\\">\\n    <rect x=\\\"0\\\" y=\\\"0\\\" width=\\\"4400\\\" height=\\\"2000\\\"\\/>\\n  <\\/clipPath>\\n<\\/defs>\\n<path clip-path=\\\"url(#clip1800)\\\" d=\\\"\\nM0 2000 L4400 2000 L4400 0 L0 0  Z\\n  \\\" fill=\\\"#ffffff\\\" fill-rule=\\\"evenodd\\\" fill-opacity=\\\"1\\\"\\/>\\n<defs>\\n  <clipPath id=\\\"clip1801\\\">\\n    <rect x=\\\"880\\\" y=\\\"0\\\" width=\\\"3081\\\" height=\\\"2000\\\"\\/>\\n  <\\/clipPath>\\n<\\/defs>\\n<path clip-path=\\\"url(#clip1800)\\\" d=\\\"\\nM247.846 1846.96 L2223.18 1846.96 L2223.18 94.4295 L247.846 94.4295  Z\\n  \\\" fill=\\\"#ffffff\\\" fill-rule=\\\"evenodd\\\" fill-opacity=\\\"1\\\"\\/>\\n<defs>\\n  <clipPath id=\\\"clip1802\\\">\\n    <rect x=\\\"247\\\" y=\\\"94\\\" width=\\\"1976\\\" height=\\\"1754\\\"\\/>\\n  <\\/clipPath>\\n<\\/defs>\\n<polyline clip-path=\\\"url(#clip1802)\\\" style=\\\"stroke:#000000; stroke-width:2; stroke-opacity:0.1; fill:none\\\" points=\\\"\\n  303.751,1846.96 303.751,94.4295 \\n  \\\"\\/>\\n<polyline clip-path=\\\"url(#clip1802)\\\" style=\\\"stroke:#000000; stroke-width:2; stroke-opacity:0.1; fill:none\\\" points=\\\"\\n  769.633,1846.96 769.633,94.4295 \\n  \\\"\\/>\\n<polyline clip-path=\\\"url(#clip1802)\\\" style=\\\"stroke:#000000; stroke-width:2; stroke-opacity:0.1; fill:none\\\" points=\\\"\\n  1235.51,1846.96 1235.51,94.4295 \\n  \\\"\\/>\\n<polyline clip-path=\\\"url(#clip1802)\\\" style=\\\"stroke:#000000; stroke-width:2; stroke-opacity:0.1; fill:none\\\" points=\\\"\\n  1701.4,1846.96 1701.4,94.4295 \\n  \\\"\\/>\\n<polyline clip-path=\\\"url(#clip1802)\\\" style=\\\"stroke:#000000; stroke-width:2; stroke-opacity:0.1; fill:none\\\" points=\\\"\\n  2167.28,1846.96 2167.28,94.4295 \\n  \\\"\\/>\\n<polyline clip-path=\\\"url(#clip1802)\\\" style=\\\"stroke:#000000; stroke-width:2; stroke-opacity:0.1; fill:none\\\" points=\\\"\\n  247.846,1797.36 2223.18,1797.36 \\n  \\\"\\/>\\n<polyline clip-path=\\\"url(#clip1802)\\\" style=\\\"stroke:#000000; stroke-width:2; stroke-opacity:0.1; fill:none\\\" points=\\\"\\n  247.846,1384.03 2223.18,1384.03 \\n  \\\"\\/>\\n<polyline clip-path=\\\"url(#clip1802)\\\" style=\\\"stroke:#000000; stroke-width:2; stroke-opacity:0.1; fill:none\\\" points=\\\"\\n  247.846,970.694 2223.18,970.694 \\n  \\\"\\/>\\n<polyline clip-path=\\\"url(#clip1802)\\\" style=\\\"stroke:#000000; stroke-width:2; stroke-opacity:0.1; fill:none\\\" points=\\\"\\n  247.846,557.362 2223.18,557.362 \\n  \\\"\\/>\\n<polyline clip-path=\\\"url(#clip1802)\\\" style=\\\"stroke:#000000; stroke-width:2; stroke-opacity:0.1; fill:none\\\" points=\\\"\\n  247.846,144.029 2223.18,144.029 \\n  \\\"\\/>\\n<polyline clip-path=\\\"url(#clip1800)\\\" style=\\\"stroke:#000000; stroke-width:4; stroke-opacity:1; fill:none\\\" points=\\\"\\n  247.846,1846.96 2223.18,1846.96 \\n  \\\"\\/>\\n<polyline clip-path=\\\"url(#clip1800)\\\" style=\\\"stroke:#000000; stroke-width:4; stroke-opacity:1; fill:none\\\" points=\\\"\\n  247.846,1846.96 247.846,94.4295 \\n  \\\"\\/>\\n<polyline clip-path=\\\"url(#clip1800)\\\" style=\\\"stroke:#000000; stroke-width:4; stroke-opacity:1; fill:none\\\" points=\\\"\\n  303.751,1846.96 303.751,1825.93 \\n  \\\"\\/>\\n<polyline clip-path=\\\"url(#clip1800)\\\" style=\\\"stroke:#000000; stroke-width:4; stroke-opacity:1; fill:none\\\" points=\\\"\\n  769.633,1846.96 769.633,1825.93 \\n  \\\"\\/>\\n<polyline clip-path=\\\"url(#clip1800)\\\" style=\\\"stroke:#000000; stroke-width:4; stroke-opacity:1; fill:none\\\" points=\\\"\\n  1235.51,1846.96 1235.51,1825.93 \\n  \\\"\\/>\\n<polyline clip-path=\\\"url(#clip1800)\\\" style=\\\"stroke:#000000; stroke-width:4; stroke-opacity:1; fill:none\\\" points=\\\"\\n  1701.4,1846.96 1701.4,1825.93 \\n  \\\"\\/>\\n<polyline clip-path=\\\"url(#clip1800)\\\" style=\\\"stroke:#000000; stroke-width:4; stroke-opacity:1; fill:none\\\" points=\\\"\\n  2167.28,1846.96 2167.28,1825.93 \\n  \\\"\\/>\\n<polyline clip-path=\\\"url(#clip1800)\\\" style=\\\"stroke:#000000; stroke-width:4; stroke-opacity:1; fill:none\\\" points=\\\"\\n  247.846,1797.36 271.55,1797.36 \\n  \\\"\\/>\\n<polyline clip-path=\\\"url(#clip1800)\\\" style=\\\"stroke:#000000; stroke-width:4; stroke-opacity:1; fill:none\\\" points=\\\"\\n  247.846,1384.03 271.55,1384.03 \\n  \\\"\\/>\\n<polyline clip-path=\\\"url(#clip1800)\\\" style=\\\"stroke:#000000; stroke-width:4; stroke-opacity:1; fill:none\\\" points=\\\"\\n  247.846,970.694 271.55,970.694 \\n  \\\"\\/>\\n<polyline clip-path=\\\"url(#clip1800)\\\" style=\\\"stroke:#000000; stroke-width:4; stroke-opacity:1; fill:none\\\" points=\\\"\\n  247.846,557.362 271.55,557.362 \\n  \\\"\\/>\\n<polyline clip-path=\\\"url(#clip1800)\\\" style=\\\"stroke:#000000; stroke-width:4; stroke-opacity:1; fill:none\\\" points=\\\"\\n  247.846,144.029 271.55,144.029 \\n  \\\"\\/>\\n<g clip-path=\\\"url(#clip1800)\\\">\\n<text style=\\\"fill:#000000; fill-opacity:1; font-family:Arial,Helvetica Neue,Helvetica,sans-serif; font-size:48px; text-anchor:middle;\\\" transform=\\\"rotate(0, 303.751, 1910.96)\\\" x=\\\"303.751\\\" y=\\\"1910.96\\\">0.00<\\/text>\\n<\\/g>\\n<g clip-path=\\\"url(#clip1800)\\\">\\n<text style=\\\"fill:#000000; fill-opacity:1; font-family:Arial,Helvetica Neue,Helvetica,sans-serif; font-size:48px; text-anchor:middle;\\\" transform=\\\"rotate(0, 769.633, 1910.96)\\\" x=\\\"769.633\\\" y=\\\"1910.96\\\">0.25<\\/text>\\n<\\/g>\\n<g clip-path=\\\"url(#clip1800)\\\">\\n<text style=\\\"fill:#000000; fill-opacity:1; font-family:Arial,Helvetica Neue,Helvetica,sans-serif; font-size:48px; text-anchor:middle;\\\" transform=\\\"rotate(0, 1235.51, 1910.96)\\\" x=\\\"1235.51\\\" y=\\\"1910.96\\\">0.50<\\/text>\\n<\\/g>\\n<g clip-path=\\\"url(#clip1800)\\\">\\n<text style=\\\"fill:#000000; fill-opacity:1; font-family:Arial,Helvetica Neue,Helvetica,sans-serif; font-size:48px; text-anchor:middle;\\\" transform=\\\"rotate(0, 1701.4, 1910.96)\\\" x=\\\"1701.4\\\" y=\\\"1910.96\\\">0.75<\\/text>\\n<\\/g>\\n<g clip-path=\\\"url(#clip1800)\\\">\\n<text style=\\\"fill:#000000; fill-opacity:1; font-family:Arial,Helvetica Neue,Helvetica,sans-serif; font-size:48px; text-anchor:middle;\\\" transform=\\\"rotate(0, 2167.28, 1910.96)\\\" x=\\\"2167.28\\\" y=\\\"1910.96\\\">1.00<\\/text>\\n<\\/g>\\n<g clip-path=\\\"url(#clip1800)\\\">\\n<text style=\\\"fill:#000000; fill-opacity:1; font-family:Arial,Helvetica Neue,Helvetica,sans-serif; font-size:48px; text-anchor:end;\\\" transform=\\\"rotate(0, 203.846, 1814.86)\\\" x=\\\"203.846\\\" y=\\\"1814.86\\\">0.00<\\/text>\\n<\\/g>\\n<g clip-path=\\\"url(#clip1800)\\\">\\n<text style=\\\"fill:#000000; fill-opacity:1; font-family:Arial,Helvetica Neue,Helvetica,sans-serif; font-size:48px; text-anchor:end;\\\" transform=\\\"rotate(0, 203.846, 1401.53)\\\" x=\\\"203.846\\\" y=\\\"1401.53\\\">0.25<\\/text>\\n<\\/g>\\n<g clip-path=\\\"url(#clip1800)\\\">\\n<text style=\\\"fill:#000000; fill-opacity:1; font-family:Arial,Helvetica Neue,Helvetica,sans-serif; font-size:48px; text-anchor:end;\\\" transform=\\\"rotate(0, 203.846, 988.194)\\\" x=\\\"203.846\\\" y=\\\"988.194\\\">0.50<\\/text>\\n<\\/g>\\n<g clip-path=\\\"url(#clip1800)\\\">\\n<text style=\\\"fill:#000000; fill-opacity:1; font-family:Arial,Helvetica Neue,Helvetica,sans-serif; font-size:48px; text-anchor:end;\\\" transform=\\\"rotate(0, 203.846, 574.862)\\\" x=\\\"203.846\\\" y=\\\"574.862\\\">0.75<\\/text>\\n<\\/g>\\n<g clip-path=\\\"url(#clip1800)\\\">\\n<text style=\\\"fill:#000000; fill-opacity:1; font-family:Arial,Helvetica Neue,Helvetica,sans-serif; font-size:48px; text-anchor:end;\\\" transform=\\\"rotate(0, 203.846, 161.529)\\\" x=\\\"203.846\\\" y=\\\"161.529\\\">1.00<\\/text>\\n<\\/g>\\n<polyline clip-path=\\\"url(#clip1802)\\\" style=\\\"stroke:#000000; stroke-width:4; stroke-opacity:1; fill:none\\\" points=\\\"\\n  247.846,94.4295 2223.18,94.4295 \\n  \\\"\\/>\\n<polyline clip-path=\\\"url(#clip1802)\\\" style=\\\"stroke:#000000; stroke-width:4; stroke-opacity:1; fill:none\\\" points=\\\"\\n  2223.18,1846.96 2223.18,94.4295 \\n  \\\"\\/>\\n<g clip-path=\\\"url(#clip1800)\\\">\\n<text style=\\\"fill:#000000; fill-opacity:1; font-family:Arial,Helvetica Neue,Helvetica,sans-serif; font-size:66px; text-anchor:end;\\\" transform=\\\"rotate(0, 2223.18, 57.6)\\\" x=\\\"2223.18\\\" y=\\\"57.6\\\">2-Level System Rate Equations -- Solution<\\/text>\\n<\\/g>\\n<g clip-path=\\\"url(#clip1800)\\\">\\n<text style=\\\"fill:#000000; fill-opacity:1; font-family:Arial,Helvetica Neue,Helvetica,sans-serif; font-size:66px; text-anchor:middle;\\\" transform=\\\"rotate(0, 1235.51, 2000.82)\\\" x=\\\"1235.51\\\" y=\\\"2000.82\\\">Time<\\/text>\\n<\\/g>\\n<g clip-path=\\\"url(#clip1800)\\\">\\n<text style=\\\"fill:#000000; fill-opacity:1; font-family:Arial,Helvetica Neue,Helvetica,sans-serif; font-size:66px; text-anchor:middle;\\\" transform=\\\"rotate(-90, 54.6154, 970.694)\\\" x=\\\"54.6154\\\" y=\\\"970.694\\\">Level populations<\\/text>\\n<\\/g>\\n<path clip-path=\\\"url(#clip1800)\\\" d=\\\"\\nM1589.67 479.389 L2091.18 479.389 L2091.18 297.949 L1589.67 297.949  Z\\n  \\\" fill=\\\"#ffffff\\\" fill-rule=\\\"evenodd\\\" fill-opacity=\\\"1\\\"\\/>\\n<polyline clip-path=\\\"url(#clip1800)\\\" style=\\\"stroke:#000000; stroke-width:4; stroke-opacity:1; fill:none\\\" points=\\\"\\n  1589.67,479.389 2091.18,479.389 2091.18,297.949 1589.67,297.949 1589.67,479.389 \\n  \\\"\\/>\\n<polyline clip-path=\\\"url(#clip1800)\\\" style=\\\"stroke:#009af9; stroke-width:8; stroke-opacity:1; fill:none\\\" points=\\\"\\n  1633.67,358.429 1897.67,358.429 \\n  \\\"\\/>\\n<g clip-path=\\\"url(#clip1800)\\\">\\n<text style=\\\"fill:#000000; fill-opacity:1; font-family:Arial,Helvetica Neue,Helvetica,sans-serif; font-size:48px; text-anchor:start;\\\" transform=\\\"rotate(0, 1941.67, 375.929)\\\" x=\\\"1941.67\\\" y=\\\"375.929\\\">N1<\\/text>\\n<\\/g>\\n<polyline clip-path=\\\"url(#clip1800)\\\" style=\\\"stroke:#e26f46; stroke-width:8; stroke-opacity:1; fill:none\\\" points=\\\"\\n  1633.67,418.909 1897.67,418.909 \\n  \\\"\\/>\\n<g clip-path=\\\"url(#clip1800)\\\">\\n<text style=\\\"fill:#000000; fill-opacity:1; font-family:Arial,Helvetica Neue,Helvetica,sans-serif; font-size:48px; text-anchor:start;\\\" transform=\\\"rotate(0, 1941.67, 436.409)\\\" x=\\\"1941.67\\\" y=\\\"436.409\\\">N2<\\/text>\\n<\\/g>\\n<path clip-path=\\\"url(#clip1800)\\\" d=\\\"\\nM2377.42 1846.96 L4352.76 1846.96 L4352.76 94.4295 L2377.42 94.4295  Z\\n  \\\" fill=\\\"#ffffff\\\" fill-rule=\\\"evenodd\\\" fill-opacity=\\\"1\\\"\\/>\\n<defs>\\n  <clipPath id=\\\"clip1803\\\">\\n    <rect x=\\\"2377\\\" y=\\\"94\\\" width=\\\"1976\\\" height=\\\"1754\\\"\\/>\\n  <\\/clipPath>\\n<\\/defs>\\n<polyline clip-path=\\\"url(#clip1803)\\\" style=\\\"stroke:#000000; stroke-width:2; stroke-opacity:0.1; fill:none\\\" points=\\\"\\n  2899.21,1846.96 2899.21,94.4295 \\n  \\\"\\/>\\n<polyline clip-path=\\\"url(#clip1803)\\\" style=\\\"stroke:#000000; stroke-width:2; stroke-opacity:0.1; fill:none\\\" points=\\\"\\n  3830.97,1846.96 3830.97,94.4295 \\n  \\\"\\/>\\n<polyline clip-path=\\\"url(#clip1800)\\\" style=\\\"stroke:#000000; stroke-width:4; stroke-opacity:1; fill:none\\\" points=\\\"\\n  2377.42,1846.96 4352.76,1846.96 \\n  \\\"\\/>\\n<polyline clip-path=\\\"url(#clip1800)\\\" style=\\\"stroke:#000000; stroke-width:4; stroke-opacity:1; fill:none\\\" points=\\\"\\n  2377.42,1846.96 2377.42,94.4295 \\n  \\\"\\/>\\n<polyline clip-path=\\\"url(#clip1800)\\\" style=\\\"stroke:#000000; stroke-width:4; stroke-opacity:1; fill:none\\\" points=\\\"\\n  2899.21,1846.96 2899.21,1825.93 \\n  \\\"\\/>\\n<polyline clip-path=\\\"url(#clip1800)\\\" style=\\\"stroke:#000000; stroke-width:4; stroke-opacity:1; fill:none\\\" points=\\\"\\n  3830.97,1846.96 3830.97,1825.93 \\n  \\\"\\/>\\n<g clip-path=\\\"url(#clip1800)\\\">\\n<text style=\\\"fill:#000000; fill-opacity:1; font-family:Arial,Helvetica Neue,Helvetica,sans-serif; font-size:48px; text-anchor:middle;\\\" transform=\\\"rotate(0, 2899.21, 1910.96)\\\" x=\\\"2899.21\\\" y=\\\"1910.96\\\">N1<\\/text>\\n<\\/g>\\n<g clip-path=\\\"url(#clip1800)\\\">\\n<text style=\\\"fill:#000000; fill-opacity:1; font-family:Arial,Helvetica Neue,Helvetica,sans-serif; font-size:48px; text-anchor:middle;\\\" transform=\\\"rotate(0, 3830.97, 1910.96)\\\" x=\\\"3830.97\\\" y=\\\"1910.96\\\">N2<\\/text>\\n<\\/g>\\n<polyline clip-path=\\\"url(#clip1803)\\\" style=\\\"stroke:#000000; stroke-width:4; stroke-opacity:1; fill:none\\\" points=\\\"\\n  2377.42,94.4295 4352.76,94.4295 \\n  \\\"\\/>\\n<polyline clip-path=\\\"url(#clip1803)\\\" style=\\\"stroke:#000000; stroke-width:4; stroke-opacity:1; fill:none\\\" points=\\\"\\n  4352.76,1846.96 4352.76,94.4295 \\n  \\\"\\/>\\n<path clip-path=\\\"url(#clip1803)\\\" d=\\\"\\nM2433.32 1394.36 L3365.09 1394.36 L3365.09 1373.69 L2433.32 1373.69 L2433.32 1394.36  Z\\n  \\\" fill=\\\"#0000ff\\\" fill-rule=\\\"evenodd\\\" fill-opacity=\\\"1\\\"\\/>\\n<polyline clip-path=\\\"url(#clip1803)\\\" style=\\\"stroke:#000000; stroke-width:4; stroke-opacity:1; fill:none\\\" points=\\\"\\n  2433.32,1394.36 3365.09,1394.36 3365.09,1373.69 2433.32,1373.69 2433.32,1394.36 \\n  \\\"\\/>\\n<path clip-path=\\\"url(#clip1803)\\\" d=\\\"\\nM3365.09 567.695 L4296.85 567.695 L4296.85 547.028 L3365.09 547.028 L3365.09 567.695  Z\\n  \\\" fill=\\\"#ff0000\\\" fill-rule=\\\"evenodd\\\" fill-opacity=\\\"1\\\"\\/>\\n<polyline clip-path=\\\"url(#clip1803)\\\" style=\\\"stroke:#000000; stroke-width:4; stroke-opacity:1; fill:none\\\" points=\\\"\\n  3365.09,567.695 4296.85,567.695 4296.85,547.028 3365.09,547.028 3365.09,567.695 \\n  \\\"\\/>\\n<path clip-path=\\\"url(#clip1803)\\\" d=\\\"\\nM2433.32 1797.36 L4296.85 1797.36 L4296.85 144.029 L2433.32 144.029 L2433.32 1797.36  Z\\n  \\\" fill=\\\"#ffffff\\\" fill-rule=\\\"evenodd\\\" fill-opacity=\\\"0\\\"\\/>\\n<polyline clip-path=\\\"url(#clip1803)\\\" style=\\\"stroke:#000000; stroke-width:0; stroke-opacity:1; fill:none\\\" points=\\\"\\n  2433.32,1797.36 4296.85,1797.36 4296.85,144.029 2433.32,144.029 2433.32,1797.36 \\n  \\\"\\/>\\n<path clip-path=\\\"url(#clip1803)\\\" d=\\\"\\nM2806.03 1373.69 L2992.38 1373.69 L2992.38 993.325 L2806.03 993.325 L2806.03 1373.69  Z\\n  \\\" fill=\\\"#0000ff\\\" fill-rule=\\\"evenodd\\\" fill-opacity=\\\"0.5\\\"\\/>\\n<polyline clip-path=\\\"url(#clip1803)\\\" style=\\\"stroke:#000000; stroke-width:4; stroke-opacity:1; fill:none\\\" points=\\\"\\n  2806.03,1373.69 2992.38,1373.69 2992.38,993.325 2806.03,993.325 2806.03,1373.69 \\n  \\\"\\/>\\n<path clip-path=\\\"url(#clip1803)\\\" d=\\\"\\nM3737.79 547.028 L3924.15 547.028 L3924.15 514.064 L3737.79 514.064 L3737.79 547.028  Z\\n  \\\" fill=\\\"#ff0000\\\" fill-rule=\\\"evenodd\\\" fill-opacity=\\\"0.5\\\"\\/>\\n<polyline clip-path=\\\"url(#clip1803)\\\" style=\\\"stroke:#000000; stroke-width:4; stroke-opacity:1; fill:none\\\" points=\\\"\\n  3737.79,547.028 3924.15,547.028 3924.15,514.064 3737.79,514.064 3737.79,547.028 \\n  \\\"\\/>\\n<\\/svg>\\n\"},\"nodeType\":\"DOM\",\"type\":\"node\",\"instanceArgs\":{\"namespace\":\"html\",\"tag\":\"div\"},\"children\":[]}]}}}},\"children\":[{\"props\":{},\"nodeType\":\"ObservableNode\",\"type\":\"node\",\"instanceArgs\":{\"id\":\"ob_86\",\"name\":\"obs-node\"},\"children\":[]}]}]},\n",
       "            window,\n",
       "        );\n",
       "    } else {\n",
       "        document\n",
       "            .querySelector('[data-webio-mountpoint=\"3262942634983666411\"]')\n",
       "            .innerHTML = (\n",
       "                '<div style=\"padding: 1em; background-color: #f8d6da; border: 1px solid #f5c6cb\">' +\n",
       "                '<p><strong>WebIO not detected.</strong></p>' +\n",
       "                '<p>Please read ' +\n",
       "                '<a href=\"https://juliagizmos.github.io/WebIO.jl/latest/troubleshooting/not-detected/\" target=\"_blank\">the troubleshooting guide</a> ' +\n",
       "                'for more information on how to resolve this issue.</p>' +\n",
       "                '<p><a href=\"https://juliagizmos.github.io/WebIO.jl/latest/troubleshooting/not-detected/\" target=\"_blank\">https://juliagizmos.github.io/WebIO.jl/latest/troubleshooting/not-detected/</a></p>' +\n",
       "                '</div>'\n",
       "            );\n",
       "    }\n",
       "    </script>\n",
       "</div>\n"
      ],
      "text/plain": [
       "Node{WebIO.DOM}(WebIO.DOM(:html, :div), Any[Node{WebIO.DOM}(WebIO.DOM(:html, :div), Any[Scope(Node{WebIO.DOM}(WebIO.DOM(:html, :div), Any[Node{WebIO.DOM}(WebIO.DOM(:html, :div), Any[Node{WebIO.DOM}(WebIO.DOM(:html, :label), Any[\"Time\"], Dict{Symbol,Any}(:className => \"interact \",:style => Dict{Any,Any}(:padding => \"5px 10px 0px 10px\")))], Dict{Symbol,Any}(:className => \"interact-flex-row-left\")), Node{WebIO.DOM}(WebIO.DOM(:html, :div), Any[Node{WebIO.DOM}(WebIO.DOM(:html, :input), Any[], Dict{Symbol,Any}(:max => 118,:min => 1,:attributes => Dict{Any,Any}(:type => \"range\",Symbol(\"data-bind\") => \"numericValue: index, valueUpdate: 'input', event: {change: function (){this.changes(this.changes()+1)}}\",\"orient\" => \"horizontal\"),:step => 1,:className => \"slider slider is-fullwidth\",:style => Dict{Any,Any}()))], Dict{Symbol,Any}(:className => \"interact-flex-row-center\")), Node{WebIO.DOM}(WebIO.DOM(:html, :div), Any[Node{WebIO.DOM}(WebIO.DOM(:html, :p), Any[], Dict{Symbol,Any}(:attributes => Dict(\"data-bind\" => \"text: formatted_val\")))], Dict{Symbol,Any}(:className => \"interact-flex-row-right\"))], Dict{Symbol,Any}(:className => \"interact-flex-row interact-widget\")), Dict{String,Tuple{Observables.AbstractObservable,Union{Nothing, Bool}}}(\"changes\" => (Observable{Int64} with 1 listeners. Value:\n",
       "0, nothing),\"index\" => (Observable{Int64} with 2 listeners. Value:\n",
       "1, nothing)), Set(String[]), nothing, Asset[Asset(\"js\", \"knockout\", \"C:\\\\Users\\\\kaltsoplyn\\\\.julia\\\\packages\\\\Knockout\\\\1sDlc\\\\src\\\\..\\\\assets\\\\knockout.js\"), Asset(\"js\", \"knockout_punches\", \"C:\\\\Users\\\\kaltsoplyn\\\\.julia\\\\packages\\\\Knockout\\\\1sDlc\\\\src\\\\..\\\\assets\\\\knockout_punches.js\"), Asset(\"js\", nothing, \"C:\\\\Users\\\\kaltsoplyn\\\\.julia\\\\packages\\\\InteractBase\\\\9mFwe\\\\src\\\\..\\\\assets\\\\all.js\"), Asset(\"css\", nothing, \"C:\\\\Users\\\\kaltsoplyn\\\\.julia\\\\packages\\\\InteractBase\\\\9mFwe\\\\src\\\\..\\\\assets\\\\style.css\"), Asset(\"css\", nothing, \"C:\\\\Users\\\\kaltsoplyn\\\\.julia\\\\packages\\\\Interact\\\\SbgIk\\\\src\\\\..\\\\assets\\\\bulma_confined.min.css\")], Dict{Any,Any}(\"changes\" => Any[WebIO.JSString(\"(function (val){return (val!=this.model[\\\"changes\\\"]()) ? (this.valueFromJulia[\\\"changes\\\"]=true, this.model[\\\"changes\\\"](val)) : undefined})\")],\"index\" => Any[WebIO.JSString(\"(function (val){return (val!=this.model[\\\"index\\\"]()) ? (this.valueFromJulia[\\\"index\\\"]=true, this.model[\\\"index\\\"](val)) : undefined})\")]), WebIO.ConnectionPool(Channel{Any}(sz_max:32,sz_curr:0), Set(AbstractConnection[]), Base.GenericCondition{Base.AlwaysLockedST}(Base.InvasiveLinkedList{Task}(Task (runnable) @0x0000000013c705d0, Task (runnable) @0x0000000013c705d0), Base.AlwaysLockedST(1))), WebIO.JSString[WebIO.JSString(\"function () {\\n    var handler = (function (ko, koPunches) {\\n    ko.punches.enableAll();\\n    ko.bindingHandlers.numericValue = {\\n        init: function(element, valueAccessor, allBindings, data, context) {\\n            var stringified = ko.observable(ko.unwrap(valueAccessor()));\\n            stringified.subscribe(function(value) {\\n                var val = parseFloat(value);\\n                if (!isNaN(val)) {\\n                    valueAccessor()(val);\\n                }\\n            });\\n            valueAccessor().subscribe(function(value) {\\n                var str = JSON.stringify(value);\\n                if ((str == \\\"0\\\") && ([\\\"-0\\\", \\\"-0.\\\"].indexOf(stringified()) >= 0))\\n                     return;\\n                 if ([\\\"null\\\", \\\"\\\"].indexOf(str) >= 0)\\n                     return;\\n                stringified(str);\\n            });\\n            ko.applyBindingsToNode(\\n                element,\\n                {\\n                    value: stringified,\\n                    valueUpdate: allBindings.get('valueUpdate'),\\n                },\\n                context,\\n            );\\n        }\\n    };\\n    var json_data = {\\\"formatted_vals\\\":[\\\"1\\\",\\\"2\\\",\\\"3\\\",\\\"4\\\",\\\"5\\\",\\\"6\\\",\\\"7\\\",\\\"8\\\",\\\"9\\\",\\\"10\\\",\\\"11\\\",\\\"12\\\",\\\"13\\\",\\\"14\\\",\\\"15\\\",\\\"16\\\",\\\"17\\\",\\\"18\\\",\\\"19\\\",\\\"20\\\",\\\"21\\\",\\\"22\\\",\\\"23\\\",\\\"24\\\",\\\"25\\\",\\\"26\\\",\\\"27\\\",\\\"28\\\",\\\"29\\\",\\\"30\\\",\\\"31\\\",\\\"32\\\",\\\"33\\\",\\\"34\\\",\\\"35\\\",\\\"36\\\",\\\"37\\\",\\\"38\\\",\\\"39\\\",\\\"40\\\",\\\"41\\\",\\\"42\\\",\\\"43\\\",\\\"44\\\",\\\"45\\\",\\\"46\\\",\\\"47\\\",\\\"48\\\",\\\"49\\\",\\\"50\\\",\\\"51\\\",\\\"52\\\",\\\"53\\\",\\\"54\\\",\\\"55\\\",\\\"56\\\",\\\"57\\\",\\\"58\\\",\\\"59\\\",\\\"60\\\",\\\"61\\\",\\\"62\\\",\\\"63\\\",\\\"64\\\",\\\"65\\\",\\\"66\\\",\\\"67\\\",\\\"68\\\",\\\"69\\\",\\\"70\\\",\\\"71\\\",\\\"72\\\",\\\"73\\\",\\\"74\\\",\\\"75\\\",\\\"76\\\",\\\"77\\\",\\\"78\\\",\\\"79\\\",\\\"80\\\",\\\"81\\\",\\\"82\\\",\\\"83\\\",\\\"84\\\",\\\"85\\\",\\\"86\\\",\\\"87\\\",\\\"88\\\",\\\"89\\\",\\\"90\\\",\\\"91\\\",\\\"92\\\",\\\"93\\\",\\\"94\\\",\\\"95\\\",\\\"96\\\",\\\"97\\\",\\\"98\\\",\\\"99\\\",\\\"100\\\",\\\"101\\\",\\\"102\\\",\\\"103\\\",\\\"104\\\",\\\"105\\\",\\\"106\\\",\\\"107\\\",\\\"108\\\",\\\"109\\\",\\\"110\\\",\\\"111\\\",\\\"112\\\",\\\"113\\\",\\\"114\\\",\\\"115\\\",\\\"116\\\",\\\"117\\\",\\\"118\\\"],\\\"changes\\\":WebIO.getval({\\\"name\\\":\\\"changes\\\",\\\"scope\\\":\\\"15901082428430300200\\\",\\\"id\\\":\\\"ob_82\\\",\\\"type\\\":\\\"observable\\\"}),\\\"index\\\":WebIO.getval({\\\"name\\\":\\\"index\\\",\\\"scope\\\":\\\"15901082428430300200\\\",\\\"id\\\":\\\"ob_81\\\",\\\"type\\\":\\\"observable\\\"})};\\n    var self = this;\\n    function AppViewModel() {\\n        for (var key in json_data) {\\n            var el = json_data[key];\\n            this[key] = Array.isArray(el) ? ko.observableArray(el) : ko.observable(el);\\n        }\\n        \\n        [this[\\\"formatted_val\\\"]=ko.computed(    function(){\\n        return this.formatted_vals()[parseInt(this.index())-(1)];\\n    }\\n,this)]\\n        [this[\\\"changes\\\"].subscribe((function (val){!(this.valueFromJulia[\\\"changes\\\"]) ? (WebIO.setval({\\\"name\\\":\\\"changes\\\",\\\"scope\\\":\\\"15901082428430300200\\\",\\\"id\\\":\\\"ob_82\\\",\\\"type\\\":\\\"observable\\\"},val)) : undefined; return this.valueFromJulia[\\\"changes\\\"]=false}),self),this[\\\"index\\\"].subscribe((function (val){!(this.valueFromJulia[\\\"index\\\"]) ? (WebIO.setval({\\\"name\\\":\\\"index\\\",\\\"scope\\\":\\\"15901082428430300200\\\",\\\"id\\\":\\\"ob_81\\\",\\\"type\\\":\\\"observable\\\"},val)) : undefined; return this.valueFromJulia[\\\"index\\\"]=false}),self)]\\n        \\n    }\\n    self.model = new AppViewModel();\\n    self.valueFromJulia = {};\\n    for (var key in json_data) {\\n        self.valueFromJulia[key] = false;\\n    }\\n    ko.applyBindings(self.model, self.dom);\\n}\\n);\\n    (WebIO.importBlock({\\\"data\\\":[{\\\"name\\\":\\\"knockout\\\",\\\"type\\\":\\\"js\\\",\\\"url\\\":\\\"/assetserver/58532c656e5c3ea95bc9e6ba08f6e0bbf64f3349-knockout.js\\\"},{\\\"name\\\":\\\"knockout_punches\\\",\\\"type\\\":\\\"js\\\",\\\"url\\\":\\\"/assetserver/97167f822e98661cc85dd010a2419f4651aeb9c6-knockout_punches.js\\\"}],\\\"type\\\":\\\"async_block\\\"})).then((imports) => handler.apply(this, imports));\\n}\\n\")])], Dict{Symbol,Any}(:className => \"field interact-widget\")), Observable{Any} with 0 listeners. Value:\n",
       "Node{WebIO.DOM}(WebIO.DOM(:html, :div), Any[Plot{Plots.GRBackend() n=6}], Dict{Symbol,Any}(:className => \"interact-flex-row interact-widget\"))], Dict{Symbol,Any}())"
      ]
     },
     "execution_count": 42,
     "metadata": {
      "application/vnd.webio.node+json": {
       "kernelId": "5eb1ddec-ee6e-47d8-9d57-f88698952025"
      }
     },
     "output_type": "execute_result"
    }
   ],
   "source": [
    "@manipulate for t = slider(1:length(sol2), value = 1, label = \"Time\")\n",
    "    evo2 = plot(sol2[1:t], vars=[(0,1),(0,2)], labels = [\"N1\" \"N2\"], lw = 2,\n",
    "        framestyle = :box, title = \"2-Level System Rate Equations -- Solution\",\n",
    "        title_location = :right, titlefontsize = 11, xaxis = (\"Time\", 0:1), yaxis = (\"Level populations\", 0:1))\n",
    "    sys2 = plot([level(1,1), level(2,3)], fillcolor = [:blue, :red])\n",
    "          plot!(clipping_box(0.5, 0, 2.5, 4), lw = 0, fillalpha = 0, fillcolor = :white)\n",
    "          plot!(sys2, framestyle = :box, xticks = ([1:1:2;], [\"N1\", \"N2\"]), yticks = [], legend = false)\n",
    "          plot!(level_pop(1, 1, pop21R(t/length(sol2))), fillalpha = 0.5, fillcolor = :blue)\n",
    "          plot!(level_pop(2, 3, pop22R(t/length(sol2))), fillalpha = 0.5, fillcolor = :red)\n",
    "    plot(evo2, sys2, size = (1100, 500))\n",
    "end"
   ]
  },
  {
   "cell_type": "markdown",
   "metadata": {},
   "source": [
    "### It's solving for actual dynamics that tells the story"
   ]
  },
  {
   "cell_type": "code",
   "execution_count": 43,
   "metadata": {},
   "outputs": [
    {
     "data": {
      "text/plain": [
       "\u001b[36mODEProblem\u001b[0m with uType \u001b[36mArray{Complex{Float64},1}\u001b[0m and tType \u001b[36mFloat64\u001b[0m. In-place: \u001b[36mtrue\u001b[0m\n",
       "timespan: (0.0, 1.0)\n",
       "u0: Complex{Float64}[1.0 + 0.0im, 0.0 + 0.0im]"
      ]
     },
     "execution_count": 43,
     "metadata": {},
     "output_type": "execute_result"
    }
   ],
   "source": [
    "function rate_eqs2D!(dN::Array{ComplexF64,1}, N::Array{ComplexF64,1}, pars::Array{ComplexF64,1}, t::Float64)\n",
    "    N1, N2 = N\n",
    "    Ω, γ2 = pars\n",
    "    dN[1] = dN1 = im * Ω * (N2 - N1) + γ2 * N2\n",
    "    dN[2] = dN2 = im * Ω * (N1 - N2) - γ2 * N2\n",
    "end\n",
    "\n",
    "N0 = [1.0 + 0.0im, 0.0 + 0.0im]\n",
    "tspan = (0.0, 1.0)\n",
    "p = [20. + 0.0im, 5. + 0.0im]\n",
    "\n",
    "prob = ODEProblem(rate_eqs2D!, N0, tspan, p)"
   ]
  },
  {
   "cell_type": "code",
   "execution_count": 44,
   "metadata": {},
   "outputs": [
    {
     "data": {
      "text/plain": [
       ":Success"
      ]
     },
     "execution_count": 44,
     "metadata": {},
     "output_type": "execute_result"
    }
   ],
   "source": [
    "# numerical integration does not preserve N1 + N2 = 1\n",
    "# So, I create a discrete callback to renormalize the integration at every step\n",
    "cond(u, t, integrator) = abs(sum(abs.(u)) - 1) > 1.E-3\n",
    "affect!(integrator) = integrator.u /= (sum(abs.(integrator.u)))\n",
    "cb = DiscreteCallback(cond, affect!)\n",
    "\n",
    "sol2D = solve(prob, saveat = 0:0.01:1, abstol=1e-16, reltol=1e-16, callback = cb);\n",
    "sol2D.retcode"
   ]
  },
  {
   "cell_type": "code",
   "execution_count": 45,
   "metadata": {},
   "outputs": [],
   "source": [
    "pop21(ti) = abs(sol2(ti)[1]);\n",
    "pop22(ti) = abs(sol2(ti)[2]);"
   ]
  },
  {
   "cell_type": "code",
   "execution_count": 47,
   "metadata": {},
   "outputs": [
    {
     "data": {
      "application/vnd.webio.node+json": {
       "children": [
        {
         "children": [
          {
           "children": [
            {
             "children": [
              {
               "children": [
                {
                 "children": [
                  "Time"
                 ],
                 "instanceArgs": {
                  "namespace": "html",
                  "tag": "label"
                 },
                 "nodeType": "DOM",
                 "props": {
                  "className": "interact ",
                  "style": {
                   "padding": "5px 10px 0px 10px"
                  }
                 },
                 "type": "node"
                }
               ],
               "instanceArgs": {
                "namespace": "html",
                "tag": "div"
               },
               "nodeType": "DOM",
               "props": {
                "className": "interact-flex-row-left"
               },
               "type": "node"
              },
              {
               "children": [
                {
                 "children": [],
                 "instanceArgs": {
                  "namespace": "html",
                  "tag": "input"
                 },
                 "nodeType": "DOM",
                 "props": {
                  "attributes": {
                   "data-bind": "numericValue: index, valueUpdate: 'input', event: {change: function (){this.changes(this.changes()+1)}}",
                   "orient": "horizontal",
                   "type": "range"
                  },
                  "className": "slider slider is-fullwidth",
                  "max": 563,
                  "min": 1,
                  "step": 1,
                  "style": {}
                 },
                 "type": "node"
                }
               ],
               "instanceArgs": {
                "namespace": "html",
                "tag": "div"
               },
               "nodeType": "DOM",
               "props": {
                "className": "interact-flex-row-center"
               },
               "type": "node"
              },
              {
               "children": [
                {
                 "children": [],
                 "instanceArgs": {
                  "namespace": "html",
                  "tag": "p"
                 },
                 "nodeType": "DOM",
                 "props": {
                  "attributes": {
                   "data-bind": "text: formatted_val"
                  }
                 },
                 "type": "node"
                }
               ],
               "instanceArgs": {
                "namespace": "html",
                "tag": "div"
               },
               "nodeType": "DOM",
               "props": {
                "className": "interact-flex-row-right"
               },
               "type": "node"
              }
             ],
             "instanceArgs": {
              "namespace": "html",
              "tag": "div"
             },
             "nodeType": "DOM",
             "props": {
              "className": "interact-flex-row interact-widget"
             },
             "type": "node"
            }
           ],
           "instanceArgs": {
            "handlers": {
             "changes": [
              "(function (val){return (val!=this.model[\"changes\"]()) ? (this.valueFromJulia[\"changes\"]=true, this.model[\"changes\"](val)) : undefined})"
             ],
             "index": [
              "(function (val){return (val!=this.model[\"index\"]()) ? (this.valueFromJulia[\"index\"]=true, this.model[\"index\"](val)) : undefined})"
             ]
            },
            "id": "8021347693521665412",
            "imports": {
             "data": [
              {
               "name": "knockout",
               "type": "js",
               "url": "/assetserver/58532c656e5c3ea95bc9e6ba08f6e0bbf64f3349-knockout.js"
              },
              {
               "name": "knockout_punches",
               "type": "js",
               "url": "/assetserver/97167f822e98661cc85dd010a2419f4651aeb9c6-knockout_punches.js"
              },
              {
               "name": null,
               "type": "js",
               "url": "/assetserver/c7daed194cd9e562afee3f059fad5f8587c42456-all.js"
              },
              {
               "name": null,
               "type": "css",
               "url": "/assetserver/3f97f38d83fe3be07cf18967ab9d3b51834c3353-style.css"
              },
              {
               "name": null,
               "type": "css",
               "url": "/assetserver/075c8efb747833dacc2bae1590f31f6a06a5b55a-bulma_confined.min.css"
              }
             ],
             "type": "async_block"
            },
            "mount_callbacks": [
             "function () {\n    var handler = (function (ko, koPunches) {\n    ko.punches.enableAll();\n    ko.bindingHandlers.numericValue = {\n        init: function(element, valueAccessor, allBindings, data, context) {\n            var stringified = ko.observable(ko.unwrap(valueAccessor()));\n            stringified.subscribe(function(value) {\n                var val = parseFloat(value);\n                if (!isNaN(val)) {\n                    valueAccessor()(val);\n                }\n            });\n            valueAccessor().subscribe(function(value) {\n                var str = JSON.stringify(value);\n                if ((str == \"0\") && ([\"-0\", \"-0.\"].indexOf(stringified()) >= 0))\n                     return;\n                 if ([\"null\", \"\"].indexOf(str) >= 0)\n                     return;\n                stringified(str);\n            });\n            ko.applyBindingsToNode(\n                element,\n                {\n                    value: stringified,\n                    valueUpdate: allBindings.get('valueUpdate'),\n                },\n                context,\n            );\n        }\n    };\n    var json_data = {\"formatted_vals\":[\"1\",\"2\",\"3\",\"4\",\"5\",\"6\",\"7\",\"8\",\"9\",\"10\",\"11\",\"12\",\"13\",\"14\",\"15\",\"16\",\"17\",\"18\",\"19\",\"20\",\"21\",\"22\",\"23\",\"24\",\"25\",\"26\",\"27\",\"28\",\"29\",\"30\",\"31\",\"32\",\"33\",\"34\",\"35\",\"36\",\"37\",\"38\",\"39\",\"40\",\"41\",\"42\",\"43\",\"44\",\"45\",\"46\",\"47\",\"48\",\"49\",\"50\",\"51\",\"52\",\"53\",\"54\",\"55\",\"56\",\"57\",\"58\",\"59\",\"60\",\"61\",\"62\",\"63\",\"64\",\"65\",\"66\",\"67\",\"68\",\"69\",\"70\",\"71\",\"72\",\"73\",\"74\",\"75\",\"76\",\"77\",\"78\",\"79\",\"80\",\"81\",\"82\",\"83\",\"84\",\"85\",\"86\",\"87\",\"88\",\"89\",\"90\",\"91\",\"92\",\"93\",\"94\",\"95\",\"96\",\"97\",\"98\",\"99\",\"100\",\"101\",\"102\",\"103\",\"104\",\"105\",\"106\",\"107\",\"108\",\"109\",\"110\",\"111\",\"112\",\"113\",\"114\",\"115\",\"116\",\"117\",\"118\",\"119\",\"120\",\"121\",\"122\",\"123\",\"124\",\"125\",\"126\",\"127\",\"128\",\"129\",\"130\",\"131\",\"132\",\"133\",\"134\",\"135\",\"136\",\"137\",\"138\",\"139\",\"140\",\"141\",\"142\",\"143\",\"144\",\"145\",\"146\",\"147\",\"148\",\"149\",\"150\",\"151\",\"152\",\"153\",\"154\",\"155\",\"156\",\"157\",\"158\",\"159\",\"160\",\"161\",\"162\",\"163\",\"164\",\"165\",\"166\",\"167\",\"168\",\"169\",\"170\",\"171\",\"172\",\"173\",\"174\",\"175\",\"176\",\"177\",\"178\",\"179\",\"180\",\"181\",\"182\",\"183\",\"184\",\"185\",\"186\",\"187\",\"188\",\"189\",\"190\",\"191\",\"192\",\"193\",\"194\",\"195\",\"196\",\"197\",\"198\",\"199\",\"200\",\"201\",\"202\",\"203\",\"204\",\"205\",\"206\",\"207\",\"208\",\"209\",\"210\",\"211\",\"212\",\"213\",\"214\",\"215\",\"216\",\"217\",\"218\",\"219\",\"220\",\"221\",\"222\",\"223\",\"224\",\"225\",\"226\",\"227\",\"228\",\"229\",\"230\",\"231\",\"232\",\"233\",\"234\",\"235\",\"236\",\"237\",\"238\",\"239\",\"240\",\"241\",\"242\",\"243\",\"244\",\"245\",\"246\",\"247\",\"248\",\"249\",\"250\",\"251\",\"252\",\"253\",\"254\",\"255\",\"256\",\"257\",\"258\",\"259\",\"260\",\"261\",\"262\",\"263\",\"264\",\"265\",\"266\",\"267\",\"268\",\"269\",\"270\",\"271\",\"272\",\"273\",\"274\",\"275\",\"276\",\"277\",\"278\",\"279\",\"280\",\"281\",\"282\",\"283\",\"284\",\"285\",\"286\",\"287\",\"288\",\"289\",\"290\",\"291\",\"292\",\"293\",\"294\",\"295\",\"296\",\"297\",\"298\",\"299\",\"300\",\"301\",\"302\",\"303\",\"304\",\"305\",\"306\",\"307\",\"308\",\"309\",\"310\",\"311\",\"312\",\"313\",\"314\",\"315\",\"316\",\"317\",\"318\",\"319\",\"320\",\"321\",\"322\",\"323\",\"324\",\"325\",\"326\",\"327\",\"328\",\"329\",\"330\",\"331\",\"332\",\"333\",\"334\",\"335\",\"336\",\"337\",\"338\",\"339\",\"340\",\"341\",\"342\",\"343\",\"344\",\"345\",\"346\",\"347\",\"348\",\"349\",\"350\",\"351\",\"352\",\"353\",\"354\",\"355\",\"356\",\"357\",\"358\",\"359\",\"360\",\"361\",\"362\",\"363\",\"364\",\"365\",\"366\",\"367\",\"368\",\"369\",\"370\",\"371\",\"372\",\"373\",\"374\",\"375\",\"376\",\"377\",\"378\",\"379\",\"380\",\"381\",\"382\",\"383\",\"384\",\"385\",\"386\",\"387\",\"388\",\"389\",\"390\",\"391\",\"392\",\"393\",\"394\",\"395\",\"396\",\"397\",\"398\",\"399\",\"400\",\"401\",\"402\",\"403\",\"404\",\"405\",\"406\",\"407\",\"408\",\"409\",\"410\",\"411\",\"412\",\"413\",\"414\",\"415\",\"416\",\"417\",\"418\",\"419\",\"420\",\"421\",\"422\",\"423\",\"424\",\"425\",\"426\",\"427\",\"428\",\"429\",\"430\",\"431\",\"432\",\"433\",\"434\",\"435\",\"436\",\"437\",\"438\",\"439\",\"440\",\"441\",\"442\",\"443\",\"444\",\"445\",\"446\",\"447\",\"448\",\"449\",\"450\",\"451\",\"452\",\"453\",\"454\",\"455\",\"456\",\"457\",\"458\",\"459\",\"460\",\"461\",\"462\",\"463\",\"464\",\"465\",\"466\",\"467\",\"468\",\"469\",\"470\",\"471\",\"472\",\"473\",\"474\",\"475\",\"476\",\"477\",\"478\",\"479\",\"480\",\"481\",\"482\",\"483\",\"484\",\"485\",\"486\",\"487\",\"488\",\"489\",\"490\",\"491\",\"492\",\"493\",\"494\",\"495\",\"496\",\"497\",\"498\",\"499\",\"500\",\"501\",\"502\",\"503\",\"504\",\"505\",\"506\",\"507\",\"508\",\"509\",\"510\",\"511\",\"512\",\"513\",\"514\",\"515\",\"516\",\"517\",\"518\",\"519\",\"520\",\"521\",\"522\",\"523\",\"524\",\"525\",\"526\",\"527\",\"528\",\"529\",\"530\",\"531\",\"532\",\"533\",\"534\",\"535\",\"536\",\"537\",\"538\",\"539\",\"540\",\"541\",\"542\",\"543\",\"544\",\"545\",\"546\",\"547\",\"548\",\"549\",\"550\",\"551\",\"552\",\"553\",\"554\",\"555\",\"556\",\"557\",\"558\",\"559\",\"560\",\"561\",\"562\",\"563\"],\"changes\":WebIO.getval({\"name\":\"changes\",\"scope\":\"8021347693521665412\",\"id\":\"ob_98\",\"type\":\"observable\"}),\"index\":WebIO.getval({\"name\":\"index\",\"scope\":\"8021347693521665412\",\"id\":\"ob_97\",\"type\":\"observable\"})};\n    var self = this;\n    function AppViewModel() {\n        for (var key in json_data) {\n            var el = json_data[key];\n            this[key] = Array.isArray(el) ? ko.observableArray(el) : ko.observable(el);\n        }\n        \n        [this[\"formatted_val\"]=ko.computed(    function(){\n        return this.formatted_vals()[parseInt(this.index())-(1)];\n    }\n,this)]\n        [this[\"changes\"].subscribe((function (val){!(this.valueFromJulia[\"changes\"]) ? (WebIO.setval({\"name\":\"changes\",\"scope\":\"8021347693521665412\",\"id\":\"ob_98\",\"type\":\"observable\"},val)) : undefined; return this.valueFromJulia[\"changes\"]=false}),self),this[\"index\"].subscribe((function (val){!(this.valueFromJulia[\"index\"]) ? (WebIO.setval({\"name\":\"index\",\"scope\":\"8021347693521665412\",\"id\":\"ob_97\",\"type\":\"observable\"},val)) : undefined; return this.valueFromJulia[\"index\"]=false}),self)]\n        \n    }\n    self.model = new AppViewModel();\n    self.valueFromJulia = {};\n    for (var key in json_data) {\n        self.valueFromJulia[key] = false;\n    }\n    ko.applyBindings(self.model, self.dom);\n}\n);\n    (WebIO.importBlock({\"data\":[{\"name\":\"knockout\",\"type\":\"js\",\"url\":\"/assetserver/58532c656e5c3ea95bc9e6ba08f6e0bbf64f3349-knockout.js\"},{\"name\":\"knockout_punches\",\"type\":\"js\",\"url\":\"/assetserver/97167f822e98661cc85dd010a2419f4651aeb9c6-knockout_punches.js\"}],\"type\":\"async_block\"})).then((imports) => handler.apply(this, imports));\n}\n"
            ],
            "observables": {
             "changes": {
              "id": "ob_98",
              "sync": false,
              "value": 0
             },
             "index": {
              "id": "ob_97",
              "sync": true,
              "value": 1
             }
            },
            "systemjs_options": null
           },
           "nodeType": "Scope",
           "props": {},
           "type": "node"
          }
         ],
         "instanceArgs": {
          "namespace": "html",
          "tag": "div"
         },
         "nodeType": "DOM",
         "props": {
          "className": "field interact-widget"
         },
         "type": "node"
        },
        {
         "children": [
          {
           "children": [],
           "instanceArgs": {
            "id": "ob_104",
            "name": "obs-node"
           },
           "nodeType": "ObservableNode",
           "props": {},
           "type": "node"
          }
         ],
         "instanceArgs": {
          "handlers": {},
          "id": "17493196991750600636",
          "imports": {
           "data": [],
           "type": "async_block"
          },
          "mount_callbacks": [],
          "observables": {
           "obs-node": {
            "id": "ob_104",
            "sync": false,
            "value": {
             "children": [
              {
               "children": [],
               "instanceArgs": {
                "namespace": "html",
                "tag": "div"
               },
               "nodeType": "DOM",
               "props": {
                "setInnerHtml": "<?xml version=\"1.0\" encoding=\"utf-8\"?>\n<svg xmlns=\"http://www.w3.org/2000/svg\" xmlns:xlink=\"http://www.w3.org/1999/xlink\" width=\"1100\" height=\"500\" viewBox=\"0 0 4400 2000\">\n<defs>\n  <clipPath id=\"clip1400\">\n    <rect x=\"0\" y=\"0\" width=\"4400\" height=\"2000\"/>\n  </clipPath>\n</defs>\n<path clip-path=\"url(#clip1400)\" d=\"\nM0 2000 L4400 2000 L4400 0 L0 0  Z\n  \" fill=\"#ffffff\" fill-rule=\"evenodd\" fill-opacity=\"1\"/>\n<defs>\n  <clipPath id=\"clip1401\">\n    <rect x=\"880\" y=\"0\" width=\"3081\" height=\"2000\"/>\n  </clipPath>\n</defs>\n<path clip-path=\"url(#clip1400)\" d=\"\nM247.846 1846.96 L2223.18 1846.96 L2223.18 94.4295 L247.846 94.4295  Z\n  \" fill=\"#ffffff\" fill-rule=\"evenodd\" fill-opacity=\"1\"/>\n<defs>\n  <clipPath id=\"clip1402\">\n    <rect x=\"247\" y=\"94\" width=\"1976\" height=\"1754\"/>\n  </clipPath>\n</defs>\n<polyline clip-path=\"url(#clip1402)\" style=\"stroke:#000000; stroke-width:2; stroke-opacity:0.1; fill:none\" points=\"\n  303.751,1846.96 303.751,94.4295 \n  \"/>\n<polyline clip-path=\"url(#clip1402)\" style=\"stroke:#000000; stroke-width:2; stroke-opacity:0.1; fill:none\" points=\"\n  769.633,1846.96 769.633,94.4295 \n  \"/>\n<polyline clip-path=\"url(#clip1402)\" style=\"stroke:#000000; stroke-width:2; stroke-opacity:0.1; fill:none\" points=\"\n  1235.51,1846.96 1235.51,94.4295 \n  \"/>\n<polyline clip-path=\"url(#clip1402)\" style=\"stroke:#000000; stroke-width:2; stroke-opacity:0.1; fill:none\" points=\"\n  1701.4,1846.96 1701.4,94.4295 \n  \"/>\n<polyline clip-path=\"url(#clip1402)\" style=\"stroke:#000000; stroke-width:2; stroke-opacity:0.1; fill:none\" points=\"\n  2167.28,1846.96 2167.28,94.4295 \n  \"/>\n<polyline clip-path=\"url(#clip1402)\" style=\"stroke:#000000; stroke-width:2; stroke-opacity:0.1; fill:none\" points=\"\n  247.846,1797.36 2223.18,1797.36 \n  \"/>\n<polyline clip-path=\"url(#clip1402)\" style=\"stroke:#000000; stroke-width:2; stroke-opacity:0.1; fill:none\" points=\"\n  247.846,1384.03 2223.18,1384.03 \n  \"/>\n<polyline clip-path=\"url(#clip1402)\" style=\"stroke:#000000; stroke-width:2; stroke-opacity:0.1; fill:none\" points=\"\n  247.846,970.694 2223.18,970.694 \n  \"/>\n<polyline clip-path=\"url(#clip1402)\" style=\"stroke:#000000; stroke-width:2; stroke-opacity:0.1; fill:none\" points=\"\n  247.846,557.362 2223.18,557.362 \n  \"/>\n<polyline clip-path=\"url(#clip1402)\" style=\"stroke:#000000; stroke-width:2; stroke-opacity:0.1; fill:none\" points=\"\n  247.846,144.029 2223.18,144.029 \n  \"/>\n<polyline clip-path=\"url(#clip1400)\" style=\"stroke:#000000; stroke-width:4; stroke-opacity:1; fill:none\" points=\"\n  247.846,1846.96 2223.18,1846.96 \n  \"/>\n<polyline clip-path=\"url(#clip1400)\" style=\"stroke:#000000; stroke-width:4; stroke-opacity:1; fill:none\" points=\"\n  247.846,1846.96 247.846,94.4295 \n  \"/>\n<polyline clip-path=\"url(#clip1400)\" style=\"stroke:#000000; stroke-width:4; stroke-opacity:1; fill:none\" points=\"\n  303.751,1846.96 303.751,1825.93 \n  \"/>\n<polyline clip-path=\"url(#clip1400)\" style=\"stroke:#000000; stroke-width:4; stroke-opacity:1; fill:none\" points=\"\n  769.633,1846.96 769.633,1825.93 \n  \"/>\n<polyline clip-path=\"url(#clip1400)\" style=\"stroke:#000000; stroke-width:4; stroke-opacity:1; fill:none\" points=\"\n  1235.51,1846.96 1235.51,1825.93 \n  \"/>\n<polyline clip-path=\"url(#clip1400)\" style=\"stroke:#000000; stroke-width:4; stroke-opacity:1; fill:none\" points=\"\n  1701.4,1846.96 1701.4,1825.93 \n  \"/>\n<polyline clip-path=\"url(#clip1400)\" style=\"stroke:#000000; stroke-width:4; stroke-opacity:1; fill:none\" points=\"\n  2167.28,1846.96 2167.28,1825.93 \n  \"/>\n<polyline clip-path=\"url(#clip1400)\" style=\"stroke:#000000; stroke-width:4; stroke-opacity:1; fill:none\" points=\"\n  247.846,1797.36 271.55,1797.36 \n  \"/>\n<polyline clip-path=\"url(#clip1400)\" style=\"stroke:#000000; stroke-width:4; stroke-opacity:1; fill:none\" points=\"\n  247.846,1384.03 271.55,1384.03 \n  \"/>\n<polyline clip-path=\"url(#clip1400)\" style=\"stroke:#000000; stroke-width:4; stroke-opacity:1; fill:none\" points=\"\n  247.846,970.694 271.55,970.694 \n  \"/>\n<polyline clip-path=\"url(#clip1400)\" style=\"stroke:#000000; stroke-width:4; stroke-opacity:1; fill:none\" points=\"\n  247.846,557.362 271.55,557.362 \n  \"/>\n<polyline clip-path=\"url(#clip1400)\" style=\"stroke:#000000; stroke-width:4; stroke-opacity:1; fill:none\" points=\"\n  247.846,144.029 271.55,144.029 \n  \"/>\n<g clip-path=\"url(#clip1400)\">\n<text style=\"fill:#000000; fill-opacity:1; font-family:Arial,Helvetica Neue,Helvetica,sans-serif; font-size:48px; text-anchor:middle;\" transform=\"rotate(0, 303.751, 1910.96)\" x=\"303.751\" y=\"1910.96\">0.00</text>\n</g>\n<g clip-path=\"url(#clip1400)\">\n<text style=\"fill:#000000; fill-opacity:1; font-family:Arial,Helvetica Neue,Helvetica,sans-serif; font-size:48px; text-anchor:middle;\" transform=\"rotate(0, 769.633, 1910.96)\" x=\"769.633\" y=\"1910.96\">0.25</text>\n</g>\n<g clip-path=\"url(#clip1400)\">\n<text style=\"fill:#000000; fill-opacity:1; font-family:Arial,Helvetica Neue,Helvetica,sans-serif; font-size:48px; text-anchor:middle;\" transform=\"rotate(0, 1235.51, 1910.96)\" x=\"1235.51\" y=\"1910.96\">0.50</text>\n</g>\n<g clip-path=\"url(#clip1400)\">\n<text style=\"fill:#000000; fill-opacity:1; font-family:Arial,Helvetica Neue,Helvetica,sans-serif; font-size:48px; text-anchor:middle;\" transform=\"rotate(0, 1701.4, 1910.96)\" x=\"1701.4\" y=\"1910.96\">0.75</text>\n</g>\n<g clip-path=\"url(#clip1400)\">\n<text style=\"fill:#000000; fill-opacity:1; font-family:Arial,Helvetica Neue,Helvetica,sans-serif; font-size:48px; text-anchor:middle;\" transform=\"rotate(0, 2167.28, 1910.96)\" x=\"2167.28\" y=\"1910.96\">1.00</text>\n</g>\n<g clip-path=\"url(#clip1400)\">\n<text style=\"fill:#000000; fill-opacity:1; font-family:Arial,Helvetica Neue,Helvetica,sans-serif; font-size:48px; text-anchor:end;\" transform=\"rotate(0, 203.846, 1814.86)\" x=\"203.846\" y=\"1814.86\">0.00</text>\n</g>\n<g clip-path=\"url(#clip1400)\">\n<text style=\"fill:#000000; fill-opacity:1; font-family:Arial,Helvetica Neue,Helvetica,sans-serif; font-size:48px; text-anchor:end;\" transform=\"rotate(0, 203.846, 1401.53)\" x=\"203.846\" y=\"1401.53\">0.25</text>\n</g>\n<g clip-path=\"url(#clip1400)\">\n<text style=\"fill:#000000; fill-opacity:1; font-family:Arial,Helvetica Neue,Helvetica,sans-serif; font-size:48px; text-anchor:end;\" transform=\"rotate(0, 203.846, 988.194)\" x=\"203.846\" y=\"988.194\">0.50</text>\n</g>\n<g clip-path=\"url(#clip1400)\">\n<text style=\"fill:#000000; fill-opacity:1; font-family:Arial,Helvetica Neue,Helvetica,sans-serif; font-size:48px; text-anchor:end;\" transform=\"rotate(0, 203.846, 574.862)\" x=\"203.846\" y=\"574.862\">0.75</text>\n</g>\n<g clip-path=\"url(#clip1400)\">\n<text style=\"fill:#000000; fill-opacity:1; font-family:Arial,Helvetica Neue,Helvetica,sans-serif; font-size:48px; text-anchor:end;\" transform=\"rotate(0, 203.846, 161.529)\" x=\"203.846\" y=\"161.529\">1.00</text>\n</g>\n<polyline clip-path=\"url(#clip1402)\" style=\"stroke:#000000; stroke-width:4; stroke-opacity:1; fill:none\" points=\"\n  247.846,94.4295 2223.18,94.4295 \n  \"/>\n<polyline clip-path=\"url(#clip1402)\" style=\"stroke:#000000; stroke-width:4; stroke-opacity:1; fill:none\" points=\"\n  2223.18,1846.96 2223.18,94.4295 \n  \"/>\n<g clip-path=\"url(#clip1400)\">\n<text style=\"fill:#000000; fill-opacity:1; font-family:Arial,Helvetica Neue,Helvetica,sans-serif; font-size:66px; text-anchor:end;\" transform=\"rotate(0, 2223.18, 57.6)\" x=\"2223.18\" y=\"57.6\">2-Level System Dynamic Rate Equations -- Solution</text>\n</g>\n<g clip-path=\"url(#clip1400)\">\n<text style=\"fill:#000000; fill-opacity:1; font-family:Arial,Helvetica Neue,Helvetica,sans-serif; font-size:66px; text-anchor:middle;\" transform=\"rotate(0, 1235.51, 2000.82)\" x=\"1235.51\" y=\"2000.82\">Time</text>\n</g>\n<g clip-path=\"url(#clip1400)\">\n<text style=\"fill:#000000; fill-opacity:1; font-family:Arial,Helvetica Neue,Helvetica,sans-serif; font-size:66px; text-anchor:middle;\" transform=\"rotate(-90, 54.6154, 970.694)\" x=\"54.6154\" y=\"970.694\">Level populations</text>\n</g>\n<path clip-path=\"url(#clip1400)\" d=\"\nM1589.67 479.389 L2091.18 479.389 L2091.18 297.949 L1589.67 297.949  Z\n  \" fill=\"#ffffff\" fill-rule=\"evenodd\" fill-opacity=\"1\"/>\n<polyline clip-path=\"url(#clip1400)\" style=\"stroke:#000000; stroke-width:4; stroke-opacity:1; fill:none\" points=\"\n  1589.67,479.389 2091.18,479.389 2091.18,297.949 1589.67,297.949 1589.67,479.389 \n  \"/>\n<polyline clip-path=\"url(#clip1400)\" style=\"stroke:#009af9; stroke-width:8; stroke-opacity:1; fill:none\" points=\"\n  1633.67,358.429 1897.67,358.429 \n  \"/>\n<g clip-path=\"url(#clip1400)\">\n<text style=\"fill:#000000; fill-opacity:1; font-family:Arial,Helvetica Neue,Helvetica,sans-serif; font-size:48px; text-anchor:start;\" transform=\"rotate(0, 1941.67, 375.929)\" x=\"1941.67\" y=\"375.929\">N1</text>\n</g>\n<polyline clip-path=\"url(#clip1400)\" style=\"stroke:#e26f46; stroke-width:8; stroke-opacity:1; fill:none\" points=\"\n  1633.67,418.909 1897.67,418.909 \n  \"/>\n<g clip-path=\"url(#clip1400)\">\n<text style=\"fill:#000000; fill-opacity:1; font-family:Arial,Helvetica Neue,Helvetica,sans-serif; font-size:48px; text-anchor:start;\" transform=\"rotate(0, 1941.67, 436.409)\" x=\"1941.67\" y=\"436.409\">N2</text>\n</g>\n<path clip-path=\"url(#clip1400)\" d=\"\nM2377.42 1846.96 L4352.76 1846.96 L4352.76 94.4295 L2377.42 94.4295  Z\n  \" fill=\"#ffffff\" fill-rule=\"evenodd\" fill-opacity=\"1\"/>\n<defs>\n  <clipPath id=\"clip1403\">\n    <rect x=\"2377\" y=\"94\" width=\"1976\" height=\"1754\"/>\n  </clipPath>\n</defs>\n<polyline clip-path=\"url(#clip1403)\" style=\"stroke:#000000; stroke-width:2; stroke-opacity:0.1; fill:none\" points=\"\n  2899.21,1846.96 2899.21,94.4295 \n  \"/>\n<polyline clip-path=\"url(#clip1403)\" style=\"stroke:#000000; stroke-width:2; stroke-opacity:0.1; fill:none\" points=\"\n  3830.97,1846.96 3830.97,94.4295 \n  \"/>\n<polyline clip-path=\"url(#clip1400)\" style=\"stroke:#000000; stroke-width:4; stroke-opacity:1; fill:none\" points=\"\n  2377.42,1846.96 4352.76,1846.96 \n  \"/>\n<polyline clip-path=\"url(#clip1400)\" style=\"stroke:#000000; stroke-width:4; stroke-opacity:1; fill:none\" points=\"\n  2377.42,1846.96 2377.42,94.4295 \n  \"/>\n<polyline clip-path=\"url(#clip1400)\" style=\"stroke:#000000; stroke-width:4; stroke-opacity:1; fill:none\" points=\"\n  2899.21,1846.96 2899.21,1825.93 \n  \"/>\n<polyline clip-path=\"url(#clip1400)\" style=\"stroke:#000000; stroke-width:4; stroke-opacity:1; fill:none\" points=\"\n  3830.97,1846.96 3830.97,1825.93 \n  \"/>\n<g clip-path=\"url(#clip1400)\">\n<text style=\"fill:#000000; fill-opacity:1; font-family:Arial,Helvetica Neue,Helvetica,sans-serif; font-size:48px; text-anchor:middle;\" transform=\"rotate(0, 2899.21, 1910.96)\" x=\"2899.21\" y=\"1910.96\">N1</text>\n</g>\n<g clip-path=\"url(#clip1400)\">\n<text style=\"fill:#000000; fill-opacity:1; font-family:Arial,Helvetica Neue,Helvetica,sans-serif; font-size:48px; text-anchor:middle;\" transform=\"rotate(0, 3830.97, 1910.96)\" x=\"3830.97\" y=\"1910.96\">N2</text>\n</g>\n<polyline clip-path=\"url(#clip1403)\" style=\"stroke:#000000; stroke-width:4; stroke-opacity:1; fill:none\" points=\"\n  2377.42,94.4295 4352.76,94.4295 \n  \"/>\n<polyline clip-path=\"url(#clip1403)\" style=\"stroke:#000000; stroke-width:4; stroke-opacity:1; fill:none\" points=\"\n  4352.76,1846.96 4352.76,94.4295 \n  \"/>\n<path clip-path=\"url(#clip1403)\" d=\"\nM2433.32 1394.36 L3365.09 1394.36 L3365.09 1373.69 L2433.32 1373.69 L2433.32 1394.36  Z\n  \" fill=\"#0000ff\" fill-rule=\"evenodd\" fill-opacity=\"1\"/>\n<polyline clip-path=\"url(#clip1403)\" style=\"stroke:#000000; stroke-width:4; stroke-opacity:1; fill:none\" points=\"\n  2433.32,1394.36 3365.09,1394.36 3365.09,1373.69 2433.32,1373.69 2433.32,1394.36 \n  \"/>\n<path clip-path=\"url(#clip1403)\" d=\"\nM3365.09 567.695 L4296.85 567.695 L4296.85 547.028 L3365.09 547.028 L3365.09 567.695  Z\n  \" fill=\"#ff0000\" fill-rule=\"evenodd\" fill-opacity=\"1\"/>\n<polyline clip-path=\"url(#clip1403)\" style=\"stroke:#000000; stroke-width:4; stroke-opacity:1; fill:none\" points=\"\n  3365.09,567.695 4296.85,567.695 4296.85,547.028 3365.09,547.028 3365.09,567.695 \n  \"/>\n<path clip-path=\"url(#clip1403)\" d=\"\nM2433.32 1797.36 L4296.85 1797.36 L4296.85 144.029 L2433.32 144.029 L2433.32 1797.36  Z\n  \" fill=\"#ffffff\" fill-rule=\"evenodd\" fill-opacity=\"0\"/>\n<polyline clip-path=\"url(#clip1403)\" style=\"stroke:#000000; stroke-width:0; stroke-opacity:1; fill:none\" points=\"\n  2433.32,1797.36 4296.85,1797.36 4296.85,144.029 2433.32,144.029 2433.32,1797.36 \n  \"/>\n<path clip-path=\"url(#clip1403)\" d=\"\nM2806.03 1373.69 L2992.38 1373.69 L2992.38 993.325 L2806.03 993.325 L2806.03 1373.69  Z\n  \" fill=\"#0000ff\" fill-rule=\"evenodd\" fill-opacity=\"0.5\"/>\n<polyline clip-path=\"url(#clip1403)\" style=\"stroke:#000000; stroke-width:4; stroke-opacity:1; fill:none\" points=\"\n  2806.03,1373.69 2992.38,1373.69 2992.38,993.325 2806.03,993.325 2806.03,1373.69 \n  \"/>\n<path clip-path=\"url(#clip1403)\" d=\"\nM3737.79 547.028 L3924.15 547.028 L3924.15 514.064 L3737.79 514.064 L3737.79 547.028  Z\n  \" fill=\"#ff0000\" fill-rule=\"evenodd\" fill-opacity=\"0.5\"/>\n<polyline clip-path=\"url(#clip1403)\" style=\"stroke:#000000; stroke-width:4; stroke-opacity:1; fill:none\" points=\"\n  3737.79,547.028 3924.15,547.028 3924.15,514.064 3737.79,514.064 3737.79,547.028 \n  \"/>\n</svg>\n"
               },
               "type": "node"
              }
             ],
             "instanceArgs": {
              "namespace": "html",
              "tag": "div"
             },
             "nodeType": "DOM",
             "props": {
              "className": "interact-flex-row interact-widget"
             },
             "type": "node"
            }
           }
          },
          "systemjs_options": null
         },
         "nodeType": "Scope",
         "props": {},
         "type": "node"
        }
       ],
       "instanceArgs": {
        "namespace": "html",
        "tag": "div"
       },
       "nodeType": "DOM",
       "props": {},
       "type": "node"
      },
      "text/html": [
       "<div\n",
       "    class=\"webio-mountpoint\"\n",
       "    data-webio-mountpoint=\"14732789631034275136\"\n",
       ">\n",
       "    <script>\n",
       "    if (window.require && require.defined && require.defined(\"nbextensions/webio-jupyter-notebook\")) {\n",
       "        console.log(\"Jupyter WebIO extension detected, not mounting.\");\n",
       "    } else if (window.WebIO) {\n",
       "        WebIO.mount(\n",
       "            document.querySelector('[data-webio-mountpoint=\"14732789631034275136\"]'),\n",
       "            {\"props\":{},\"nodeType\":\"DOM\",\"type\":\"node\",\"instanceArgs\":{\"namespace\":\"html\",\"tag\":\"div\"},\"children\":[{\"props\":{\"className\":\"field interact-widget\"},\"nodeType\":\"DOM\",\"type\":\"node\",\"instanceArgs\":{\"namespace\":\"html\",\"tag\":\"div\"},\"children\":[{\"props\":{},\"nodeType\":\"Scope\",\"type\":\"node\",\"instanceArgs\":{\"imports\":{\"data\":[{\"name\":\"knockout\",\"type\":\"js\",\"url\":\"\\/assetserver\\/58532c656e5c3ea95bc9e6ba08f6e0bbf64f3349-knockout.js\"},{\"name\":\"knockout_punches\",\"type\":\"js\",\"url\":\"\\/assetserver\\/97167f822e98661cc85dd010a2419f4651aeb9c6-knockout_punches.js\"},{\"name\":null,\"type\":\"js\",\"url\":\"\\/assetserver\\/c7daed194cd9e562afee3f059fad5f8587c42456-all.js\"},{\"name\":null,\"type\":\"css\",\"url\":\"\\/assetserver\\/3f97f38d83fe3be07cf18967ab9d3b51834c3353-style.css\"},{\"name\":null,\"type\":\"css\",\"url\":\"\\/assetserver\\/075c8efb747833dacc2bae1590f31f6a06a5b55a-bulma_confined.min.css\"}],\"type\":\"async_block\"},\"id\":\"8021347693521665412\",\"handlers\":{\"changes\":[\"(function (val){return (val!=this.model[\\\"changes\\\"]()) ? (this.valueFromJulia[\\\"changes\\\"]=true, this.model[\\\"changes\\\"](val)) : undefined})\"],\"index\":[\"(function (val){return (val!=this.model[\\\"index\\\"]()) ? (this.valueFromJulia[\\\"index\\\"]=true, this.model[\\\"index\\\"](val)) : undefined})\"]},\"systemjs_options\":null,\"mount_callbacks\":[\"function () {\\n    var handler = (function (ko, koPunches) {\\n    ko.punches.enableAll();\\n    ko.bindingHandlers.numericValue = {\\n        init: function(element, valueAccessor, allBindings, data, context) {\\n            var stringified = ko.observable(ko.unwrap(valueAccessor()));\\n            stringified.subscribe(function(value) {\\n                var val = parseFloat(value);\\n                if (!isNaN(val)) {\\n                    valueAccessor()(val);\\n                }\\n            });\\n            valueAccessor().subscribe(function(value) {\\n                var str = JSON.stringify(value);\\n                if ((str == \\\"0\\\") && ([\\\"-0\\\", \\\"-0.\\\"].indexOf(stringified()) >= 0))\\n                     return;\\n                 if ([\\\"null\\\", \\\"\\\"].indexOf(str) >= 0)\\n                     return;\\n                stringified(str);\\n            });\\n            ko.applyBindingsToNode(\\n                element,\\n                {\\n                    value: stringified,\\n                    valueUpdate: allBindings.get('valueUpdate'),\\n                },\\n                context,\\n            );\\n        }\\n    };\\n    var json_data = {\\\"formatted_vals\\\":[\\\"1\\\",\\\"2\\\",\\\"3\\\",\\\"4\\\",\\\"5\\\",\\\"6\\\",\\\"7\\\",\\\"8\\\",\\\"9\\\",\\\"10\\\",\\\"11\\\",\\\"12\\\",\\\"13\\\",\\\"14\\\",\\\"15\\\",\\\"16\\\",\\\"17\\\",\\\"18\\\",\\\"19\\\",\\\"20\\\",\\\"21\\\",\\\"22\\\",\\\"23\\\",\\\"24\\\",\\\"25\\\",\\\"26\\\",\\\"27\\\",\\\"28\\\",\\\"29\\\",\\\"30\\\",\\\"31\\\",\\\"32\\\",\\\"33\\\",\\\"34\\\",\\\"35\\\",\\\"36\\\",\\\"37\\\",\\\"38\\\",\\\"39\\\",\\\"40\\\",\\\"41\\\",\\\"42\\\",\\\"43\\\",\\\"44\\\",\\\"45\\\",\\\"46\\\",\\\"47\\\",\\\"48\\\",\\\"49\\\",\\\"50\\\",\\\"51\\\",\\\"52\\\",\\\"53\\\",\\\"54\\\",\\\"55\\\",\\\"56\\\",\\\"57\\\",\\\"58\\\",\\\"59\\\",\\\"60\\\",\\\"61\\\",\\\"62\\\",\\\"63\\\",\\\"64\\\",\\\"65\\\",\\\"66\\\",\\\"67\\\",\\\"68\\\",\\\"69\\\",\\\"70\\\",\\\"71\\\",\\\"72\\\",\\\"73\\\",\\\"74\\\",\\\"75\\\",\\\"76\\\",\\\"77\\\",\\\"78\\\",\\\"79\\\",\\\"80\\\",\\\"81\\\",\\\"82\\\",\\\"83\\\",\\\"84\\\",\\\"85\\\",\\\"86\\\",\\\"87\\\",\\\"88\\\",\\\"89\\\",\\\"90\\\",\\\"91\\\",\\\"92\\\",\\\"93\\\",\\\"94\\\",\\\"95\\\",\\\"96\\\",\\\"97\\\",\\\"98\\\",\\\"99\\\",\\\"100\\\",\\\"101\\\",\\\"102\\\",\\\"103\\\",\\\"104\\\",\\\"105\\\",\\\"106\\\",\\\"107\\\",\\\"108\\\",\\\"109\\\",\\\"110\\\",\\\"111\\\",\\\"112\\\",\\\"113\\\",\\\"114\\\",\\\"115\\\",\\\"116\\\",\\\"117\\\",\\\"118\\\",\\\"119\\\",\\\"120\\\",\\\"121\\\",\\\"122\\\",\\\"123\\\",\\\"124\\\",\\\"125\\\",\\\"126\\\",\\\"127\\\",\\\"128\\\",\\\"129\\\",\\\"130\\\",\\\"131\\\",\\\"132\\\",\\\"133\\\",\\\"134\\\",\\\"135\\\",\\\"136\\\",\\\"137\\\",\\\"138\\\",\\\"139\\\",\\\"140\\\",\\\"141\\\",\\\"142\\\",\\\"143\\\",\\\"144\\\",\\\"145\\\",\\\"146\\\",\\\"147\\\",\\\"148\\\",\\\"149\\\",\\\"150\\\",\\\"151\\\",\\\"152\\\",\\\"153\\\",\\\"154\\\",\\\"155\\\",\\\"156\\\",\\\"157\\\",\\\"158\\\",\\\"159\\\",\\\"160\\\",\\\"161\\\",\\\"162\\\",\\\"163\\\",\\\"164\\\",\\\"165\\\",\\\"166\\\",\\\"167\\\",\\\"168\\\",\\\"169\\\",\\\"170\\\",\\\"171\\\",\\\"172\\\",\\\"173\\\",\\\"174\\\",\\\"175\\\",\\\"176\\\",\\\"177\\\",\\\"178\\\",\\\"179\\\",\\\"180\\\",\\\"181\\\",\\\"182\\\",\\\"183\\\",\\\"184\\\",\\\"185\\\",\\\"186\\\",\\\"187\\\",\\\"188\\\",\\\"189\\\",\\\"190\\\",\\\"191\\\",\\\"192\\\",\\\"193\\\",\\\"194\\\",\\\"195\\\",\\\"196\\\",\\\"197\\\",\\\"198\\\",\\\"199\\\",\\\"200\\\",\\\"201\\\",\\\"202\\\",\\\"203\\\",\\\"204\\\",\\\"205\\\",\\\"206\\\",\\\"207\\\",\\\"208\\\",\\\"209\\\",\\\"210\\\",\\\"211\\\",\\\"212\\\",\\\"213\\\",\\\"214\\\",\\\"215\\\",\\\"216\\\",\\\"217\\\",\\\"218\\\",\\\"219\\\",\\\"220\\\",\\\"221\\\",\\\"222\\\",\\\"223\\\",\\\"224\\\",\\\"225\\\",\\\"226\\\",\\\"227\\\",\\\"228\\\",\\\"229\\\",\\\"230\\\",\\\"231\\\",\\\"232\\\",\\\"233\\\",\\\"234\\\",\\\"235\\\",\\\"236\\\",\\\"237\\\",\\\"238\\\",\\\"239\\\",\\\"240\\\",\\\"241\\\",\\\"242\\\",\\\"243\\\",\\\"244\\\",\\\"245\\\",\\\"246\\\",\\\"247\\\",\\\"248\\\",\\\"249\\\",\\\"250\\\",\\\"251\\\",\\\"252\\\",\\\"253\\\",\\\"254\\\",\\\"255\\\",\\\"256\\\",\\\"257\\\",\\\"258\\\",\\\"259\\\",\\\"260\\\",\\\"261\\\",\\\"262\\\",\\\"263\\\",\\\"264\\\",\\\"265\\\",\\\"266\\\",\\\"267\\\",\\\"268\\\",\\\"269\\\",\\\"270\\\",\\\"271\\\",\\\"272\\\",\\\"273\\\",\\\"274\\\",\\\"275\\\",\\\"276\\\",\\\"277\\\",\\\"278\\\",\\\"279\\\",\\\"280\\\",\\\"281\\\",\\\"282\\\",\\\"283\\\",\\\"284\\\",\\\"285\\\",\\\"286\\\",\\\"287\\\",\\\"288\\\",\\\"289\\\",\\\"290\\\",\\\"291\\\",\\\"292\\\",\\\"293\\\",\\\"294\\\",\\\"295\\\",\\\"296\\\",\\\"297\\\",\\\"298\\\",\\\"299\\\",\\\"300\\\",\\\"301\\\",\\\"302\\\",\\\"303\\\",\\\"304\\\",\\\"305\\\",\\\"306\\\",\\\"307\\\",\\\"308\\\",\\\"309\\\",\\\"310\\\",\\\"311\\\",\\\"312\\\",\\\"313\\\",\\\"314\\\",\\\"315\\\",\\\"316\\\",\\\"317\\\",\\\"318\\\",\\\"319\\\",\\\"320\\\",\\\"321\\\",\\\"322\\\",\\\"323\\\",\\\"324\\\",\\\"325\\\",\\\"326\\\",\\\"327\\\",\\\"328\\\",\\\"329\\\",\\\"330\\\",\\\"331\\\",\\\"332\\\",\\\"333\\\",\\\"334\\\",\\\"335\\\",\\\"336\\\",\\\"337\\\",\\\"338\\\",\\\"339\\\",\\\"340\\\",\\\"341\\\",\\\"342\\\",\\\"343\\\",\\\"344\\\",\\\"345\\\",\\\"346\\\",\\\"347\\\",\\\"348\\\",\\\"349\\\",\\\"350\\\",\\\"351\\\",\\\"352\\\",\\\"353\\\",\\\"354\\\",\\\"355\\\",\\\"356\\\",\\\"357\\\",\\\"358\\\",\\\"359\\\",\\\"360\\\",\\\"361\\\",\\\"362\\\",\\\"363\\\",\\\"364\\\",\\\"365\\\",\\\"366\\\",\\\"367\\\",\\\"368\\\",\\\"369\\\",\\\"370\\\",\\\"371\\\",\\\"372\\\",\\\"373\\\",\\\"374\\\",\\\"375\\\",\\\"376\\\",\\\"377\\\",\\\"378\\\",\\\"379\\\",\\\"380\\\",\\\"381\\\",\\\"382\\\",\\\"383\\\",\\\"384\\\",\\\"385\\\",\\\"386\\\",\\\"387\\\",\\\"388\\\",\\\"389\\\",\\\"390\\\",\\\"391\\\",\\\"392\\\",\\\"393\\\",\\\"394\\\",\\\"395\\\",\\\"396\\\",\\\"397\\\",\\\"398\\\",\\\"399\\\",\\\"400\\\",\\\"401\\\",\\\"402\\\",\\\"403\\\",\\\"404\\\",\\\"405\\\",\\\"406\\\",\\\"407\\\",\\\"408\\\",\\\"409\\\",\\\"410\\\",\\\"411\\\",\\\"412\\\",\\\"413\\\",\\\"414\\\",\\\"415\\\",\\\"416\\\",\\\"417\\\",\\\"418\\\",\\\"419\\\",\\\"420\\\",\\\"421\\\",\\\"422\\\",\\\"423\\\",\\\"424\\\",\\\"425\\\",\\\"426\\\",\\\"427\\\",\\\"428\\\",\\\"429\\\",\\\"430\\\",\\\"431\\\",\\\"432\\\",\\\"433\\\",\\\"434\\\",\\\"435\\\",\\\"436\\\",\\\"437\\\",\\\"438\\\",\\\"439\\\",\\\"440\\\",\\\"441\\\",\\\"442\\\",\\\"443\\\",\\\"444\\\",\\\"445\\\",\\\"446\\\",\\\"447\\\",\\\"448\\\",\\\"449\\\",\\\"450\\\",\\\"451\\\",\\\"452\\\",\\\"453\\\",\\\"454\\\",\\\"455\\\",\\\"456\\\",\\\"457\\\",\\\"458\\\",\\\"459\\\",\\\"460\\\",\\\"461\\\",\\\"462\\\",\\\"463\\\",\\\"464\\\",\\\"465\\\",\\\"466\\\",\\\"467\\\",\\\"468\\\",\\\"469\\\",\\\"470\\\",\\\"471\\\",\\\"472\\\",\\\"473\\\",\\\"474\\\",\\\"475\\\",\\\"476\\\",\\\"477\\\",\\\"478\\\",\\\"479\\\",\\\"480\\\",\\\"481\\\",\\\"482\\\",\\\"483\\\",\\\"484\\\",\\\"485\\\",\\\"486\\\",\\\"487\\\",\\\"488\\\",\\\"489\\\",\\\"490\\\",\\\"491\\\",\\\"492\\\",\\\"493\\\",\\\"494\\\",\\\"495\\\",\\\"496\\\",\\\"497\\\",\\\"498\\\",\\\"499\\\",\\\"500\\\",\\\"501\\\",\\\"502\\\",\\\"503\\\",\\\"504\\\",\\\"505\\\",\\\"506\\\",\\\"507\\\",\\\"508\\\",\\\"509\\\",\\\"510\\\",\\\"511\\\",\\\"512\\\",\\\"513\\\",\\\"514\\\",\\\"515\\\",\\\"516\\\",\\\"517\\\",\\\"518\\\",\\\"519\\\",\\\"520\\\",\\\"521\\\",\\\"522\\\",\\\"523\\\",\\\"524\\\",\\\"525\\\",\\\"526\\\",\\\"527\\\",\\\"528\\\",\\\"529\\\",\\\"530\\\",\\\"531\\\",\\\"532\\\",\\\"533\\\",\\\"534\\\",\\\"535\\\",\\\"536\\\",\\\"537\\\",\\\"538\\\",\\\"539\\\",\\\"540\\\",\\\"541\\\",\\\"542\\\",\\\"543\\\",\\\"544\\\",\\\"545\\\",\\\"546\\\",\\\"547\\\",\\\"548\\\",\\\"549\\\",\\\"550\\\",\\\"551\\\",\\\"552\\\",\\\"553\\\",\\\"554\\\",\\\"555\\\",\\\"556\\\",\\\"557\\\",\\\"558\\\",\\\"559\\\",\\\"560\\\",\\\"561\\\",\\\"562\\\",\\\"563\\\"],\\\"changes\\\":WebIO.getval({\\\"name\\\":\\\"changes\\\",\\\"scope\\\":\\\"8021347693521665412\\\",\\\"id\\\":\\\"ob_98\\\",\\\"type\\\":\\\"observable\\\"}),\\\"index\\\":WebIO.getval({\\\"name\\\":\\\"index\\\",\\\"scope\\\":\\\"8021347693521665412\\\",\\\"id\\\":\\\"ob_97\\\",\\\"type\\\":\\\"observable\\\"})};\\n    var self = this;\\n    function AppViewModel() {\\n        for (var key in json_data) {\\n            var el = json_data[key];\\n            this[key] = Array.isArray(el) ? ko.observableArray(el) : ko.observable(el);\\n        }\\n        \\n        [this[\\\"formatted_val\\\"]=ko.computed(    function(){\\n        return this.formatted_vals()[parseInt(this.index())-(1)];\\n    }\\n,this)]\\n        [this[\\\"changes\\\"].subscribe((function (val){!(this.valueFromJulia[\\\"changes\\\"]) ? (WebIO.setval({\\\"name\\\":\\\"changes\\\",\\\"scope\\\":\\\"8021347693521665412\\\",\\\"id\\\":\\\"ob_98\\\",\\\"type\\\":\\\"observable\\\"},val)) : undefined; return this.valueFromJulia[\\\"changes\\\"]=false}),self),this[\\\"index\\\"].subscribe((function (val){!(this.valueFromJulia[\\\"index\\\"]) ? (WebIO.setval({\\\"name\\\":\\\"index\\\",\\\"scope\\\":\\\"8021347693521665412\\\",\\\"id\\\":\\\"ob_97\\\",\\\"type\\\":\\\"observable\\\"},val)) : undefined; return this.valueFromJulia[\\\"index\\\"]=false}),self)]\\n        \\n    }\\n    self.model = new AppViewModel();\\n    self.valueFromJulia = {};\\n    for (var key in json_data) {\\n        self.valueFromJulia[key] = false;\\n    }\\n    ko.applyBindings(self.model, self.dom);\\n}\\n);\\n    (WebIO.importBlock({\\\"data\\\":[{\\\"name\\\":\\\"knockout\\\",\\\"type\\\":\\\"js\\\",\\\"url\\\":\\\"\\/assetserver\\/58532c656e5c3ea95bc9e6ba08f6e0bbf64f3349-knockout.js\\\"},{\\\"name\\\":\\\"knockout_punches\\\",\\\"type\\\":\\\"js\\\",\\\"url\\\":\\\"\\/assetserver\\/97167f822e98661cc85dd010a2419f4651aeb9c6-knockout_punches.js\\\"}],\\\"type\\\":\\\"async_block\\\"})).then((imports) => handler.apply(this, imports));\\n}\\n\"],\"observables\":{\"changes\":{\"sync\":false,\"id\":\"ob_98\",\"value\":0},\"index\":{\"sync\":true,\"id\":\"ob_97\",\"value\":1}}},\"children\":[{\"props\":{\"className\":\"interact-flex-row interact-widget\"},\"nodeType\":\"DOM\",\"type\":\"node\",\"instanceArgs\":{\"namespace\":\"html\",\"tag\":\"div\"},\"children\":[{\"props\":{\"className\":\"interact-flex-row-left\"},\"nodeType\":\"DOM\",\"type\":\"node\",\"instanceArgs\":{\"namespace\":\"html\",\"tag\":\"div\"},\"children\":[{\"props\":{\"className\":\"interact \",\"style\":{\"padding\":\"5px 10px 0px 10px\"}},\"nodeType\":\"DOM\",\"type\":\"node\",\"instanceArgs\":{\"namespace\":\"html\",\"tag\":\"label\"},\"children\":[\"Time\"]}]},{\"props\":{\"className\":\"interact-flex-row-center\"},\"nodeType\":\"DOM\",\"type\":\"node\",\"instanceArgs\":{\"namespace\":\"html\",\"tag\":\"div\"},\"children\":[{\"props\":{\"max\":563,\"min\":1,\"attributes\":{\"type\":\"range\",\"data-bind\":\"numericValue: index, valueUpdate: 'input', event: {change: function (){this.changes(this.changes()+1)}}\",\"orient\":\"horizontal\"},\"step\":1,\"className\":\"slider slider is-fullwidth\",\"style\":{}},\"nodeType\":\"DOM\",\"type\":\"node\",\"instanceArgs\":{\"namespace\":\"html\",\"tag\":\"input\"},\"children\":[]}]},{\"props\":{\"className\":\"interact-flex-row-right\"},\"nodeType\":\"DOM\",\"type\":\"node\",\"instanceArgs\":{\"namespace\":\"html\",\"tag\":\"div\"},\"children\":[{\"props\":{\"attributes\":{\"data-bind\":\"text: formatted_val\"}},\"nodeType\":\"DOM\",\"type\":\"node\",\"instanceArgs\":{\"namespace\":\"html\",\"tag\":\"p\"},\"children\":[]}]}]}]}]},{\"props\":{},\"nodeType\":\"Scope\",\"type\":\"node\",\"instanceArgs\":{\"imports\":{\"data\":[],\"type\":\"async_block\"},\"id\":\"8949641477715784795\",\"handlers\":{},\"systemjs_options\":null,\"mount_callbacks\":[],\"observables\":{\"obs-node\":{\"sync\":false,\"id\":\"ob_102\",\"value\":{\"props\":{\"className\":\"interact-flex-row interact-widget\"},\"nodeType\":\"DOM\",\"type\":\"node\",\"instanceArgs\":{\"namespace\":\"html\",\"tag\":\"div\"},\"children\":[{\"props\":{\"setInnerHtml\":\"<?xml version=\\\"1.0\\\" encoding=\\\"utf-8\\\"?>\\n<svg xmlns=\\\"http:\\/\\/www.w3.org\\/2000\\/svg\\\" xmlns:xlink=\\\"http:\\/\\/www.w3.org\\/1999\\/xlink\\\" width=\\\"1100\\\" height=\\\"500\\\" viewBox=\\\"0 0 4400 2000\\\">\\n<defs>\\n  <clipPath id=\\\"clip1000\\\">\\n    <rect x=\\\"0\\\" y=\\\"0\\\" width=\\\"4400\\\" height=\\\"2000\\\"\\/>\\n  <\\/clipPath>\\n<\\/defs>\\n<path clip-path=\\\"url(#clip1000)\\\" d=\\\"\\nM0 2000 L4400 2000 L4400 0 L0 0  Z\\n  \\\" fill=\\\"#ffffff\\\" fill-rule=\\\"evenodd\\\" fill-opacity=\\\"1\\\"\\/>\\n<defs>\\n  <clipPath id=\\\"clip1001\\\">\\n    <rect x=\\\"880\\\" y=\\\"0\\\" width=\\\"3081\\\" height=\\\"2000\\\"\\/>\\n  <\\/clipPath>\\n<\\/defs>\\n<path clip-path=\\\"url(#clip1000)\\\" d=\\\"\\nM247.846 1846.96 L2223.18 1846.96 L2223.18 94.4295 L247.846 94.4295  Z\\n  \\\" fill=\\\"#ffffff\\\" fill-rule=\\\"evenodd\\\" fill-opacity=\\\"1\\\"\\/>\\n<defs>\\n  <clipPath id=\\\"clip1002\\\">\\n    <rect x=\\\"247\\\" y=\\\"94\\\" width=\\\"1976\\\" height=\\\"1754\\\"\\/>\\n  <\\/clipPath>\\n<\\/defs>\\n<polyline clip-path=\\\"url(#clip1002)\\\" style=\\\"stroke:#000000; stroke-width:2; stroke-opacity:0.1; fill:none\\\" points=\\\"\\n  303.751,1846.96 303.751,94.4295 \\n  \\\"\\/>\\n<polyline clip-path=\\\"url(#clip1002)\\\" style=\\\"stroke:#000000; stroke-width:2; stroke-opacity:0.1; fill:none\\\" points=\\\"\\n  769.633,1846.96 769.633,94.4295 \\n  \\\"\\/>\\n<polyline clip-path=\\\"url(#clip1002)\\\" style=\\\"stroke:#000000; stroke-width:2; stroke-opacity:0.1; fill:none\\\" points=\\\"\\n  1235.51,1846.96 1235.51,94.4295 \\n  \\\"\\/>\\n<polyline clip-path=\\\"url(#clip1002)\\\" style=\\\"stroke:#000000; stroke-width:2; stroke-opacity:0.1; fill:none\\\" points=\\\"\\n  1701.4,1846.96 1701.4,94.4295 \\n  \\\"\\/>\\n<polyline clip-path=\\\"url(#clip1002)\\\" style=\\\"stroke:#000000; stroke-width:2; stroke-opacity:0.1; fill:none\\\" points=\\\"\\n  2167.28,1846.96 2167.28,94.4295 \\n  \\\"\\/>\\n<polyline clip-path=\\\"url(#clip1002)\\\" style=\\\"stroke:#000000; stroke-width:2; stroke-opacity:0.1; fill:none\\\" points=\\\"\\n  247.846,1797.36 2223.18,1797.36 \\n  \\\"\\/>\\n<polyline clip-path=\\\"url(#clip1002)\\\" style=\\\"stroke:#000000; stroke-width:2; stroke-opacity:0.1; fill:none\\\" points=\\\"\\n  247.846,1384.03 2223.18,1384.03 \\n  \\\"\\/>\\n<polyline clip-path=\\\"url(#clip1002)\\\" style=\\\"stroke:#000000; stroke-width:2; stroke-opacity:0.1; fill:none\\\" points=\\\"\\n  247.846,970.694 2223.18,970.694 \\n  \\\"\\/>\\n<polyline clip-path=\\\"url(#clip1002)\\\" style=\\\"stroke:#000000; stroke-width:2; stroke-opacity:0.1; fill:none\\\" points=\\\"\\n  247.846,557.362 2223.18,557.362 \\n  \\\"\\/>\\n<polyline clip-path=\\\"url(#clip1002)\\\" style=\\\"stroke:#000000; stroke-width:2; stroke-opacity:0.1; fill:none\\\" points=\\\"\\n  247.846,144.029 2223.18,144.029 \\n  \\\"\\/>\\n<polyline clip-path=\\\"url(#clip1000)\\\" style=\\\"stroke:#000000; stroke-width:4; stroke-opacity:1; fill:none\\\" points=\\\"\\n  247.846,1846.96 2223.18,1846.96 \\n  \\\"\\/>\\n<polyline clip-path=\\\"url(#clip1000)\\\" style=\\\"stroke:#000000; stroke-width:4; stroke-opacity:1; fill:none\\\" points=\\\"\\n  247.846,1846.96 247.846,94.4295 \\n  \\\"\\/>\\n<polyline clip-path=\\\"url(#clip1000)\\\" style=\\\"stroke:#000000; stroke-width:4; stroke-opacity:1; fill:none\\\" points=\\\"\\n  303.751,1846.96 303.751,1825.93 \\n  \\\"\\/>\\n<polyline clip-path=\\\"url(#clip1000)\\\" style=\\\"stroke:#000000; stroke-width:4; stroke-opacity:1; fill:none\\\" points=\\\"\\n  769.633,1846.96 769.633,1825.93 \\n  \\\"\\/>\\n<polyline clip-path=\\\"url(#clip1000)\\\" style=\\\"stroke:#000000; stroke-width:4; stroke-opacity:1; fill:none\\\" points=\\\"\\n  1235.51,1846.96 1235.51,1825.93 \\n  \\\"\\/>\\n<polyline clip-path=\\\"url(#clip1000)\\\" style=\\\"stroke:#000000; stroke-width:4; stroke-opacity:1; fill:none\\\" points=\\\"\\n  1701.4,1846.96 1701.4,1825.93 \\n  \\\"\\/>\\n<polyline clip-path=\\\"url(#clip1000)\\\" style=\\\"stroke:#000000; stroke-width:4; stroke-opacity:1; fill:none\\\" points=\\\"\\n  2167.28,1846.96 2167.28,1825.93 \\n  \\\"\\/>\\n<polyline clip-path=\\\"url(#clip1000)\\\" style=\\\"stroke:#000000; stroke-width:4; stroke-opacity:1; fill:none\\\" points=\\\"\\n  247.846,1797.36 271.55,1797.36 \\n  \\\"\\/>\\n<polyline clip-path=\\\"url(#clip1000)\\\" style=\\\"stroke:#000000; stroke-width:4; stroke-opacity:1; fill:none\\\" points=\\\"\\n  247.846,1384.03 271.55,1384.03 \\n  \\\"\\/>\\n<polyline clip-path=\\\"url(#clip1000)\\\" style=\\\"stroke:#000000; stroke-width:4; stroke-opacity:1; fill:none\\\" points=\\\"\\n  247.846,970.694 271.55,970.694 \\n  \\\"\\/>\\n<polyline clip-path=\\\"url(#clip1000)\\\" style=\\\"stroke:#000000; stroke-width:4; stroke-opacity:1; fill:none\\\" points=\\\"\\n  247.846,557.362 271.55,557.362 \\n  \\\"\\/>\\n<polyline clip-path=\\\"url(#clip1000)\\\" style=\\\"stroke:#000000; stroke-width:4; stroke-opacity:1; fill:none\\\" points=\\\"\\n  247.846,144.029 271.55,144.029 \\n  \\\"\\/>\\n<g clip-path=\\\"url(#clip1000)\\\">\\n<text style=\\\"fill:#000000; fill-opacity:1; font-family:Arial,Helvetica Neue,Helvetica,sans-serif; font-size:48px; text-anchor:middle;\\\" transform=\\\"rotate(0, 303.751, 1910.96)\\\" x=\\\"303.751\\\" y=\\\"1910.96\\\">0.00<\\/text>\\n<\\/g>\\n<g clip-path=\\\"url(#clip1000)\\\">\\n<text style=\\\"fill:#000000; fill-opacity:1; font-family:Arial,Helvetica Neue,Helvetica,sans-serif; font-size:48px; text-anchor:middle;\\\" transform=\\\"rotate(0, 769.633, 1910.96)\\\" x=\\\"769.633\\\" y=\\\"1910.96\\\">0.25<\\/text>\\n<\\/g>\\n<g clip-path=\\\"url(#clip1000)\\\">\\n<text style=\\\"fill:#000000; fill-opacity:1; font-family:Arial,Helvetica Neue,Helvetica,sans-serif; font-size:48px; text-anchor:middle;\\\" transform=\\\"rotate(0, 1235.51, 1910.96)\\\" x=\\\"1235.51\\\" y=\\\"1910.96\\\">0.50<\\/text>\\n<\\/g>\\n<g clip-path=\\\"url(#clip1000)\\\">\\n<text style=\\\"fill:#000000; fill-opacity:1; font-family:Arial,Helvetica Neue,Helvetica,sans-serif; font-size:48px; text-anchor:middle;\\\" transform=\\\"rotate(0, 1701.4, 1910.96)\\\" x=\\\"1701.4\\\" y=\\\"1910.96\\\">0.75<\\/text>\\n<\\/g>\\n<g clip-path=\\\"url(#clip1000)\\\">\\n<text style=\\\"fill:#000000; fill-opacity:1; font-family:Arial,Helvetica Neue,Helvetica,sans-serif; font-size:48px; text-anchor:middle;\\\" transform=\\\"rotate(0, 2167.28, 1910.96)\\\" x=\\\"2167.28\\\" y=\\\"1910.96\\\">1.00<\\/text>\\n<\\/g>\\n<g clip-path=\\\"url(#clip1000)\\\">\\n<text style=\\\"fill:#000000; fill-opacity:1; font-family:Arial,Helvetica Neue,Helvetica,sans-serif; font-size:48px; text-anchor:end;\\\" transform=\\\"rotate(0, 203.846, 1814.86)\\\" x=\\\"203.846\\\" y=\\\"1814.86\\\">0.00<\\/text>\\n<\\/g>\\n<g clip-path=\\\"url(#clip1000)\\\">\\n<text style=\\\"fill:#000000; fill-opacity:1; font-family:Arial,Helvetica Neue,Helvetica,sans-serif; font-size:48px; text-anchor:end;\\\" transform=\\\"rotate(0, 203.846, 1401.53)\\\" x=\\\"203.846\\\" y=\\\"1401.53\\\">0.25<\\/text>\\n<\\/g>\\n<g clip-path=\\\"url(#clip1000)\\\">\\n<text style=\\\"fill:#000000; fill-opacity:1; font-family:Arial,Helvetica Neue,Helvetica,sans-serif; font-size:48px; text-anchor:end;\\\" transform=\\\"rotate(0, 203.846, 988.194)\\\" x=\\\"203.846\\\" y=\\\"988.194\\\">0.50<\\/text>\\n<\\/g>\\n<g clip-path=\\\"url(#clip1000)\\\">\\n<text style=\\\"fill:#000000; fill-opacity:1; font-family:Arial,Helvetica Neue,Helvetica,sans-serif; font-size:48px; text-anchor:end;\\\" transform=\\\"rotate(0, 203.846, 574.862)\\\" x=\\\"203.846\\\" y=\\\"574.862\\\">0.75<\\/text>\\n<\\/g>\\n<g clip-path=\\\"url(#clip1000)\\\">\\n<text style=\\\"fill:#000000; fill-opacity:1; font-family:Arial,Helvetica Neue,Helvetica,sans-serif; font-size:48px; text-anchor:end;\\\" transform=\\\"rotate(0, 203.846, 161.529)\\\" x=\\\"203.846\\\" y=\\\"161.529\\\">1.00<\\/text>\\n<\\/g>\\n<polyline clip-path=\\\"url(#clip1002)\\\" style=\\\"stroke:#000000; stroke-width:4; stroke-opacity:1; fill:none\\\" points=\\\"\\n  247.846,94.4295 2223.18,94.4295 \\n  \\\"\\/>\\n<polyline clip-path=\\\"url(#clip1002)\\\" style=\\\"stroke:#000000; stroke-width:4; stroke-opacity:1; fill:none\\\" points=\\\"\\n  2223.18,1846.96 2223.18,94.4295 \\n  \\\"\\/>\\n<g clip-path=\\\"url(#clip1000)\\\">\\n<text style=\\\"fill:#000000; fill-opacity:1; font-family:Arial,Helvetica Neue,Helvetica,sans-serif; font-size:66px; text-anchor:end;\\\" transform=\\\"rotate(0, 2223.18, 57.6)\\\" x=\\\"2223.18\\\" y=\\\"57.6\\\">2-Level System Dynamic Rate Equations -- Solution<\\/text>\\n<\\/g>\\n<g clip-path=\\\"url(#clip1000)\\\">\\n<text style=\\\"fill:#000000; fill-opacity:1; font-family:Arial,Helvetica Neue,Helvetica,sans-serif; font-size:66px; text-anchor:middle;\\\" transform=\\\"rotate(0, 1235.51, 2000.82)\\\" x=\\\"1235.51\\\" y=\\\"2000.82\\\">Time<\\/text>\\n<\\/g>\\n<g clip-path=\\\"url(#clip1000)\\\">\\n<text style=\\\"fill:#000000; fill-opacity:1; font-family:Arial,Helvetica Neue,Helvetica,sans-serif; font-size:66px; text-anchor:middle;\\\" transform=\\\"rotate(-90, 54.6154, 970.694)\\\" x=\\\"54.6154\\\" y=\\\"970.694\\\">Level populations<\\/text>\\n<\\/g>\\n<path clip-path=\\\"url(#clip1000)\\\" d=\\\"\\nM1589.67 479.389 L2091.18 479.389 L2091.18 297.949 L1589.67 297.949  Z\\n  \\\" fill=\\\"#ffffff\\\" fill-rule=\\\"evenodd\\\" fill-opacity=\\\"1\\\"\\/>\\n<polyline clip-path=\\\"url(#clip1000)\\\" style=\\\"stroke:#000000; stroke-width:4; stroke-opacity:1; fill:none\\\" points=\\\"\\n  1589.67,479.389 2091.18,479.389 2091.18,297.949 1589.67,297.949 1589.67,479.389 \\n  \\\"\\/>\\n<polyline clip-path=\\\"url(#clip1000)\\\" style=\\\"stroke:#009af9; stroke-width:8; stroke-opacity:1; fill:none\\\" points=\\\"\\n  1633.67,358.429 1897.67,358.429 \\n  \\\"\\/>\\n<g clip-path=\\\"url(#clip1000)\\\">\\n<text style=\\\"fill:#000000; fill-opacity:1; font-family:Arial,Helvetica Neue,Helvetica,sans-serif; font-size:48px; text-anchor:start;\\\" transform=\\\"rotate(0, 1941.67, 375.929)\\\" x=\\\"1941.67\\\" y=\\\"375.929\\\">N1<\\/text>\\n<\\/g>\\n<polyline clip-path=\\\"url(#clip1000)\\\" style=\\\"stroke:#e26f46; stroke-width:8; stroke-opacity:1; fill:none\\\" points=\\\"\\n  1633.67,418.909 1897.67,418.909 \\n  \\\"\\/>\\n<g clip-path=\\\"url(#clip1000)\\\">\\n<text style=\\\"fill:#000000; fill-opacity:1; font-family:Arial,Helvetica Neue,Helvetica,sans-serif; font-size:48px; text-anchor:start;\\\" transform=\\\"rotate(0, 1941.67, 436.409)\\\" x=\\\"1941.67\\\" y=\\\"436.409\\\">N2<\\/text>\\n<\\/g>\\n<path clip-path=\\\"url(#clip1000)\\\" d=\\\"\\nM2377.42 1846.96 L4352.76 1846.96 L4352.76 94.4295 L2377.42 94.4295  Z\\n  \\\" fill=\\\"#ffffff\\\" fill-rule=\\\"evenodd\\\" fill-opacity=\\\"1\\\"\\/>\\n<defs>\\n  <clipPath id=\\\"clip1003\\\">\\n    <rect x=\\\"2377\\\" y=\\\"94\\\" width=\\\"1976\\\" height=\\\"1754\\\"\\/>\\n  <\\/clipPath>\\n<\\/defs>\\n<polyline clip-path=\\\"url(#clip1003)\\\" style=\\\"stroke:#000000; stroke-width:2; stroke-opacity:0.1; fill:none\\\" points=\\\"\\n  2899.21,1846.96 2899.21,94.4295 \\n  \\\"\\/>\\n<polyline clip-path=\\\"url(#clip1003)\\\" style=\\\"stroke:#000000; stroke-width:2; stroke-opacity:0.1; fill:none\\\" points=\\\"\\n  3830.97,1846.96 3830.97,94.4295 \\n  \\\"\\/>\\n<polyline clip-path=\\\"url(#clip1000)\\\" style=\\\"stroke:#000000; stroke-width:4; stroke-opacity:1; fill:none\\\" points=\\\"\\n  2377.42,1846.96 4352.76,1846.96 \\n  \\\"\\/>\\n<polyline clip-path=\\\"url(#clip1000)\\\" style=\\\"stroke:#000000; stroke-width:4; stroke-opacity:1; fill:none\\\" points=\\\"\\n  2377.42,1846.96 2377.42,94.4295 \\n  \\\"\\/>\\n<polyline clip-path=\\\"url(#clip1000)\\\" style=\\\"stroke:#000000; stroke-width:4; stroke-opacity:1; fill:none\\\" points=\\\"\\n  2899.21,1846.96 2899.21,1825.93 \\n  \\\"\\/>\\n<polyline clip-path=\\\"url(#clip1000)\\\" style=\\\"stroke:#000000; stroke-width:4; stroke-opacity:1; fill:none\\\" points=\\\"\\n  3830.97,1846.96 3830.97,1825.93 \\n  \\\"\\/>\\n<g clip-path=\\\"url(#clip1000)\\\">\\n<text style=\\\"fill:#000000; fill-opacity:1; font-family:Arial,Helvetica Neue,Helvetica,sans-serif; font-size:48px; text-anchor:middle;\\\" transform=\\\"rotate(0, 2899.21, 1910.96)\\\" x=\\\"2899.21\\\" y=\\\"1910.96\\\">N1<\\/text>\\n<\\/g>\\n<g clip-path=\\\"url(#clip1000)\\\">\\n<text style=\\\"fill:#000000; fill-opacity:1; font-family:Arial,Helvetica Neue,Helvetica,sans-serif; font-size:48px; text-anchor:middle;\\\" transform=\\\"rotate(0, 3830.97, 1910.96)\\\" x=\\\"3830.97\\\" y=\\\"1910.96\\\">N2<\\/text>\\n<\\/g>\\n<polyline clip-path=\\\"url(#clip1003)\\\" style=\\\"stroke:#000000; stroke-width:4; stroke-opacity:1; fill:none\\\" points=\\\"\\n  2377.42,94.4295 4352.76,94.4295 \\n  \\\"\\/>\\n<polyline clip-path=\\\"url(#clip1003)\\\" style=\\\"stroke:#000000; stroke-width:4; stroke-opacity:1; fill:none\\\" points=\\\"\\n  4352.76,1846.96 4352.76,94.4295 \\n  \\\"\\/>\\n<path clip-path=\\\"url(#clip1003)\\\" d=\\\"\\nM2433.32 1394.36 L3365.09 1394.36 L3365.09 1373.69 L2433.32 1373.69 L2433.32 1394.36  Z\\n  \\\" fill=\\\"#0000ff\\\" fill-rule=\\\"evenodd\\\" fill-opacity=\\\"1\\\"\\/>\\n<polyline clip-path=\\\"url(#clip1003)\\\" style=\\\"stroke:#000000; stroke-width:4; stroke-opacity:1; fill:none\\\" points=\\\"\\n  2433.32,1394.36 3365.09,1394.36 3365.09,1373.69 2433.32,1373.69 2433.32,1394.36 \\n  \\\"\\/>\\n<path clip-path=\\\"url(#clip1003)\\\" d=\\\"\\nM3365.09 567.695 L4296.85 567.695 L4296.85 547.028 L3365.09 547.028 L3365.09 567.695  Z\\n  \\\" fill=\\\"#ff0000\\\" fill-rule=\\\"evenodd\\\" fill-opacity=\\\"1\\\"\\/>\\n<polyline clip-path=\\\"url(#clip1003)\\\" style=\\\"stroke:#000000; stroke-width:4; stroke-opacity:1; fill:none\\\" points=\\\"\\n  3365.09,567.695 4296.85,567.695 4296.85,547.028 3365.09,547.028 3365.09,567.695 \\n  \\\"\\/>\\n<path clip-path=\\\"url(#clip1003)\\\" d=\\\"\\nM2433.32 1797.36 L4296.85 1797.36 L4296.85 144.029 L2433.32 144.029 L2433.32 1797.36  Z\\n  \\\" fill=\\\"#ffffff\\\" fill-rule=\\\"evenodd\\\" fill-opacity=\\\"0\\\"\\/>\\n<polyline clip-path=\\\"url(#clip1003)\\\" style=\\\"stroke:#000000; stroke-width:0; stroke-opacity:1; fill:none\\\" points=\\\"\\n  2433.32,1797.36 4296.85,1797.36 4296.85,144.029 2433.32,144.029 2433.32,1797.36 \\n  \\\"\\/>\\n<path clip-path=\\\"url(#clip1003)\\\" d=\\\"\\nM2806.03 1373.69 L2992.38 1373.69 L2992.38 993.325 L2806.03 993.325 L2806.03 1373.69  Z\\n  \\\" fill=\\\"#0000ff\\\" fill-rule=\\\"evenodd\\\" fill-opacity=\\\"0.5\\\"\\/>\\n<polyline clip-path=\\\"url(#clip1003)\\\" style=\\\"stroke:#000000; stroke-width:4; stroke-opacity:1; fill:none\\\" points=\\\"\\n  2806.03,1373.69 2992.38,1373.69 2992.38,993.325 2806.03,993.325 2806.03,1373.69 \\n  \\\"\\/>\\n<path clip-path=\\\"url(#clip1003)\\\" d=\\\"\\nM3737.79 547.028 L3924.15 547.028 L3924.15 514.064 L3737.79 514.064 L3737.79 547.028  Z\\n  \\\" fill=\\\"#ff0000\\\" fill-rule=\\\"evenodd\\\" fill-opacity=\\\"0.5\\\"\\/>\\n<polyline clip-path=\\\"url(#clip1003)\\\" style=\\\"stroke:#000000; stroke-width:4; stroke-opacity:1; fill:none\\\" points=\\\"\\n  3737.79,547.028 3924.15,547.028 3924.15,514.064 3737.79,514.064 3737.79,547.028 \\n  \\\"\\/>\\n<\\/svg>\\n\"},\"nodeType\":\"DOM\",\"type\":\"node\",\"instanceArgs\":{\"namespace\":\"html\",\"tag\":\"div\"},\"children\":[]}]}}}},\"children\":[{\"props\":{},\"nodeType\":\"ObservableNode\",\"type\":\"node\",\"instanceArgs\":{\"id\":\"ob_102\",\"name\":\"obs-node\"},\"children\":[]}]}]},\n",
       "            window,\n",
       "        );\n",
       "    } else {\n",
       "        document\n",
       "            .querySelector('[data-webio-mountpoint=\"14732789631034275136\"]')\n",
       "            .innerHTML = (\n",
       "                '<div style=\"padding: 1em; background-color: #f8d6da; border: 1px solid #f5c6cb\">' +\n",
       "                '<p><strong>WebIO not detected.</strong></p>' +\n",
       "                '<p>Please read ' +\n",
       "                '<a href=\"https://juliagizmos.github.io/WebIO.jl/latest/troubleshooting/not-detected/\" target=\"_blank\">the troubleshooting guide</a> ' +\n",
       "                'for more information on how to resolve this issue.</p>' +\n",
       "                '<p><a href=\"https://juliagizmos.github.io/WebIO.jl/latest/troubleshooting/not-detected/\" target=\"_blank\">https://juliagizmos.github.io/WebIO.jl/latest/troubleshooting/not-detected/</a></p>' +\n",
       "                '</div>'\n",
       "            );\n",
       "    }\n",
       "    </script>\n",
       "</div>\n"
      ],
      "text/plain": [
       "Node{WebIO.DOM}(WebIO.DOM(:html, :div), Any[Node{WebIO.DOM}(WebIO.DOM(:html, :div), Any[Scope(Node{WebIO.DOM}(WebIO.DOM(:html, :div), Any[Node{WebIO.DOM}(WebIO.DOM(:html, :div), Any[Node{WebIO.DOM}(WebIO.DOM(:html, :label), Any[\"Time\"], Dict{Symbol,Any}(:className => \"interact \",:style => Dict{Any,Any}(:padding => \"5px 10px 0px 10px\")))], Dict{Symbol,Any}(:className => \"interact-flex-row-left\")), Node{WebIO.DOM}(WebIO.DOM(:html, :div), Any[Node{WebIO.DOM}(WebIO.DOM(:html, :input), Any[], Dict{Symbol,Any}(:max => 563,:min => 1,:attributes => Dict{Any,Any}(:type => \"range\",Symbol(\"data-bind\") => \"numericValue: index, valueUpdate: 'input', event: {change: function (){this.changes(this.changes()+1)}}\",\"orient\" => \"horizontal\"),:step => 1,:className => \"slider slider is-fullwidth\",:style => Dict{Any,Any}()))], Dict{Symbol,Any}(:className => \"interact-flex-row-center\")), Node{WebIO.DOM}(WebIO.DOM(:html, :div), Any[Node{WebIO.DOM}(WebIO.DOM(:html, :p), Any[], Dict{Symbol,Any}(:attributes => Dict(\"data-bind\" => \"text: formatted_val\")))], Dict{Symbol,Any}(:className => \"interact-flex-row-right\"))], Dict{Symbol,Any}(:className => \"interact-flex-row interact-widget\")), Dict{String,Tuple{Observables.AbstractObservable,Union{Nothing, Bool}}}(\"changes\" => (Observable{Int64} with 1 listeners. Value:\n",
       "0, nothing),\"index\" => (Observable{Int64} with 2 listeners. Value:\n",
       "1, nothing)), Set(String[]), nothing, Asset[Asset(\"js\", \"knockout\", \"C:\\\\Users\\\\kaltsoplyn\\\\.julia\\\\packages\\\\Knockout\\\\1sDlc\\\\src\\\\..\\\\assets\\\\knockout.js\"), Asset(\"js\", \"knockout_punches\", \"C:\\\\Users\\\\kaltsoplyn\\\\.julia\\\\packages\\\\Knockout\\\\1sDlc\\\\src\\\\..\\\\assets\\\\knockout_punches.js\"), Asset(\"js\", nothing, \"C:\\\\Users\\\\kaltsoplyn\\\\.julia\\\\packages\\\\InteractBase\\\\9mFwe\\\\src\\\\..\\\\assets\\\\all.js\"), Asset(\"css\", nothing, \"C:\\\\Users\\\\kaltsoplyn\\\\.julia\\\\packages\\\\InteractBase\\\\9mFwe\\\\src\\\\..\\\\assets\\\\style.css\"), Asset(\"css\", nothing, \"C:\\\\Users\\\\kaltsoplyn\\\\.julia\\\\packages\\\\Interact\\\\SbgIk\\\\src\\\\..\\\\assets\\\\bulma_confined.min.css\")], Dict{Any,Any}(\"changes\" => Any[WebIO.JSString(\"(function (val){return (val!=this.model[\\\"changes\\\"]()) ? (this.valueFromJulia[\\\"changes\\\"]=true, this.model[\\\"changes\\\"](val)) : undefined})\")],\"index\" => Any[WebIO.JSString(\"(function (val){return (val!=this.model[\\\"index\\\"]()) ? (this.valueFromJulia[\\\"index\\\"]=true, this.model[\\\"index\\\"](val)) : undefined})\")]), WebIO.ConnectionPool(Channel{Any}(sz_max:32,sz_curr:0), Set(AbstractConnection[]), Base.GenericCondition{Base.AlwaysLockedST}(Base.InvasiveLinkedList{Task}(Task (runnable) @0x00000000128a3c70, Task (runnable) @0x00000000128a3c70), Base.AlwaysLockedST(1))), WebIO.JSString[WebIO.JSString(\"function () {\\n    var handler = (function (ko, koPunches) {\\n    ko.punches.enableAll();\\n    ko.bindingHandlers.numericValue = {\\n        init: function(element, valueAccessor, allBindings, data, context) {\\n            var stringified = ko.observable(ko.unwrap(valueAccessor()));\\n            stringified.subscribe(function(value) {\\n                var val = parseFloat(value);\\n                if (!isNaN(val)) {\\n                    valueAccessor()(val);\\n                }\\n            });\\n            valueAccessor().subscribe(function(value) {\\n                var str = JSON.stringify(value);\\n                if ((str == \\\"0\\\") && ([\\\"-0\\\", \\\"-0.\\\"].indexOf(stringified()) >= 0))\\n                     return;\\n                 if ([\\\"null\\\", \\\"\\\"].indexOf(str) >= 0)\\n                     return;\\n                stringified(str);\\n            });\\n            ko.applyBindingsToNode(\\n                element,\\n                {\\n                    value: stringified,\\n                    valueUpdate: allBindings.get('valueUpdate'),\\n                },\\n                context,\\n            );\\n        }\\n    };\\n    var json_data = {\\\"formatted_vals\\\":[\\\"1\\\",\\\"2\\\",\\\"3\\\",\\\"4\\\",\\\"5\\\",\\\"6\\\",\\\"7\\\",\\\"8\\\",\\\"9\\\",\\\"10\\\",\\\"11\\\",\\\"12\\\",\\\"13\\\",\\\"14\\\",\\\"15\\\",\\\"16\\\",\\\"17\\\",\\\"18\\\",\\\"19\\\",\\\"20\\\",\\\"21\\\",\\\"22\\\",\\\"23\\\",\\\"24\\\",\\\"25\\\",\\\"26\\\",\\\"27\\\",\\\"28\\\",\\\"29\\\",\\\"30\\\",\\\"31\\\",\\\"32\\\",\\\"33\\\",\\\"34\\\",\\\"35\\\",\\\"36\\\",\\\"37\\\",\\\"38\\\",\\\"39\\\",\\\"40\\\",\\\"41\\\",\\\"42\\\",\\\"43\\\",\\\"44\\\",\\\"45\\\",\\\"46\\\",\\\"47\\\",\\\"48\\\",\\\"49\\\",\\\"50\\\",\\\"51\\\",\\\"52\\\",\\\"53\\\",\\\"54\\\",\\\"55\\\",\\\"56\\\",\\\"57\\\",\\\"58\\\",\\\"59\\\",\\\"60\\\",\\\"61\\\",\\\"62\\\",\\\"63\\\",\\\"64\\\",\\\"65\\\",\\\"66\\\",\\\"67\\\",\\\"68\\\",\\\"69\\\",\\\"70\\\",\\\"71\\\",\\\"72\\\",\\\"73\\\",\\\"74\\\",\\\"75\\\",\\\"76\\\",\\\"77\\\",\\\"78\\\",\\\"79\\\",\\\"80\\\",\\\"81\\\",\\\"82\\\",\\\"83\\\",\\\"84\\\",\\\"85\\\",\\\"86\\\",\\\"87\\\",\\\"88\\\",\\\"89\\\",\\\"90\\\",\\\"91\\\",\\\"92\\\",\\\"93\\\",\\\"94\\\",\\\"95\\\",\\\"96\\\",\\\"97\\\",\\\"98\\\",\\\"99\\\",\\\"100\\\",\\\"101\\\",\\\"102\\\",\\\"103\\\",\\\"104\\\",\\\"105\\\",\\\"106\\\",\\\"107\\\",\\\"108\\\",\\\"109\\\",\\\"110\\\",\\\"111\\\",\\\"112\\\",\\\"113\\\",\\\"114\\\",\\\"115\\\",\\\"116\\\",\\\"117\\\",\\\"118\\\",\\\"119\\\",\\\"120\\\",\\\"121\\\",\\\"122\\\",\\\"123\\\",\\\"124\\\",\\\"125\\\",\\\"126\\\",\\\"127\\\",\\\"128\\\",\\\"129\\\",\\\"130\\\",\\\"131\\\",\\\"132\\\",\\\"133\\\",\\\"134\\\",\\\"135\\\",\\\"136\\\",\\\"137\\\",\\\"138\\\",\\\"139\\\",\\\"140\\\",\\\"141\\\",\\\"142\\\",\\\"143\\\",\\\"144\\\",\\\"145\\\",\\\"146\\\",\\\"147\\\",\\\"148\\\",\\\"149\\\",\\\"150\\\",\\\"151\\\",\\\"152\\\",\\\"153\\\",\\\"154\\\",\\\"155\\\",\\\"156\\\",\\\"157\\\",\\\"158\\\",\\\"159\\\",\\\"160\\\",\\\"161\\\",\\\"162\\\",\\\"163\\\",\\\"164\\\",\\\"165\\\",\\\"166\\\",\\\"167\\\",\\\"168\\\",\\\"169\\\",\\\"170\\\",\\\"171\\\",\\\"172\\\",\\\"173\\\",\\\"174\\\",\\\"175\\\",\\\"176\\\",\\\"177\\\",\\\"178\\\",\\\"179\\\",\\\"180\\\",\\\"181\\\",\\\"182\\\",\\\"183\\\",\\\"184\\\",\\\"185\\\",\\\"186\\\",\\\"187\\\",\\\"188\\\",\\\"189\\\",\\\"190\\\",\\\"191\\\",\\\"192\\\",\\\"193\\\",\\\"194\\\",\\\"195\\\",\\\"196\\\",\\\"197\\\",\\\"198\\\",\\\"199\\\",\\\"200\\\",\\\"201\\\",\\\"202\\\",\\\"203\\\",\\\"204\\\",\\\"205\\\",\\\"206\\\",\\\"207\\\",\\\"208\\\",\\\"209\\\",\\\"210\\\",\\\"211\\\",\\\"212\\\",\\\"213\\\",\\\"214\\\",\\\"215\\\",\\\"216\\\",\\\"217\\\",\\\"218\\\",\\\"219\\\",\\\"220\\\",\\\"221\\\",\\\"222\\\",\\\"223\\\",\\\"224\\\",\\\"225\\\",\\\"226\\\",\\\"227\\\",\\\"228\\\",\\\"229\\\",\\\"230\\\",\\\"231\\\",\\\"232\\\",\\\"233\\\",\\\"234\\\",\\\"235\\\",\\\"236\\\",\\\"237\\\",\\\"238\\\",\\\"239\\\",\\\"240\\\",\\\"241\\\",\\\"242\\\",\\\"243\\\",\\\"244\\\",\\\"245\\\",\\\"246\\\",\\\"247\\\",\\\"248\\\",\\\"249\\\",\\\"250\\\",\\\"251\\\",\\\"252\\\",\\\"253\\\",\\\"254\\\",\\\"255\\\",\\\"256\\\",\\\"257\\\",\\\"258\\\",\\\"259\\\",\\\"260\\\",\\\"261\\\",\\\"262\\\",\\\"263\\\",\\\"264\\\",\\\"265\\\",\\\"266\\\",\\\"267\\\",\\\"268\\\",\\\"269\\\",\\\"270\\\",\\\"271\\\",\\\"272\\\",\\\"273\\\",\\\"274\\\",\\\"275\\\",\\\"276\\\",\\\"277\\\",\\\"278\\\",\\\"279\\\",\\\"280\\\",\\\"281\\\",\\\"282\\\",\\\"283\\\",\\\"284\\\",\\\"285\\\",\\\"286\\\",\\\"287\\\",\\\"288\\\",\\\"289\\\",\\\"290\\\",\\\"291\\\",\\\"292\\\",\\\"293\\\",\\\"294\\\",\\\"295\\\",\\\"296\\\",\\\"297\\\",\\\"298\\\",\\\"299\\\",\\\"300\\\",\\\"301\\\",\\\"302\\\",\\\"303\\\",\\\"304\\\",\\\"305\\\",\\\"306\\\",\\\"307\\\",\\\"308\\\",\\\"309\\\",\\\"310\\\",\\\"311\\\",\\\"312\\\",\\\"313\\\",\\\"314\\\",\\\"315\\\",\\\"316\\\",\\\"317\\\",\\\"318\\\",\\\"319\\\",\\\"320\\\",\\\"321\\\",\\\"322\\\",\\\"323\\\",\\\"324\\\",\\\"325\\\",\\\"326\\\",\\\"327\\\",\\\"328\\\",\\\"329\\\",\\\"330\\\",\\\"331\\\",\\\"332\\\",\\\"333\\\",\\\"334\\\",\\\"335\\\",\\\"336\\\",\\\"337\\\",\\\"338\\\",\\\"339\\\",\\\"340\\\",\\\"341\\\",\\\"342\\\",\\\"343\\\",\\\"344\\\",\\\"345\\\",\\\"346\\\",\\\"347\\\",\\\"348\\\",\\\"349\\\",\\\"350\\\",\\\"351\\\",\\\"352\\\",\\\"353\\\",\\\"354\\\",\\\"355\\\",\\\"356\\\",\\\"357\\\",\\\"358\\\",\\\"359\\\",\\\"360\\\",\\\"361\\\",\\\"362\\\",\\\"363\\\",\\\"364\\\",\\\"365\\\",\\\"366\\\",\\\"367\\\",\\\"368\\\",\\\"369\\\",\\\"370\\\",\\\"371\\\",\\\"372\\\",\\\"373\\\",\\\"374\\\",\\\"375\\\",\\\"376\\\",\\\"377\\\",\\\"378\\\",\\\"379\\\",\\\"380\\\",\\\"381\\\",\\\"382\\\",\\\"383\\\",\\\"384\\\",\\\"385\\\",\\\"386\\\",\\\"387\\\",\\\"388\\\",\\\"389\\\",\\\"390\\\",\\\"391\\\",\\\"392\\\",\\\"393\\\",\\\"394\\\",\\\"395\\\",\\\"396\\\",\\\"397\\\",\\\"398\\\",\\\"399\\\",\\\"400\\\",\\\"401\\\",\\\"402\\\",\\\"403\\\",\\\"404\\\",\\\"405\\\",\\\"406\\\",\\\"407\\\",\\\"408\\\",\\\"409\\\",\\\"410\\\",\\\"411\\\",\\\"412\\\",\\\"413\\\",\\\"414\\\",\\\"415\\\",\\\"416\\\",\\\"417\\\",\\\"418\\\",\\\"419\\\",\\\"420\\\",\\\"421\\\",\\\"422\\\",\\\"423\\\",\\\"424\\\",\\\"425\\\",\\\"426\\\",\\\"427\\\",\\\"428\\\",\\\"429\\\",\\\"430\\\",\\\"431\\\",\\\"432\\\",\\\"433\\\",\\\"434\\\",\\\"435\\\",\\\"436\\\",\\\"437\\\",\\\"438\\\",\\\"439\\\",\\\"440\\\",\\\"441\\\",\\\"442\\\",\\\"443\\\",\\\"444\\\",\\\"445\\\",\\\"446\\\",\\\"447\\\",\\\"448\\\",\\\"449\\\",\\\"450\\\",\\\"451\\\",\\\"452\\\",\\\"453\\\",\\\"454\\\",\\\"455\\\",\\\"456\\\",\\\"457\\\",\\\"458\\\",\\\"459\\\",\\\"460\\\",\\\"461\\\",\\\"462\\\",\\\"463\\\",\\\"464\\\",\\\"465\\\",\\\"466\\\",\\\"467\\\",\\\"468\\\",\\\"469\\\",\\\"470\\\",\\\"471\\\",\\\"472\\\",\\\"473\\\",\\\"474\\\",\\\"475\\\",\\\"476\\\",\\\"477\\\",\\\"478\\\",\\\"479\\\",\\\"480\\\",\\\"481\\\",\\\"482\\\",\\\"483\\\",\\\"484\\\",\\\"485\\\",\\\"486\\\",\\\"487\\\",\\\"488\\\",\\\"489\\\",\\\"490\\\",\\\"491\\\",\\\"492\\\",\\\"493\\\",\\\"494\\\",\\\"495\\\",\\\"496\\\",\\\"497\\\",\\\"498\\\",\\\"499\\\",\\\"500\\\",\\\"501\\\",\\\"502\\\",\\\"503\\\",\\\"504\\\",\\\"505\\\",\\\"506\\\",\\\"507\\\",\\\"508\\\",\\\"509\\\",\\\"510\\\",\\\"511\\\",\\\"512\\\",\\\"513\\\",\\\"514\\\",\\\"515\\\",\\\"516\\\",\\\"517\\\",\\\"518\\\",\\\"519\\\",\\\"520\\\",\\\"521\\\",\\\"522\\\",\\\"523\\\",\\\"524\\\",\\\"525\\\",\\\"526\\\",\\\"527\\\",\\\"528\\\",\\\"529\\\",\\\"530\\\",\\\"531\\\",\\\"532\\\",\\\"533\\\",\\\"534\\\",\\\"535\\\",\\\"536\\\",\\\"537\\\",\\\"538\\\",\\\"539\\\",\\\"540\\\",\\\"541\\\",\\\"542\\\",\\\"543\\\",\\\"544\\\",\\\"545\\\",\\\"546\\\",\\\"547\\\",\\\"548\\\",\\\"549\\\",\\\"550\\\",\\\"551\\\",\\\"552\\\",\\\"553\\\",\\\"554\\\",\\\"555\\\",\\\"556\\\",\\\"557\\\",\\\"558\\\",\\\"559\\\",\\\"560\\\",\\\"561\\\",\\\"562\\\",\\\"563\\\"],\\\"changes\\\":WebIO.getval({\\\"name\\\":\\\"changes\\\",\\\"scope\\\":\\\"8021347693521665412\\\",\\\"id\\\":\\\"ob_98\\\",\\\"type\\\":\\\"observable\\\"}),\\\"index\\\":WebIO.getval({\\\"name\\\":\\\"index\\\",\\\"scope\\\":\\\"8021347693521665412\\\",\\\"id\\\":\\\"ob_97\\\",\\\"type\\\":\\\"observable\\\"})};\\n    var self = this;\\n    function AppViewModel() {\\n        for (var key in json_data) {\\n            var el = json_data[key];\\n            this[key] = Array.isArray(el) ? ko.observableArray(el) : ko.observable(el);\\n        }\\n        \\n        [this[\\\"formatted_val\\\"]=ko.computed(    function(){\\n        return this.formatted_vals()[parseInt(this.index())-(1)];\\n    }\\n,this)]\\n        [this[\\\"changes\\\"].subscribe((function (val){!(this.valueFromJulia[\\\"changes\\\"]) ? (WebIO.setval({\\\"name\\\":\\\"changes\\\",\\\"scope\\\":\\\"8021347693521665412\\\",\\\"id\\\":\\\"ob_98\\\",\\\"type\\\":\\\"observable\\\"},val)) : undefined; return this.valueFromJulia[\\\"changes\\\"]=false}),self),this[\\\"index\\\"].subscribe((function (val){!(this.valueFromJulia[\\\"index\\\"]) ? (WebIO.setval({\\\"name\\\":\\\"index\\\",\\\"scope\\\":\\\"8021347693521665412\\\",\\\"id\\\":\\\"ob_97\\\",\\\"type\\\":\\\"observable\\\"},val)) : undefined; return this.valueFromJulia[\\\"index\\\"]=false}),self)]\\n        \\n    }\\n    self.model = new AppViewModel();\\n    self.valueFromJulia = {};\\n    for (var key in json_data) {\\n        self.valueFromJulia[key] = false;\\n    }\\n    ko.applyBindings(self.model, self.dom);\\n}\\n);\\n    (WebIO.importBlock({\\\"data\\\":[{\\\"name\\\":\\\"knockout\\\",\\\"type\\\":\\\"js\\\",\\\"url\\\":\\\"/assetserver/58532c656e5c3ea95bc9e6ba08f6e0bbf64f3349-knockout.js\\\"},{\\\"name\\\":\\\"knockout_punches\\\",\\\"type\\\":\\\"js\\\",\\\"url\\\":\\\"/assetserver/97167f822e98661cc85dd010a2419f4651aeb9c6-knockout_punches.js\\\"}],\\\"type\\\":\\\"async_block\\\"})).then((imports) => handler.apply(this, imports));\\n}\\n\")])], Dict{Symbol,Any}(:className => \"field interact-widget\")), Observable{Any} with 0 listeners. Value:\n",
       "Node{WebIO.DOM}(WebIO.DOM(:html, :div), Any[Plot{Plots.GRBackend() n=6}], Dict{Symbol,Any}(:className => \"interact-flex-row interact-widget\"))], Dict{Symbol,Any}())"
      ]
     },
     "execution_count": 47,
     "metadata": {
      "application/vnd.webio.node+json": {
       "kernelId": "5eb1ddec-ee6e-47d8-9d57-f88698952025"
      }
     },
     "output_type": "execute_result"
    }
   ],
   "source": [
    "@manipulate for t = slider(1:length(sol2D), value = 1, label = \"Time\")\n",
    "    evo2 = plot(sol2D.t[1:t], (abs.(collect(sol2D[1:t])))', labels = [\"N1\" \"N2\"], lw = 2,\n",
    "        framestyle = :box, title = \"2-Level System Dynamic Rate Equations -- Solution\",\n",
    "        title_location = :right, titlefontsize = 11, xaxis = (\"Time\", 0:1), yaxis = (\"Level populations\", 0:1))\n",
    "    sys2 = plot([level(1,1), level(2,3)], fillcolor = [:blue, :red])\n",
    "          plot!(clipping_box(0.5, 0, 2.5, 4), lw = 0, fillalpha = 0, fillcolor = :white)\n",
    "          plot!(sys2, framestyle = :box, xticks = ([1:1:2;], [\"N1\", \"N2\"]), yticks = [], legend = false)\n",
    "          plot!(level_pop(1, 1, pop21(t/length(sol2))), fillalpha = 0.5, fillcolor = :blue)\n",
    "          plot!(level_pop(2, 3, pop22(t/length(sol2))), fillalpha = 0.5, fillcolor = :red)\n",
    "    plot(evo2, sys2, size = (1100, 500))\n",
    "end"
   ]
  },
  {
   "cell_type": "markdown",
   "metadata": {},
   "source": [
    "## 3 Levels"
   ]
  },
  {
   "cell_type": "code",
   "execution_count": 12,
   "metadata": {},
   "outputs": [
    {
     "data": {
      "text/plain": [
       "\u001b[36mODEProblem\u001b[0m with uType \u001b[36mArray{Float64,1}\u001b[0m and tType \u001b[36mFloat64\u001b[0m. In-place: \u001b[36mtrue\u001b[0m\n",
       "timespan: (0.0, 1.0)\n",
       "u0: [1.0, 0.0, 0.0]"
      ]
     },
     "execution_count": 12,
     "metadata": {},
     "output_type": "execute_result"
    }
   ],
   "source": [
    "using DifferentialEquations\n",
    "\n",
    "function rate_eqs!(dN, N, pars, t)\n",
    "    N1, N2, N3 = N\n",
    "    R, γ31, γ32, γ2 = pars\n",
    "    dN[1] = dN1 = -R * N1 + γ31 * N3 + γ2 * N2\n",
    "    dN[2] = dN2 = -γ2 * N2 + γ32 * N3\n",
    "    dN[3] = dN3 = +R * N1 - (γ31 + γ32) * N3\n",
    "end\n",
    "\n",
    "N0 = [1., 0., 0.]\n",
    "tspan = (0.0, 1.0)\n",
    "p = [10., 4., 6., 1.]\n",
    "\n",
    "prob = ODEProblem(rate_eqs!, N0, tspan, p)"
   ]
  },
  {
   "cell_type": "code",
   "execution_count": 13,
   "metadata": {
    "scrolled": true
   },
   "outputs": [
    {
     "data": {
      "text/plain": [
       ":Success"
      ]
     },
     "execution_count": 13,
     "metadata": {},
     "output_type": "execute_result"
    }
   ],
   "source": [
    "sol = solve(prob, callback = PositiveDomain(),saveat = 0:0.01:1);\n",
    "sol.retcode"
   ]
  },
  {
   "cell_type": "code",
   "execution_count": 14,
   "metadata": {},
   "outputs": [
    {
     "data": {
      "text/plain": [
       "level_pop (generic function with 1 method)"
      ]
     },
     "execution_count": 14,
     "metadata": {},
     "output_type": "execute_result"
    }
   ],
   "source": [
    "pop1(ti) = sol(ti)[1]\n",
    "pop2(ti) = sol(ti)[2]\n",
    "pop3(ti) = sol(ti)[3]\n",
    "w_pop = 0.2;\n",
    "level_pop(x, y, pop) = Shape(x .+ [-0.5w_pop,0.5w_pop, 0.5w_pop,-0.5w_pop], y .+ [0.5h, 0.5h, pop + 0.5h, pop + 0.5h])"
   ]
  },
  {
   "cell_type": "code",
   "execution_count": 15,
   "metadata": {
    "scrolled": false
   },
   "outputs": [
    {
     "data": {
      "application/vnd.webio.node+json": {
       "children": [
        {
         "children": [
          {
           "children": [
            {
             "children": [
              {
               "children": [
                {
                 "children": [
                  "Time"
                 ],
                 "instanceArgs": {
                  "namespace": "html",
                  "tag": "label"
                 },
                 "nodeType": "DOM",
                 "props": {
                  "className": "interact ",
                  "style": {
                   "padding": "5px 10px 0px 10px"
                  }
                 },
                 "type": "node"
                }
               ],
               "instanceArgs": {
                "namespace": "html",
                "tag": "div"
               },
               "nodeType": "DOM",
               "props": {
                "className": "interact-flex-row-left"
               },
               "type": "node"
              },
              {
               "children": [
                {
                 "children": [],
                 "instanceArgs": {
                  "namespace": "html",
                  "tag": "input"
                 },
                 "nodeType": "DOM",
                 "props": {
                  "attributes": {
                   "data-bind": "numericValue: index, valueUpdate: 'input', event: {change: function (){this.changes(this.changes()+1)}}",
                   "orient": "horizontal",
                   "type": "range"
                  },
                  "className": "slider slider is-fullwidth",
                  "max": 120,
                  "min": 1,
                  "step": 1,
                  "style": {}
                 },
                 "type": "node"
                }
               ],
               "instanceArgs": {
                "namespace": "html",
                "tag": "div"
               },
               "nodeType": "DOM",
               "props": {
                "className": "interact-flex-row-center"
               },
               "type": "node"
              },
              {
               "children": [
                {
                 "children": [],
                 "instanceArgs": {
                  "namespace": "html",
                  "tag": "p"
                 },
                 "nodeType": "DOM",
                 "props": {
                  "attributes": {
                   "data-bind": "text: formatted_val"
                  }
                 },
                 "type": "node"
                }
               ],
               "instanceArgs": {
                "namespace": "html",
                "tag": "div"
               },
               "nodeType": "DOM",
               "props": {
                "className": "interact-flex-row-right"
               },
               "type": "node"
              }
             ],
             "instanceArgs": {
              "namespace": "html",
              "tag": "div"
             },
             "nodeType": "DOM",
             "props": {
              "className": "interact-flex-row interact-widget"
             },
             "type": "node"
            }
           ],
           "instanceArgs": {
            "handlers": {
             "changes": [
              "(function (val){return (val!=this.model[\"changes\"]()) ? (this.valueFromJulia[\"changes\"]=true, this.model[\"changes\"](val)) : undefined})"
             ],
             "index": [
              "(function (val){return (val!=this.model[\"index\"]()) ? (this.valueFromJulia[\"index\"]=true, this.model[\"index\"](val)) : undefined})"
             ]
            },
            "id": "9323177831670325951",
            "imports": {
             "data": [
              {
               "name": "knockout",
               "type": "js",
               "url": "/assetserver/58532c656e5c3ea95bc9e6ba08f6e0bbf64f3349-knockout.js"
              },
              {
               "name": "knockout_punches",
               "type": "js",
               "url": "/assetserver/97167f822e98661cc85dd010a2419f4651aeb9c6-knockout_punches.js"
              },
              {
               "name": null,
               "type": "js",
               "url": "/assetserver/c7daed194cd9e562afee3f059fad5f8587c42456-all.js"
              },
              {
               "name": null,
               "type": "css",
               "url": "/assetserver/3f97f38d83fe3be07cf18967ab9d3b51834c3353-style.css"
              },
              {
               "name": null,
               "type": "css",
               "url": "/assetserver/075c8efb747833dacc2bae1590f31f6a06a5b55a-bulma_confined.min.css"
              }
             ],
             "type": "async_block"
            },
            "mount_callbacks": [
             "function () {\n    var handler = (function (ko, koPunches) {\n    ko.punches.enableAll();\n    ko.bindingHandlers.numericValue = {\n        init: function(element, valueAccessor, allBindings, data, context) {\n            var stringified = ko.observable(ko.unwrap(valueAccessor()));\n            stringified.subscribe(function(value) {\n                var val = parseFloat(value);\n                if (!isNaN(val)) {\n                    valueAccessor()(val);\n                }\n            });\n            valueAccessor().subscribe(function(value) {\n                var str = JSON.stringify(value);\n                if ((str == \"0\") && ([\"-0\", \"-0.\"].indexOf(stringified()) >= 0))\n                     return;\n                 if ([\"null\", \"\"].indexOf(str) >= 0)\n                     return;\n                stringified(str);\n            });\n            ko.applyBindingsToNode(\n                element,\n                {\n                    value: stringified,\n                    valueUpdate: allBindings.get('valueUpdate'),\n                },\n                context,\n            );\n        }\n    };\n    var json_data = {\"formatted_vals\":[\"1\",\"2\",\"3\",\"4\",\"5\",\"6\",\"7\",\"8\",\"9\",\"10\",\"11\",\"12\",\"13\",\"14\",\"15\",\"16\",\"17\",\"18\",\"19\",\"20\",\"21\",\"22\",\"23\",\"24\",\"25\",\"26\",\"27\",\"28\",\"29\",\"30\",\"31\",\"32\",\"33\",\"34\",\"35\",\"36\",\"37\",\"38\",\"39\",\"40\",\"41\",\"42\",\"43\",\"44\",\"45\",\"46\",\"47\",\"48\",\"49\",\"50\",\"51\",\"52\",\"53\",\"54\",\"55\",\"56\",\"57\",\"58\",\"59\",\"60\",\"61\",\"62\",\"63\",\"64\",\"65\",\"66\",\"67\",\"68\",\"69\",\"70\",\"71\",\"72\",\"73\",\"74\",\"75\",\"76\",\"77\",\"78\",\"79\",\"80\",\"81\",\"82\",\"83\",\"84\",\"85\",\"86\",\"87\",\"88\",\"89\",\"90\",\"91\",\"92\",\"93\",\"94\",\"95\",\"96\",\"97\",\"98\",\"99\",\"100\",\"101\",\"102\",\"103\",\"104\",\"105\",\"106\",\"107\",\"108\",\"109\",\"110\",\"111\",\"112\",\"113\",\"114\",\"115\",\"116\",\"117\",\"118\",\"119\",\"120\"],\"changes\":WebIO.getval({\"name\":\"changes\",\"scope\":\"9323177831670325951\",\"id\":\"ob_26\",\"type\":\"observable\"}),\"index\":WebIO.getval({\"name\":\"index\",\"scope\":\"9323177831670325951\",\"id\":\"ob_25\",\"type\":\"observable\"})};\n    var self = this;\n    function AppViewModel() {\n        for (var key in json_data) {\n            var el = json_data[key];\n            this[key] = Array.isArray(el) ? ko.observableArray(el) : ko.observable(el);\n        }\n        \n        [this[\"formatted_val\"]=ko.computed(    function(){\n        return this.formatted_vals()[parseInt(this.index())-(1)];\n    }\n,this)]\n        [this[\"changes\"].subscribe((function (val){!(this.valueFromJulia[\"changes\"]) ? (WebIO.setval({\"name\":\"changes\",\"scope\":\"9323177831670325951\",\"id\":\"ob_26\",\"type\":\"observable\"},val)) : undefined; return this.valueFromJulia[\"changes\"]=false}),self),this[\"index\"].subscribe((function (val){!(this.valueFromJulia[\"index\"]) ? (WebIO.setval({\"name\":\"index\",\"scope\":\"9323177831670325951\",\"id\":\"ob_25\",\"type\":\"observable\"},val)) : undefined; return this.valueFromJulia[\"index\"]=false}),self)]\n        \n    }\n    self.model = new AppViewModel();\n    self.valueFromJulia = {};\n    for (var key in json_data) {\n        self.valueFromJulia[key] = false;\n    }\n    ko.applyBindings(self.model, self.dom);\n}\n);\n    (WebIO.importBlock({\"data\":[{\"name\":\"knockout\",\"type\":\"js\",\"url\":\"/assetserver/58532c656e5c3ea95bc9e6ba08f6e0bbf64f3349-knockout.js\"},{\"name\":\"knockout_punches\",\"type\":\"js\",\"url\":\"/assetserver/97167f822e98661cc85dd010a2419f4651aeb9c6-knockout_punches.js\"}],\"type\":\"async_block\"})).then((imports) => handler.apply(this, imports));\n}\n"
            ],
            "observables": {
             "changes": {
              "id": "ob_26",
              "sync": false,
              "value": 0
             },
             "index": {
              "id": "ob_25",
              "sync": true,
              "value": 1
             }
            },
            "systemjs_options": null
           },
           "nodeType": "Scope",
           "props": {},
           "type": "node"
          }
         ],
         "instanceArgs": {
          "namespace": "html",
          "tag": "div"
         },
         "nodeType": "DOM",
         "props": {
          "className": "field interact-widget"
         },
         "type": "node"
        },
        {
         "children": [
          {
           "children": [],
           "instanceArgs": {
            "id": "ob_32",
            "name": "obs-node"
           },
           "nodeType": "ObservableNode",
           "props": {},
           "type": "node"
          }
         ],
         "instanceArgs": {
          "handlers": {},
          "id": "13866075861332118830",
          "imports": {
           "data": [],
           "type": "async_block"
          },
          "mount_callbacks": [],
          "observables": {
           "obs-node": {
            "id": "ob_32",
            "sync": false,
            "value": {
             "children": [
              {
               "children": [],
               "instanceArgs": {
                "namespace": "html",
                "tag": "div"
               },
               "nodeType": "DOM",
               "props": {
                "setInnerHtml": "<?xml version=\"1.0\" encoding=\"utf-8\"?>\n<svg xmlns=\"http://www.w3.org/2000/svg\" xmlns:xlink=\"http://www.w3.org/1999/xlink\" width=\"1100\" height=\"500\" viewBox=\"0 0 4400 2000\">\n<defs>\n  <clipPath id=\"clip9400\">\n    <rect x=\"0\" y=\"0\" width=\"4400\" height=\"2000\"/>\n  </clipPath>\n</defs>\n<path clip-path=\"url(#clip9400)\" d=\"\nM0 2000 L4400 2000 L4400 0 L0 0  Z\n  \" fill=\"#ffffff\" fill-rule=\"evenodd\" fill-opacity=\"1\"/>\n<defs>\n  <clipPath id=\"clip9401\">\n    <rect x=\"880\" y=\"0\" width=\"3081\" height=\"2000\"/>\n  </clipPath>\n</defs>\n<path clip-path=\"url(#clip9400)\" d=\"\nM247.846 1846.96 L2223.18 1846.96 L2223.18 94.4295 L247.846 94.4295  Z\n  \" fill=\"#ffffff\" fill-rule=\"evenodd\" fill-opacity=\"1\"/>\n<defs>\n  <clipPath id=\"clip9402\">\n    <rect x=\"247\" y=\"94\" width=\"1976\" height=\"1754\"/>\n  </clipPath>\n</defs>\n<polyline clip-path=\"url(#clip9402)\" style=\"stroke:#000000; stroke-width:2; stroke-opacity:0.1; fill:none\" points=\"\n  303.751,1846.96 303.751,94.4295 \n  \"/>\n<polyline clip-path=\"url(#clip9402)\" style=\"stroke:#000000; stroke-width:2; stroke-opacity:0.1; fill:none\" points=\"\n  769.633,1846.96 769.633,94.4295 \n  \"/>\n<polyline clip-path=\"url(#clip9402)\" style=\"stroke:#000000; stroke-width:2; stroke-opacity:0.1; fill:none\" points=\"\n  1235.51,1846.96 1235.51,94.4295 \n  \"/>\n<polyline clip-path=\"url(#clip9402)\" style=\"stroke:#000000; stroke-width:2; stroke-opacity:0.1; fill:none\" points=\"\n  1701.4,1846.96 1701.4,94.4295 \n  \"/>\n<polyline clip-path=\"url(#clip9402)\" style=\"stroke:#000000; stroke-width:2; stroke-opacity:0.1; fill:none\" points=\"\n  2167.28,1846.96 2167.28,94.4295 \n  \"/>\n<polyline clip-path=\"url(#clip9402)\" style=\"stroke:#000000; stroke-width:2; stroke-opacity:0.1; fill:none\" points=\"\n  247.846,1797.36 2223.18,1797.36 \n  \"/>\n<polyline clip-path=\"url(#clip9402)\" style=\"stroke:#000000; stroke-width:2; stroke-opacity:0.1; fill:none\" points=\"\n  247.846,1384.03 2223.18,1384.03 \n  \"/>\n<polyline clip-path=\"url(#clip9402)\" style=\"stroke:#000000; stroke-width:2; stroke-opacity:0.1; fill:none\" points=\"\n  247.846,970.694 2223.18,970.694 \n  \"/>\n<polyline clip-path=\"url(#clip9402)\" style=\"stroke:#000000; stroke-width:2; stroke-opacity:0.1; fill:none\" points=\"\n  247.846,557.362 2223.18,557.362 \n  \"/>\n<polyline clip-path=\"url(#clip9402)\" style=\"stroke:#000000; stroke-width:2; stroke-opacity:0.1; fill:none\" points=\"\n  247.846,144.029 2223.18,144.029 \n  \"/>\n<polyline clip-path=\"url(#clip9400)\" style=\"stroke:#000000; stroke-width:4; stroke-opacity:1; fill:none\" points=\"\n  247.846,1846.96 2223.18,1846.96 \n  \"/>\n<polyline clip-path=\"url(#clip9400)\" style=\"stroke:#000000; stroke-width:4; stroke-opacity:1; fill:none\" points=\"\n  247.846,1846.96 247.846,94.4295 \n  \"/>\n<polyline clip-path=\"url(#clip9400)\" style=\"stroke:#000000; stroke-width:4; stroke-opacity:1; fill:none\" points=\"\n  303.751,1846.96 303.751,1825.93 \n  \"/>\n<polyline clip-path=\"url(#clip9400)\" style=\"stroke:#000000; stroke-width:4; stroke-opacity:1; fill:none\" points=\"\n  769.633,1846.96 769.633,1825.93 \n  \"/>\n<polyline clip-path=\"url(#clip9400)\" style=\"stroke:#000000; stroke-width:4; stroke-opacity:1; fill:none\" points=\"\n  1235.51,1846.96 1235.51,1825.93 \n  \"/>\n<polyline clip-path=\"url(#clip9400)\" style=\"stroke:#000000; stroke-width:4; stroke-opacity:1; fill:none\" points=\"\n  1701.4,1846.96 1701.4,1825.93 \n  \"/>\n<polyline clip-path=\"url(#clip9400)\" style=\"stroke:#000000; stroke-width:4; stroke-opacity:1; fill:none\" points=\"\n  2167.28,1846.96 2167.28,1825.93 \n  \"/>\n<polyline clip-path=\"url(#clip9400)\" style=\"stroke:#000000; stroke-width:4; stroke-opacity:1; fill:none\" points=\"\n  247.846,1797.36 271.55,1797.36 \n  \"/>\n<polyline clip-path=\"url(#clip9400)\" style=\"stroke:#000000; stroke-width:4; stroke-opacity:1; fill:none\" points=\"\n  247.846,1384.03 271.55,1384.03 \n  \"/>\n<polyline clip-path=\"url(#clip9400)\" style=\"stroke:#000000; stroke-width:4; stroke-opacity:1; fill:none\" points=\"\n  247.846,970.694 271.55,970.694 \n  \"/>\n<polyline clip-path=\"url(#clip9400)\" style=\"stroke:#000000; stroke-width:4; stroke-opacity:1; fill:none\" points=\"\n  247.846,557.362 271.55,557.362 \n  \"/>\n<polyline clip-path=\"url(#clip9400)\" style=\"stroke:#000000; stroke-width:4; stroke-opacity:1; fill:none\" points=\"\n  247.846,144.029 271.55,144.029 \n  \"/>\n<g clip-path=\"url(#clip9400)\">\n<text style=\"fill:#000000; fill-opacity:1; font-family:Arial,Helvetica Neue,Helvetica,sans-serif; font-size:48px; text-anchor:middle;\" transform=\"rotate(0, 303.751, 1910.96)\" x=\"303.751\" y=\"1910.96\">0.00</text>\n</g>\n<g clip-path=\"url(#clip9400)\">\n<text style=\"fill:#000000; fill-opacity:1; font-family:Arial,Helvetica Neue,Helvetica,sans-serif; font-size:48px; text-anchor:middle;\" transform=\"rotate(0, 769.633, 1910.96)\" x=\"769.633\" y=\"1910.96\">0.25</text>\n</g>\n<g clip-path=\"url(#clip9400)\">\n<text style=\"fill:#000000; fill-opacity:1; font-family:Arial,Helvetica Neue,Helvetica,sans-serif; font-size:48px; text-anchor:middle;\" transform=\"rotate(0, 1235.51, 1910.96)\" x=\"1235.51\" y=\"1910.96\">0.50</text>\n</g>\n<g clip-path=\"url(#clip9400)\">\n<text style=\"fill:#000000; fill-opacity:1; font-family:Arial,Helvetica Neue,Helvetica,sans-serif; font-size:48px; text-anchor:middle;\" transform=\"rotate(0, 1701.4, 1910.96)\" x=\"1701.4\" y=\"1910.96\">0.75</text>\n</g>\n<g clip-path=\"url(#clip9400)\">\n<text style=\"fill:#000000; fill-opacity:1; font-family:Arial,Helvetica Neue,Helvetica,sans-serif; font-size:48px; text-anchor:middle;\" transform=\"rotate(0, 2167.28, 1910.96)\" x=\"2167.28\" y=\"1910.96\">1.00</text>\n</g>\n<g clip-path=\"url(#clip9400)\">\n<text style=\"fill:#000000; fill-opacity:1; font-family:Arial,Helvetica Neue,Helvetica,sans-serif; font-size:48px; text-anchor:end;\" transform=\"rotate(0, 203.846, 1814.86)\" x=\"203.846\" y=\"1814.86\">0.00</text>\n</g>\n<g clip-path=\"url(#clip9400)\">\n<text style=\"fill:#000000; fill-opacity:1; font-family:Arial,Helvetica Neue,Helvetica,sans-serif; font-size:48px; text-anchor:end;\" transform=\"rotate(0, 203.846, 1401.53)\" x=\"203.846\" y=\"1401.53\">0.25</text>\n</g>\n<g clip-path=\"url(#clip9400)\">\n<text style=\"fill:#000000; fill-opacity:1; font-family:Arial,Helvetica Neue,Helvetica,sans-serif; font-size:48px; text-anchor:end;\" transform=\"rotate(0, 203.846, 988.194)\" x=\"203.846\" y=\"988.194\">0.50</text>\n</g>\n<g clip-path=\"url(#clip9400)\">\n<text style=\"fill:#000000; fill-opacity:1; font-family:Arial,Helvetica Neue,Helvetica,sans-serif; font-size:48px; text-anchor:end;\" transform=\"rotate(0, 203.846, 574.862)\" x=\"203.846\" y=\"574.862\">0.75</text>\n</g>\n<g clip-path=\"url(#clip9400)\">\n<text style=\"fill:#000000; fill-opacity:1; font-family:Arial,Helvetica Neue,Helvetica,sans-serif; font-size:48px; text-anchor:end;\" transform=\"rotate(0, 203.846, 161.529)\" x=\"203.846\" y=\"161.529\">1.00</text>\n</g>\n<polyline clip-path=\"url(#clip9402)\" style=\"stroke:#000000; stroke-width:4; stroke-opacity:1; fill:none\" points=\"\n  247.846,94.4295 2223.18,94.4295 \n  \"/>\n<polyline clip-path=\"url(#clip9402)\" style=\"stroke:#000000; stroke-width:4; stroke-opacity:1; fill:none\" points=\"\n  2223.18,1846.96 2223.18,94.4295 \n  \"/>\n<g clip-path=\"url(#clip9400)\">\n<text style=\"fill:#000000; fill-opacity:1; font-family:Arial,Helvetica Neue,Helvetica,sans-serif; font-size:66px; text-anchor:end;\" transform=\"rotate(0, 2223.18, 57.6)\" x=\"2223.18\" y=\"57.6\">3-Level System Rate Equations -- Solution</text>\n</g>\n<g clip-path=\"url(#clip9400)\">\n<text style=\"fill:#000000; fill-opacity:1; font-family:Arial,Helvetica Neue,Helvetica,sans-serif; font-size:66px; text-anchor:middle;\" transform=\"rotate(0, 1235.51, 2000.82)\" x=\"1235.51\" y=\"2000.82\">Time</text>\n</g>\n<g clip-path=\"url(#clip9400)\">\n<text style=\"fill:#000000; fill-opacity:1; font-family:Arial,Helvetica Neue,Helvetica,sans-serif; font-size:66px; text-anchor:middle;\" transform=\"rotate(-90, 54.6154, 970.694)\" x=\"54.6154\" y=\"970.694\">Level populations</text>\n</g>\n<path clip-path=\"url(#clip9400)\" d=\"\nM1589.67 539.869 L2091.18 539.869 L2091.18 297.949 L1589.67 297.949  Z\n  \" fill=\"#ffffff\" fill-rule=\"evenodd\" fill-opacity=\"1\"/>\n<polyline clip-path=\"url(#clip9400)\" style=\"stroke:#000000; stroke-width:4; stroke-opacity:1; fill:none\" points=\"\n  1589.67,539.869 2091.18,539.869 2091.18,297.949 1589.67,297.949 1589.67,539.869 \n  \"/>\n<polyline clip-path=\"url(#clip9400)\" style=\"stroke:#009af9; stroke-width:8; stroke-opacity:1; fill:none\" points=\"\n  1633.67,358.429 1897.67,358.429 \n  \"/>\n<g clip-path=\"url(#clip9400)\">\n<text style=\"fill:#000000; fill-opacity:1; font-family:Arial,Helvetica Neue,Helvetica,sans-serif; font-size:48px; text-anchor:start;\" transform=\"rotate(0, 1941.67, 375.929)\" x=\"1941.67\" y=\"375.929\">N1</text>\n</g>\n<polyline clip-path=\"url(#clip9400)\" style=\"stroke:#e26f46; stroke-width:8; stroke-opacity:1; fill:none\" points=\"\n  1633.67,418.909 1897.67,418.909 \n  \"/>\n<g clip-path=\"url(#clip9400)\">\n<text style=\"fill:#000000; fill-opacity:1; font-family:Arial,Helvetica Neue,Helvetica,sans-serif; font-size:48px; text-anchor:start;\" transform=\"rotate(0, 1941.67, 436.409)\" x=\"1941.67\" y=\"436.409\">N2</text>\n</g>\n<polyline clip-path=\"url(#clip9400)\" style=\"stroke:#3da44d; stroke-width:8; stroke-opacity:1; fill:none\" points=\"\n  1633.67,479.389 1897.67,479.389 \n  \"/>\n<g clip-path=\"url(#clip9400)\">\n<text style=\"fill:#000000; fill-opacity:1; font-family:Arial,Helvetica Neue,Helvetica,sans-serif; font-size:48px; text-anchor:start;\" transform=\"rotate(0, 1941.67, 496.889)\" x=\"1941.67\" y=\"496.889\">N3</text>\n</g>\n<path clip-path=\"url(#clip9400)\" d=\"\nM2377.42 1846.96 L4352.76 1846.96 L4352.76 94.4295 L2377.42 94.4295  Z\n  \" fill=\"#ffffff\" fill-rule=\"evenodd\" fill-opacity=\"1\"/>\n<defs>\n  <clipPath id=\"clip9403\">\n    <rect x=\"2377\" y=\"94\" width=\"1976\" height=\"1754\"/>\n  </clipPath>\n</defs>\n<polyline clip-path=\"url(#clip9403)\" style=\"stroke:#000000; stroke-width:2; stroke-opacity:0.1; fill:none\" points=\"\n  2743.91,1846.96 2743.91,94.4295 \n  \"/>\n<polyline clip-path=\"url(#clip9403)\" style=\"stroke:#000000; stroke-width:2; stroke-opacity:0.1; fill:none\" points=\"\n  3365.09,1846.96 3365.09,94.4295 \n  \"/>\n<polyline clip-path=\"url(#clip9403)\" style=\"stroke:#000000; stroke-width:2; stroke-opacity:0.1; fill:none\" points=\"\n  3986.26,1846.96 3986.26,94.4295 \n  \"/>\n<polyline clip-path=\"url(#clip9400)\" style=\"stroke:#000000; stroke-width:4; stroke-opacity:1; fill:none\" points=\"\n  2377.42,1846.96 4352.76,1846.96 \n  \"/>\n<polyline clip-path=\"url(#clip9400)\" style=\"stroke:#000000; stroke-width:4; stroke-opacity:1; fill:none\" points=\"\n  2377.42,1846.96 2377.42,94.4295 \n  \"/>\n<polyline clip-path=\"url(#clip9400)\" style=\"stroke:#000000; stroke-width:4; stroke-opacity:1; fill:none\" points=\"\n  2743.91,1846.96 2743.91,1825.93 \n  \"/>\n<polyline clip-path=\"url(#clip9400)\" style=\"stroke:#000000; stroke-width:4; stroke-opacity:1; fill:none\" points=\"\n  3365.09,1846.96 3365.09,1825.93 \n  \"/>\n<polyline clip-path=\"url(#clip9400)\" style=\"stroke:#000000; stroke-width:4; stroke-opacity:1; fill:none\" points=\"\n  3986.26,1846.96 3986.26,1825.93 \n  \"/>\n<g clip-path=\"url(#clip9400)\">\n<text style=\"fill:#000000; fill-opacity:1; font-family:Arial,Helvetica Neue,Helvetica,sans-serif; font-size:48px; text-anchor:middle;\" transform=\"rotate(0, 2743.91, 1910.96)\" x=\"2743.91\" y=\"1910.96\">N1</text>\n</g>\n<g clip-path=\"url(#clip9400)\">\n<text style=\"fill:#000000; fill-opacity:1; font-family:Arial,Helvetica Neue,Helvetica,sans-serif; font-size:48px; text-anchor:middle;\" transform=\"rotate(0, 3365.09, 1910.96)\" x=\"3365.09\" y=\"1910.96\">N3</text>\n</g>\n<g clip-path=\"url(#clip9400)\">\n<text style=\"fill:#000000; fill-opacity:1; font-family:Arial,Helvetica Neue,Helvetica,sans-serif; font-size:48px; text-anchor:middle;\" transform=\"rotate(0, 3986.26, 1910.96)\" x=\"3986.26\" y=\"1910.96\">N2</text>\n</g>\n<polyline clip-path=\"url(#clip9403)\" style=\"stroke:#000000; stroke-width:4; stroke-opacity:1; fill:none\" points=\"\n  2377.42,94.4295 4352.76,94.4295 \n  \"/>\n<polyline clip-path=\"url(#clip9403)\" style=\"stroke:#000000; stroke-width:4; stroke-opacity:1; fill:none\" points=\"\n  4352.76,1846.96 4352.76,94.4295 \n  \"/>\n<path clip-path=\"url(#clip9403)\" d=\"\nM2433.32 1394.36 L3054.5 1394.36 L3054.5 1373.69 L2433.32 1373.69 L2433.32 1394.36  Z\n  \" fill=\"#0000ff\" fill-rule=\"evenodd\" fill-opacity=\"1\"/>\n<polyline clip-path=\"url(#clip9403)\" style=\"stroke:#000000; stroke-width:4; stroke-opacity:1; fill:none\" points=\"\n  2433.32,1394.36 3054.5,1394.36 3054.5,1373.69 2433.32,1373.69 2433.32,1394.36 \n  \"/>\n<path clip-path=\"url(#clip9403)\" d=\"\nM3675.67 981.028 L4296.85 981.028 L4296.85 960.361 L3675.67 960.361 L3675.67 981.028  Z\n  \" fill=\"#ff0000\" fill-rule=\"evenodd\" fill-opacity=\"1\"/>\n<polyline clip-path=\"url(#clip9403)\" style=\"stroke:#000000; stroke-width:4; stroke-opacity:1; fill:none\" points=\"\n  3675.67,981.028 4296.85,981.028 4296.85,960.361 3675.67,960.361 3675.67,981.028 \n  \"/>\n<path clip-path=\"url(#clip9403)\" d=\"\nM3054.5 567.695 L3675.67 567.695 L3675.67 547.028 L3054.5 547.028 L3054.5 567.695  Z\n  \" fill=\"#008000\" fill-rule=\"evenodd\" fill-opacity=\"1\"/>\n<polyline clip-path=\"url(#clip9403)\" style=\"stroke:#000000; stroke-width:4; stroke-opacity:1; fill:none\" points=\"\n  3054.5,567.695 3675.67,567.695 3675.67,547.028 3054.5,547.028 3054.5,567.695 \n  \"/>\n<path clip-path=\"url(#clip9403)\" d=\"\nM2433.32 1797.36 L4296.85 1797.36 L4296.85 144.029 L2433.32 144.029 L2433.32 1797.36  Z\n  \" fill=\"#ffffff\" fill-rule=\"evenodd\" fill-opacity=\"0\"/>\n<polyline clip-path=\"url(#clip9403)\" style=\"stroke:#000000; stroke-width:0; stroke-opacity:1; fill:none\" points=\"\n  2433.32,1797.36 4296.85,1797.36 4296.85,144.029 2433.32,144.029 2433.32,1797.36 \n  \"/>\n<path clip-path=\"url(#clip9403)\" d=\"\nM2681.79 1373.69 L2806.03 1373.69 L2806.03 992.749 L2681.79 992.749 L2681.79 1373.69  Z\n  \" fill=\"#0000ff\" fill-rule=\"evenodd\" fill-opacity=\"0.5\"/>\n<polyline clip-path=\"url(#clip9403)\" style=\"stroke:#000000; stroke-width:4; stroke-opacity:1; fill:none\" points=\"\n  2681.79,1373.69 2806.03,1373.69 2806.03,992.749 2681.79,992.749 2681.79,1373.69 \n  \"/>\n<path clip-path=\"url(#clip9403)\" d=\"\nM3924.15 960.361 L4048.38 960.361 L4048.38 959.495 L3924.15 959.495 L3924.15 960.361  Z\n  \" fill=\"#ff0000\" fill-rule=\"evenodd\" fill-opacity=\"0.5\"/>\n<polyline clip-path=\"url(#clip9403)\" style=\"stroke:#000000; stroke-width:4; stroke-opacity:1; fill:none\" points=\"\n  3924.15,960.361 4048.38,960.361 4048.38,959.495 3924.15,959.495 3924.15,960.361 \n  \"/>\n<path clip-path=\"url(#clip9403)\" d=\"\nM3302.97 547.028 L3427.2 547.028 L3427.2 515.506 L3302.97 515.506 L3302.97 547.028  Z\n  \" fill=\"#008000\" fill-rule=\"evenodd\" fill-opacity=\"0.5\"/>\n<polyline clip-path=\"url(#clip9403)\" style=\"stroke:#000000; stroke-width:4; stroke-opacity:1; fill:none\" points=\"\n  3302.97,547.028 3427.2,547.028 3427.2,515.506 3302.97,515.506 3302.97,547.028 \n  \"/>\n</svg>\n"
               },
               "type": "node"
              }
             ],
             "instanceArgs": {
              "namespace": "html",
              "tag": "div"
             },
             "nodeType": "DOM",
             "props": {
              "className": "interact-flex-row interact-widget"
             },
             "type": "node"
            }
           }
          },
          "systemjs_options": null
         },
         "nodeType": "Scope",
         "props": {},
         "type": "node"
        }
       ],
       "instanceArgs": {
        "namespace": "html",
        "tag": "div"
       },
       "nodeType": "DOM",
       "props": {},
       "type": "node"
      },
      "text/html": [
       "<div\n",
       "    class=\"webio-mountpoint\"\n",
       "    data-webio-mountpoint=\"2934266139932142184\"\n",
       ">\n",
       "    <script>\n",
       "    if (window.require && require.defined && require.defined(\"nbextensions/webio-jupyter-notebook\")) {\n",
       "        console.log(\"Jupyter WebIO extension detected, not mounting.\");\n",
       "    } else if (window.WebIO) {\n",
       "        WebIO.mount(\n",
       "            document.querySelector('[data-webio-mountpoint=\"2934266139932142184\"]'),\n",
       "            {\"props\":{},\"nodeType\":\"DOM\",\"type\":\"node\",\"instanceArgs\":{\"namespace\":\"html\",\"tag\":\"div\"},\"children\":[{\"props\":{\"className\":\"field interact-widget\"},\"nodeType\":\"DOM\",\"type\":\"node\",\"instanceArgs\":{\"namespace\":\"html\",\"tag\":\"div\"},\"children\":[{\"props\":{},\"nodeType\":\"Scope\",\"type\":\"node\",\"instanceArgs\":{\"imports\":{\"data\":[{\"name\":\"knockout\",\"type\":\"js\",\"url\":\"\\/assetserver\\/58532c656e5c3ea95bc9e6ba08f6e0bbf64f3349-knockout.js\"},{\"name\":\"knockout_punches\",\"type\":\"js\",\"url\":\"\\/assetserver\\/97167f822e98661cc85dd010a2419f4651aeb9c6-knockout_punches.js\"},{\"name\":null,\"type\":\"js\",\"url\":\"\\/assetserver\\/c7daed194cd9e562afee3f059fad5f8587c42456-all.js\"},{\"name\":null,\"type\":\"css\",\"url\":\"\\/assetserver\\/3f97f38d83fe3be07cf18967ab9d3b51834c3353-style.css\"},{\"name\":null,\"type\":\"css\",\"url\":\"\\/assetserver\\/075c8efb747833dacc2bae1590f31f6a06a5b55a-bulma_confined.min.css\"}],\"type\":\"async_block\"},\"id\":\"9323177831670325951\",\"handlers\":{\"changes\":[\"(function (val){return (val!=this.model[\\\"changes\\\"]()) ? (this.valueFromJulia[\\\"changes\\\"]=true, this.model[\\\"changes\\\"](val)) : undefined})\"],\"index\":[\"(function (val){return (val!=this.model[\\\"index\\\"]()) ? (this.valueFromJulia[\\\"index\\\"]=true, this.model[\\\"index\\\"](val)) : undefined})\"]},\"systemjs_options\":null,\"mount_callbacks\":[\"function () {\\n    var handler = (function (ko, koPunches) {\\n    ko.punches.enableAll();\\n    ko.bindingHandlers.numericValue = {\\n        init: function(element, valueAccessor, allBindings, data, context) {\\n            var stringified = ko.observable(ko.unwrap(valueAccessor()));\\n            stringified.subscribe(function(value) {\\n                var val = parseFloat(value);\\n                if (!isNaN(val)) {\\n                    valueAccessor()(val);\\n                }\\n            });\\n            valueAccessor().subscribe(function(value) {\\n                var str = JSON.stringify(value);\\n                if ((str == \\\"0\\\") && ([\\\"-0\\\", \\\"-0.\\\"].indexOf(stringified()) >= 0))\\n                     return;\\n                 if ([\\\"null\\\", \\\"\\\"].indexOf(str) >= 0)\\n                     return;\\n                stringified(str);\\n            });\\n            ko.applyBindingsToNode(\\n                element,\\n                {\\n                    value: stringified,\\n                    valueUpdate: allBindings.get('valueUpdate'),\\n                },\\n                context,\\n            );\\n        }\\n    };\\n    var json_data = {\\\"formatted_vals\\\":[\\\"1\\\",\\\"2\\\",\\\"3\\\",\\\"4\\\",\\\"5\\\",\\\"6\\\",\\\"7\\\",\\\"8\\\",\\\"9\\\",\\\"10\\\",\\\"11\\\",\\\"12\\\",\\\"13\\\",\\\"14\\\",\\\"15\\\",\\\"16\\\",\\\"17\\\",\\\"18\\\",\\\"19\\\",\\\"20\\\",\\\"21\\\",\\\"22\\\",\\\"23\\\",\\\"24\\\",\\\"25\\\",\\\"26\\\",\\\"27\\\",\\\"28\\\",\\\"29\\\",\\\"30\\\",\\\"31\\\",\\\"32\\\",\\\"33\\\",\\\"34\\\",\\\"35\\\",\\\"36\\\",\\\"37\\\",\\\"38\\\",\\\"39\\\",\\\"40\\\",\\\"41\\\",\\\"42\\\",\\\"43\\\",\\\"44\\\",\\\"45\\\",\\\"46\\\",\\\"47\\\",\\\"48\\\",\\\"49\\\",\\\"50\\\",\\\"51\\\",\\\"52\\\",\\\"53\\\",\\\"54\\\",\\\"55\\\",\\\"56\\\",\\\"57\\\",\\\"58\\\",\\\"59\\\",\\\"60\\\",\\\"61\\\",\\\"62\\\",\\\"63\\\",\\\"64\\\",\\\"65\\\",\\\"66\\\",\\\"67\\\",\\\"68\\\",\\\"69\\\",\\\"70\\\",\\\"71\\\",\\\"72\\\",\\\"73\\\",\\\"74\\\",\\\"75\\\",\\\"76\\\",\\\"77\\\",\\\"78\\\",\\\"79\\\",\\\"80\\\",\\\"81\\\",\\\"82\\\",\\\"83\\\",\\\"84\\\",\\\"85\\\",\\\"86\\\",\\\"87\\\",\\\"88\\\",\\\"89\\\",\\\"90\\\",\\\"91\\\",\\\"92\\\",\\\"93\\\",\\\"94\\\",\\\"95\\\",\\\"96\\\",\\\"97\\\",\\\"98\\\",\\\"99\\\",\\\"100\\\",\\\"101\\\",\\\"102\\\",\\\"103\\\",\\\"104\\\",\\\"105\\\",\\\"106\\\",\\\"107\\\",\\\"108\\\",\\\"109\\\",\\\"110\\\",\\\"111\\\",\\\"112\\\",\\\"113\\\",\\\"114\\\",\\\"115\\\",\\\"116\\\",\\\"117\\\",\\\"118\\\",\\\"119\\\",\\\"120\\\"],\\\"changes\\\":WebIO.getval({\\\"name\\\":\\\"changes\\\",\\\"scope\\\":\\\"9323177831670325951\\\",\\\"id\\\":\\\"ob_26\\\",\\\"type\\\":\\\"observable\\\"}),\\\"index\\\":WebIO.getval({\\\"name\\\":\\\"index\\\",\\\"scope\\\":\\\"9323177831670325951\\\",\\\"id\\\":\\\"ob_25\\\",\\\"type\\\":\\\"observable\\\"})};\\n    var self = this;\\n    function AppViewModel() {\\n        for (var key in json_data) {\\n            var el = json_data[key];\\n            this[key] = Array.isArray(el) ? ko.observableArray(el) : ko.observable(el);\\n        }\\n        \\n        [this[\\\"formatted_val\\\"]=ko.computed(    function(){\\n        return this.formatted_vals()[parseInt(this.index())-(1)];\\n    }\\n,this)]\\n        [this[\\\"changes\\\"].subscribe((function (val){!(this.valueFromJulia[\\\"changes\\\"]) ? (WebIO.setval({\\\"name\\\":\\\"changes\\\",\\\"scope\\\":\\\"9323177831670325951\\\",\\\"id\\\":\\\"ob_26\\\",\\\"type\\\":\\\"observable\\\"},val)) : undefined; return this.valueFromJulia[\\\"changes\\\"]=false}),self),this[\\\"index\\\"].subscribe((function (val){!(this.valueFromJulia[\\\"index\\\"]) ? (WebIO.setval({\\\"name\\\":\\\"index\\\",\\\"scope\\\":\\\"9323177831670325951\\\",\\\"id\\\":\\\"ob_25\\\",\\\"type\\\":\\\"observable\\\"},val)) : undefined; return this.valueFromJulia[\\\"index\\\"]=false}),self)]\\n        \\n    }\\n    self.model = new AppViewModel();\\n    self.valueFromJulia = {};\\n    for (var key in json_data) {\\n        self.valueFromJulia[key] = false;\\n    }\\n    ko.applyBindings(self.model, self.dom);\\n}\\n);\\n    (WebIO.importBlock({\\\"data\\\":[{\\\"name\\\":\\\"knockout\\\",\\\"type\\\":\\\"js\\\",\\\"url\\\":\\\"\\/assetserver\\/58532c656e5c3ea95bc9e6ba08f6e0bbf64f3349-knockout.js\\\"},{\\\"name\\\":\\\"knockout_punches\\\",\\\"type\\\":\\\"js\\\",\\\"url\\\":\\\"\\/assetserver\\/97167f822e98661cc85dd010a2419f4651aeb9c6-knockout_punches.js\\\"}],\\\"type\\\":\\\"async_block\\\"})).then((imports) => handler.apply(this, imports));\\n}\\n\"],\"observables\":{\"changes\":{\"sync\":false,\"id\":\"ob_26\",\"value\":0},\"index\":{\"sync\":true,\"id\":\"ob_25\",\"value\":1}}},\"children\":[{\"props\":{\"className\":\"interact-flex-row interact-widget\"},\"nodeType\":\"DOM\",\"type\":\"node\",\"instanceArgs\":{\"namespace\":\"html\",\"tag\":\"div\"},\"children\":[{\"props\":{\"className\":\"interact-flex-row-left\"},\"nodeType\":\"DOM\",\"type\":\"node\",\"instanceArgs\":{\"namespace\":\"html\",\"tag\":\"div\"},\"children\":[{\"props\":{\"className\":\"interact \",\"style\":{\"padding\":\"5px 10px 0px 10px\"}},\"nodeType\":\"DOM\",\"type\":\"node\",\"instanceArgs\":{\"namespace\":\"html\",\"tag\":\"label\"},\"children\":[\"Time\"]}]},{\"props\":{\"className\":\"interact-flex-row-center\"},\"nodeType\":\"DOM\",\"type\":\"node\",\"instanceArgs\":{\"namespace\":\"html\",\"tag\":\"div\"},\"children\":[{\"props\":{\"max\":120,\"min\":1,\"attributes\":{\"type\":\"range\",\"data-bind\":\"numericValue: index, valueUpdate: 'input', event: {change: function (){this.changes(this.changes()+1)}}\",\"orient\":\"horizontal\"},\"step\":1,\"className\":\"slider slider is-fullwidth\",\"style\":{}},\"nodeType\":\"DOM\",\"type\":\"node\",\"instanceArgs\":{\"namespace\":\"html\",\"tag\":\"input\"},\"children\":[]}]},{\"props\":{\"className\":\"interact-flex-row-right\"},\"nodeType\":\"DOM\",\"type\":\"node\",\"instanceArgs\":{\"namespace\":\"html\",\"tag\":\"div\"},\"children\":[{\"props\":{\"attributes\":{\"data-bind\":\"text: formatted_val\"}},\"nodeType\":\"DOM\",\"type\":\"node\",\"instanceArgs\":{\"namespace\":\"html\",\"tag\":\"p\"},\"children\":[]}]}]}]}]},{\"props\":{},\"nodeType\":\"Scope\",\"type\":\"node\",\"instanceArgs\":{\"imports\":{\"data\":[],\"type\":\"async_block\"},\"id\":\"6375088511296014219\",\"handlers\":{},\"systemjs_options\":null,\"mount_callbacks\":[],\"observables\":{\"obs-node\":{\"sync\":false,\"id\":\"ob_30\",\"value\":{\"props\":{\"className\":\"interact-flex-row interact-widget\"},\"nodeType\":\"DOM\",\"type\":\"node\",\"instanceArgs\":{\"namespace\":\"html\",\"tag\":\"div\"},\"children\":[{\"props\":{\"setInnerHtml\":\"<?xml version=\\\"1.0\\\" encoding=\\\"utf-8\\\"?>\\n<svg xmlns=\\\"http:\\/\\/www.w3.org\\/2000\\/svg\\\" xmlns:xlink=\\\"http:\\/\\/www.w3.org\\/1999\\/xlink\\\" width=\\\"1100\\\" height=\\\"500\\\" viewBox=\\\"0 0 4400 2000\\\">\\n<defs>\\n  <clipPath id=\\\"clip9000\\\">\\n    <rect x=\\\"0\\\" y=\\\"0\\\" width=\\\"4400\\\" height=\\\"2000\\\"\\/>\\n  <\\/clipPath>\\n<\\/defs>\\n<path clip-path=\\\"url(#clip9000)\\\" d=\\\"\\nM0 2000 L4400 2000 L4400 0 L0 0  Z\\n  \\\" fill=\\\"#ffffff\\\" fill-rule=\\\"evenodd\\\" fill-opacity=\\\"1\\\"\\/>\\n<defs>\\n  <clipPath id=\\\"clip9001\\\">\\n    <rect x=\\\"880\\\" y=\\\"0\\\" width=\\\"3081\\\" height=\\\"2000\\\"\\/>\\n  <\\/clipPath>\\n<\\/defs>\\n<path clip-path=\\\"url(#clip9000)\\\" d=\\\"\\nM247.846 1846.96 L2223.18 1846.96 L2223.18 94.4295 L247.846 94.4295  Z\\n  \\\" fill=\\\"#ffffff\\\" fill-rule=\\\"evenodd\\\" fill-opacity=\\\"1\\\"\\/>\\n<defs>\\n  <clipPath id=\\\"clip9002\\\">\\n    <rect x=\\\"247\\\" y=\\\"94\\\" width=\\\"1976\\\" height=\\\"1754\\\"\\/>\\n  <\\/clipPath>\\n<\\/defs>\\n<polyline clip-path=\\\"url(#clip9002)\\\" style=\\\"stroke:#000000; stroke-width:2; stroke-opacity:0.1; fill:none\\\" points=\\\"\\n  303.751,1846.96 303.751,94.4295 \\n  \\\"\\/>\\n<polyline clip-path=\\\"url(#clip9002)\\\" style=\\\"stroke:#000000; stroke-width:2; stroke-opacity:0.1; fill:none\\\" points=\\\"\\n  769.633,1846.96 769.633,94.4295 \\n  \\\"\\/>\\n<polyline clip-path=\\\"url(#clip9002)\\\" style=\\\"stroke:#000000; stroke-width:2; stroke-opacity:0.1; fill:none\\\" points=\\\"\\n  1235.51,1846.96 1235.51,94.4295 \\n  \\\"\\/>\\n<polyline clip-path=\\\"url(#clip9002)\\\" style=\\\"stroke:#000000; stroke-width:2; stroke-opacity:0.1; fill:none\\\" points=\\\"\\n  1701.4,1846.96 1701.4,94.4295 \\n  \\\"\\/>\\n<polyline clip-path=\\\"url(#clip9002)\\\" style=\\\"stroke:#000000; stroke-width:2; stroke-opacity:0.1; fill:none\\\" points=\\\"\\n  2167.28,1846.96 2167.28,94.4295 \\n  \\\"\\/>\\n<polyline clip-path=\\\"url(#clip9002)\\\" style=\\\"stroke:#000000; stroke-width:2; stroke-opacity:0.1; fill:none\\\" points=\\\"\\n  247.846,1797.36 2223.18,1797.36 \\n  \\\"\\/>\\n<polyline clip-path=\\\"url(#clip9002)\\\" style=\\\"stroke:#000000; stroke-width:2; stroke-opacity:0.1; fill:none\\\" points=\\\"\\n  247.846,1384.03 2223.18,1384.03 \\n  \\\"\\/>\\n<polyline clip-path=\\\"url(#clip9002)\\\" style=\\\"stroke:#000000; stroke-width:2; stroke-opacity:0.1; fill:none\\\" points=\\\"\\n  247.846,970.694 2223.18,970.694 \\n  \\\"\\/>\\n<polyline clip-path=\\\"url(#clip9002)\\\" style=\\\"stroke:#000000; stroke-width:2; stroke-opacity:0.1; fill:none\\\" points=\\\"\\n  247.846,557.362 2223.18,557.362 \\n  \\\"\\/>\\n<polyline clip-path=\\\"url(#clip9002)\\\" style=\\\"stroke:#000000; stroke-width:2; stroke-opacity:0.1; fill:none\\\" points=\\\"\\n  247.846,144.029 2223.18,144.029 \\n  \\\"\\/>\\n<polyline clip-path=\\\"url(#clip9000)\\\" style=\\\"stroke:#000000; stroke-width:4; stroke-opacity:1; fill:none\\\" points=\\\"\\n  247.846,1846.96 2223.18,1846.96 \\n  \\\"\\/>\\n<polyline clip-path=\\\"url(#clip9000)\\\" style=\\\"stroke:#000000; stroke-width:4; stroke-opacity:1; fill:none\\\" points=\\\"\\n  247.846,1846.96 247.846,94.4295 \\n  \\\"\\/>\\n<polyline clip-path=\\\"url(#clip9000)\\\" style=\\\"stroke:#000000; stroke-width:4; stroke-opacity:1; fill:none\\\" points=\\\"\\n  303.751,1846.96 303.751,1825.93 \\n  \\\"\\/>\\n<polyline clip-path=\\\"url(#clip9000)\\\" style=\\\"stroke:#000000; stroke-width:4; stroke-opacity:1; fill:none\\\" points=\\\"\\n  769.633,1846.96 769.633,1825.93 \\n  \\\"\\/>\\n<polyline clip-path=\\\"url(#clip9000)\\\" style=\\\"stroke:#000000; stroke-width:4; stroke-opacity:1; fill:none\\\" points=\\\"\\n  1235.51,1846.96 1235.51,1825.93 \\n  \\\"\\/>\\n<polyline clip-path=\\\"url(#clip9000)\\\" style=\\\"stroke:#000000; stroke-width:4; stroke-opacity:1; fill:none\\\" points=\\\"\\n  1701.4,1846.96 1701.4,1825.93 \\n  \\\"\\/>\\n<polyline clip-path=\\\"url(#clip9000)\\\" style=\\\"stroke:#000000; stroke-width:4; stroke-opacity:1; fill:none\\\" points=\\\"\\n  2167.28,1846.96 2167.28,1825.93 \\n  \\\"\\/>\\n<polyline clip-path=\\\"url(#clip9000)\\\" style=\\\"stroke:#000000; stroke-width:4; stroke-opacity:1; fill:none\\\" points=\\\"\\n  247.846,1797.36 271.55,1797.36 \\n  \\\"\\/>\\n<polyline clip-path=\\\"url(#clip9000)\\\" style=\\\"stroke:#000000; stroke-width:4; stroke-opacity:1; fill:none\\\" points=\\\"\\n  247.846,1384.03 271.55,1384.03 \\n  \\\"\\/>\\n<polyline clip-path=\\\"url(#clip9000)\\\" style=\\\"stroke:#000000; stroke-width:4; stroke-opacity:1; fill:none\\\" points=\\\"\\n  247.846,970.694 271.55,970.694 \\n  \\\"\\/>\\n<polyline clip-path=\\\"url(#clip9000)\\\" style=\\\"stroke:#000000; stroke-width:4; stroke-opacity:1; fill:none\\\" points=\\\"\\n  247.846,557.362 271.55,557.362 \\n  \\\"\\/>\\n<polyline clip-path=\\\"url(#clip9000)\\\" style=\\\"stroke:#000000; stroke-width:4; stroke-opacity:1; fill:none\\\" points=\\\"\\n  247.846,144.029 271.55,144.029 \\n  \\\"\\/>\\n<g clip-path=\\\"url(#clip9000)\\\">\\n<text style=\\\"fill:#000000; fill-opacity:1; font-family:Arial,Helvetica Neue,Helvetica,sans-serif; font-size:48px; text-anchor:middle;\\\" transform=\\\"rotate(0, 303.751, 1910.96)\\\" x=\\\"303.751\\\" y=\\\"1910.96\\\">0.00<\\/text>\\n<\\/g>\\n<g clip-path=\\\"url(#clip9000)\\\">\\n<text style=\\\"fill:#000000; fill-opacity:1; font-family:Arial,Helvetica Neue,Helvetica,sans-serif; font-size:48px; text-anchor:middle;\\\" transform=\\\"rotate(0, 769.633, 1910.96)\\\" x=\\\"769.633\\\" y=\\\"1910.96\\\">0.25<\\/text>\\n<\\/g>\\n<g clip-path=\\\"url(#clip9000)\\\">\\n<text style=\\\"fill:#000000; fill-opacity:1; font-family:Arial,Helvetica Neue,Helvetica,sans-serif; font-size:48px; text-anchor:middle;\\\" transform=\\\"rotate(0, 1235.51, 1910.96)\\\" x=\\\"1235.51\\\" y=\\\"1910.96\\\">0.50<\\/text>\\n<\\/g>\\n<g clip-path=\\\"url(#clip9000)\\\">\\n<text style=\\\"fill:#000000; fill-opacity:1; font-family:Arial,Helvetica Neue,Helvetica,sans-serif; font-size:48px; text-anchor:middle;\\\" transform=\\\"rotate(0, 1701.4, 1910.96)\\\" x=\\\"1701.4\\\" y=\\\"1910.96\\\">0.75<\\/text>\\n<\\/g>\\n<g clip-path=\\\"url(#clip9000)\\\">\\n<text style=\\\"fill:#000000; fill-opacity:1; font-family:Arial,Helvetica Neue,Helvetica,sans-serif; font-size:48px; text-anchor:middle;\\\" transform=\\\"rotate(0, 2167.28, 1910.96)\\\" x=\\\"2167.28\\\" y=\\\"1910.96\\\">1.00<\\/text>\\n<\\/g>\\n<g clip-path=\\\"url(#clip9000)\\\">\\n<text style=\\\"fill:#000000; fill-opacity:1; font-family:Arial,Helvetica Neue,Helvetica,sans-serif; font-size:48px; text-anchor:end;\\\" transform=\\\"rotate(0, 203.846, 1814.86)\\\" x=\\\"203.846\\\" y=\\\"1814.86\\\">0.00<\\/text>\\n<\\/g>\\n<g clip-path=\\\"url(#clip9000)\\\">\\n<text style=\\\"fill:#000000; fill-opacity:1; font-family:Arial,Helvetica Neue,Helvetica,sans-serif; font-size:48px; text-anchor:end;\\\" transform=\\\"rotate(0, 203.846, 1401.53)\\\" x=\\\"203.846\\\" y=\\\"1401.53\\\">0.25<\\/text>\\n<\\/g>\\n<g clip-path=\\\"url(#clip9000)\\\">\\n<text style=\\\"fill:#000000; fill-opacity:1; font-family:Arial,Helvetica Neue,Helvetica,sans-serif; font-size:48px; text-anchor:end;\\\" transform=\\\"rotate(0, 203.846, 988.194)\\\" x=\\\"203.846\\\" y=\\\"988.194\\\">0.50<\\/text>\\n<\\/g>\\n<g clip-path=\\\"url(#clip9000)\\\">\\n<text style=\\\"fill:#000000; fill-opacity:1; font-family:Arial,Helvetica Neue,Helvetica,sans-serif; font-size:48px; text-anchor:end;\\\" transform=\\\"rotate(0, 203.846, 574.862)\\\" x=\\\"203.846\\\" y=\\\"574.862\\\">0.75<\\/text>\\n<\\/g>\\n<g clip-path=\\\"url(#clip9000)\\\">\\n<text style=\\\"fill:#000000; fill-opacity:1; font-family:Arial,Helvetica Neue,Helvetica,sans-serif; font-size:48px; text-anchor:end;\\\" transform=\\\"rotate(0, 203.846, 161.529)\\\" x=\\\"203.846\\\" y=\\\"161.529\\\">1.00<\\/text>\\n<\\/g>\\n<polyline clip-path=\\\"url(#clip9002)\\\" style=\\\"stroke:#000000; stroke-width:4; stroke-opacity:1; fill:none\\\" points=\\\"\\n  247.846,94.4295 2223.18,94.4295 \\n  \\\"\\/>\\n<polyline clip-path=\\\"url(#clip9002)\\\" style=\\\"stroke:#000000; stroke-width:4; stroke-opacity:1; fill:none\\\" points=\\\"\\n  2223.18,1846.96 2223.18,94.4295 \\n  \\\"\\/>\\n<g clip-path=\\\"url(#clip9000)\\\">\\n<text style=\\\"fill:#000000; fill-opacity:1; font-family:Arial,Helvetica Neue,Helvetica,sans-serif; font-size:66px; text-anchor:end;\\\" transform=\\\"rotate(0, 2223.18, 57.6)\\\" x=\\\"2223.18\\\" y=\\\"57.6\\\">3-Level System Rate Equations -- Solution<\\/text>\\n<\\/g>\\n<g clip-path=\\\"url(#clip9000)\\\">\\n<text style=\\\"fill:#000000; fill-opacity:1; font-family:Arial,Helvetica Neue,Helvetica,sans-serif; font-size:66px; text-anchor:middle;\\\" transform=\\\"rotate(0, 1235.51, 2000.82)\\\" x=\\\"1235.51\\\" y=\\\"2000.82\\\">Time<\\/text>\\n<\\/g>\\n<g clip-path=\\\"url(#clip9000)\\\">\\n<text style=\\\"fill:#000000; fill-opacity:1; font-family:Arial,Helvetica Neue,Helvetica,sans-serif; font-size:66px; text-anchor:middle;\\\" transform=\\\"rotate(-90, 54.6154, 970.694)\\\" x=\\\"54.6154\\\" y=\\\"970.694\\\">Level populations<\\/text>\\n<\\/g>\\n<path clip-path=\\\"url(#clip9000)\\\" d=\\\"\\nM1589.67 539.869 L2091.18 539.869 L2091.18 297.949 L1589.67 297.949  Z\\n  \\\" fill=\\\"#ffffff\\\" fill-rule=\\\"evenodd\\\" fill-opacity=\\\"1\\\"\\/>\\n<polyline clip-path=\\\"url(#clip9000)\\\" style=\\\"stroke:#000000; stroke-width:4; stroke-opacity:1; fill:none\\\" points=\\\"\\n  1589.67,539.869 2091.18,539.869 2091.18,297.949 1589.67,297.949 1589.67,539.869 \\n  \\\"\\/>\\n<polyline clip-path=\\\"url(#clip9000)\\\" style=\\\"stroke:#009af9; stroke-width:8; stroke-opacity:1; fill:none\\\" points=\\\"\\n  1633.67,358.429 1897.67,358.429 \\n  \\\"\\/>\\n<g clip-path=\\\"url(#clip9000)\\\">\\n<text style=\\\"fill:#000000; fill-opacity:1; font-family:Arial,Helvetica Neue,Helvetica,sans-serif; font-size:48px; text-anchor:start;\\\" transform=\\\"rotate(0, 1941.67, 375.929)\\\" x=\\\"1941.67\\\" y=\\\"375.929\\\">N1<\\/text>\\n<\\/g>\\n<polyline clip-path=\\\"url(#clip9000)\\\" style=\\\"stroke:#e26f46; stroke-width:8; stroke-opacity:1; fill:none\\\" points=\\\"\\n  1633.67,418.909 1897.67,418.909 \\n  \\\"\\/>\\n<g clip-path=\\\"url(#clip9000)\\\">\\n<text style=\\\"fill:#000000; fill-opacity:1; font-family:Arial,Helvetica Neue,Helvetica,sans-serif; font-size:48px; text-anchor:start;\\\" transform=\\\"rotate(0, 1941.67, 436.409)\\\" x=\\\"1941.67\\\" y=\\\"436.409\\\">N2<\\/text>\\n<\\/g>\\n<polyline clip-path=\\\"url(#clip9000)\\\" style=\\\"stroke:#3da44d; stroke-width:8; stroke-opacity:1; fill:none\\\" points=\\\"\\n  1633.67,479.389 1897.67,479.389 \\n  \\\"\\/>\\n<g clip-path=\\\"url(#clip9000)\\\">\\n<text style=\\\"fill:#000000; fill-opacity:1; font-family:Arial,Helvetica Neue,Helvetica,sans-serif; font-size:48px; text-anchor:start;\\\" transform=\\\"rotate(0, 1941.67, 496.889)\\\" x=\\\"1941.67\\\" y=\\\"496.889\\\">N3<\\/text>\\n<\\/g>\\n<path clip-path=\\\"url(#clip9000)\\\" d=\\\"\\nM2377.42 1846.96 L4352.76 1846.96 L4352.76 94.4295 L2377.42 94.4295  Z\\n  \\\" fill=\\\"#ffffff\\\" fill-rule=\\\"evenodd\\\" fill-opacity=\\\"1\\\"\\/>\\n<defs>\\n  <clipPath id=\\\"clip9003\\\">\\n    <rect x=\\\"2377\\\" y=\\\"94\\\" width=\\\"1976\\\" height=\\\"1754\\\"\\/>\\n  <\\/clipPath>\\n<\\/defs>\\n<polyline clip-path=\\\"url(#clip9003)\\\" style=\\\"stroke:#000000; stroke-width:2; stroke-opacity:0.1; fill:none\\\" points=\\\"\\n  2743.91,1846.96 2743.91,94.4295 \\n  \\\"\\/>\\n<polyline clip-path=\\\"url(#clip9003)\\\" style=\\\"stroke:#000000; stroke-width:2; stroke-opacity:0.1; fill:none\\\" points=\\\"\\n  3365.09,1846.96 3365.09,94.4295 \\n  \\\"\\/>\\n<polyline clip-path=\\\"url(#clip9003)\\\" style=\\\"stroke:#000000; stroke-width:2; stroke-opacity:0.1; fill:none\\\" points=\\\"\\n  3986.26,1846.96 3986.26,94.4295 \\n  \\\"\\/>\\n<polyline clip-path=\\\"url(#clip9000)\\\" style=\\\"stroke:#000000; stroke-width:4; stroke-opacity:1; fill:none\\\" points=\\\"\\n  2377.42,1846.96 4352.76,1846.96 \\n  \\\"\\/>\\n<polyline clip-path=\\\"url(#clip9000)\\\" style=\\\"stroke:#000000; stroke-width:4; stroke-opacity:1; fill:none\\\" points=\\\"\\n  2377.42,1846.96 2377.42,94.4295 \\n  \\\"\\/>\\n<polyline clip-path=\\\"url(#clip9000)\\\" style=\\\"stroke:#000000; stroke-width:4; stroke-opacity:1; fill:none\\\" points=\\\"\\n  2743.91,1846.96 2743.91,1825.93 \\n  \\\"\\/>\\n<polyline clip-path=\\\"url(#clip9000)\\\" style=\\\"stroke:#000000; stroke-width:4; stroke-opacity:1; fill:none\\\" points=\\\"\\n  3365.09,1846.96 3365.09,1825.93 \\n  \\\"\\/>\\n<polyline clip-path=\\\"url(#clip9000)\\\" style=\\\"stroke:#000000; stroke-width:4; stroke-opacity:1; fill:none\\\" points=\\\"\\n  3986.26,1846.96 3986.26,1825.93 \\n  \\\"\\/>\\n<g clip-path=\\\"url(#clip9000)\\\">\\n<text style=\\\"fill:#000000; fill-opacity:1; font-family:Arial,Helvetica Neue,Helvetica,sans-serif; font-size:48px; text-anchor:middle;\\\" transform=\\\"rotate(0, 2743.91, 1910.96)\\\" x=\\\"2743.91\\\" y=\\\"1910.96\\\">N1<\\/text>\\n<\\/g>\\n<g clip-path=\\\"url(#clip9000)\\\">\\n<text style=\\\"fill:#000000; fill-opacity:1; font-family:Arial,Helvetica Neue,Helvetica,sans-serif; font-size:48px; text-anchor:middle;\\\" transform=\\\"rotate(0, 3365.09, 1910.96)\\\" x=\\\"3365.09\\\" y=\\\"1910.96\\\">N3<\\/text>\\n<\\/g>\\n<g clip-path=\\\"url(#clip9000)\\\">\\n<text style=\\\"fill:#000000; fill-opacity:1; font-family:Arial,Helvetica Neue,Helvetica,sans-serif; font-size:48px; text-anchor:middle;\\\" transform=\\\"rotate(0, 3986.26, 1910.96)\\\" x=\\\"3986.26\\\" y=\\\"1910.96\\\">N2<\\/text>\\n<\\/g>\\n<polyline clip-path=\\\"url(#clip9003)\\\" style=\\\"stroke:#000000; stroke-width:4; stroke-opacity:1; fill:none\\\" points=\\\"\\n  2377.42,94.4295 4352.76,94.4295 \\n  \\\"\\/>\\n<polyline clip-path=\\\"url(#clip9003)\\\" style=\\\"stroke:#000000; stroke-width:4; stroke-opacity:1; fill:none\\\" points=\\\"\\n  4352.76,1846.96 4352.76,94.4295 \\n  \\\"\\/>\\n<path clip-path=\\\"url(#clip9003)\\\" d=\\\"\\nM2433.32 1394.36 L3054.5 1394.36 L3054.5 1373.69 L2433.32 1373.69 L2433.32 1394.36  Z\\n  \\\" fill=\\\"#0000ff\\\" fill-rule=\\\"evenodd\\\" fill-opacity=\\\"1\\\"\\/>\\n<polyline clip-path=\\\"url(#clip9003)\\\" style=\\\"stroke:#000000; stroke-width:4; stroke-opacity:1; fill:none\\\" points=\\\"\\n  2433.32,1394.36 3054.5,1394.36 3054.5,1373.69 2433.32,1373.69 2433.32,1394.36 \\n  \\\"\\/>\\n<path clip-path=\\\"url(#clip9003)\\\" d=\\\"\\nM3675.67 981.028 L4296.85 981.028 L4296.85 960.361 L3675.67 960.361 L3675.67 981.028  Z\\n  \\\" fill=\\\"#ff0000\\\" fill-rule=\\\"evenodd\\\" fill-opacity=\\\"1\\\"\\/>\\n<polyline clip-path=\\\"url(#clip9003)\\\" style=\\\"stroke:#000000; stroke-width:4; stroke-opacity:1; fill:none\\\" points=\\\"\\n  3675.67,981.028 4296.85,981.028 4296.85,960.361 3675.67,960.361 3675.67,981.028 \\n  \\\"\\/>\\n<path clip-path=\\\"url(#clip9003)\\\" d=\\\"\\nM3054.5 567.695 L3675.67 567.695 L3675.67 547.028 L3054.5 547.028 L3054.5 567.695  Z\\n  \\\" fill=\\\"#008000\\\" fill-rule=\\\"evenodd\\\" fill-opacity=\\\"1\\\"\\/>\\n<polyline clip-path=\\\"url(#clip9003)\\\" style=\\\"stroke:#000000; stroke-width:4; stroke-opacity:1; fill:none\\\" points=\\\"\\n  3054.5,567.695 3675.67,567.695 3675.67,547.028 3054.5,547.028 3054.5,567.695 \\n  \\\"\\/>\\n<path clip-path=\\\"url(#clip9003)\\\" d=\\\"\\nM2433.32 1797.36 L4296.85 1797.36 L4296.85 144.029 L2433.32 144.029 L2433.32 1797.36  Z\\n  \\\" fill=\\\"#ffffff\\\" fill-rule=\\\"evenodd\\\" fill-opacity=\\\"0\\\"\\/>\\n<polyline clip-path=\\\"url(#clip9003)\\\" style=\\\"stroke:#000000; stroke-width:0; stroke-opacity:1; fill:none\\\" points=\\\"\\n  2433.32,1797.36 4296.85,1797.36 4296.85,144.029 2433.32,144.029 2433.32,1797.36 \\n  \\\"\\/>\\n<path clip-path=\\\"url(#clip9003)\\\" d=\\\"\\nM2681.79 1373.69 L2806.03 1373.69 L2806.03 992.749 L2681.79 992.749 L2681.79 1373.69  Z\\n  \\\" fill=\\\"#0000ff\\\" fill-rule=\\\"evenodd\\\" fill-opacity=\\\"0.5\\\"\\/>\\n<polyline clip-path=\\\"url(#clip9003)\\\" style=\\\"stroke:#000000; stroke-width:4; stroke-opacity:1; fill:none\\\" points=\\\"\\n  2681.79,1373.69 2806.03,1373.69 2806.03,992.749 2681.79,992.749 2681.79,1373.69 \\n  \\\"\\/>\\n<path clip-path=\\\"url(#clip9003)\\\" d=\\\"\\nM3924.15 960.361 L4048.38 960.361 L4048.38 959.495 L3924.15 959.495 L3924.15 960.361  Z\\n  \\\" fill=\\\"#ff0000\\\" fill-rule=\\\"evenodd\\\" fill-opacity=\\\"0.5\\\"\\/>\\n<polyline clip-path=\\\"url(#clip9003)\\\" style=\\\"stroke:#000000; stroke-width:4; stroke-opacity:1; fill:none\\\" points=\\\"\\n  3924.15,960.361 4048.38,960.361 4048.38,959.495 3924.15,959.495 3924.15,960.361 \\n  \\\"\\/>\\n<path clip-path=\\\"url(#clip9003)\\\" d=\\\"\\nM3302.97 547.028 L3427.2 547.028 L3427.2 515.506 L3302.97 515.506 L3302.97 547.028  Z\\n  \\\" fill=\\\"#008000\\\" fill-rule=\\\"evenodd\\\" fill-opacity=\\\"0.5\\\"\\/>\\n<polyline clip-path=\\\"url(#clip9003)\\\" style=\\\"stroke:#000000; stroke-width:4; stroke-opacity:1; fill:none\\\" points=\\\"\\n  3302.97,547.028 3427.2,547.028 3427.2,515.506 3302.97,515.506 3302.97,547.028 \\n  \\\"\\/>\\n<\\/svg>\\n\"},\"nodeType\":\"DOM\",\"type\":\"node\",\"instanceArgs\":{\"namespace\":\"html\",\"tag\":\"div\"},\"children\":[]}]}}}},\"children\":[{\"props\":{},\"nodeType\":\"ObservableNode\",\"type\":\"node\",\"instanceArgs\":{\"id\":\"ob_30\",\"name\":\"obs-node\"},\"children\":[]}]}]},\n",
       "            window,\n",
       "        );\n",
       "    } else {\n",
       "        document\n",
       "            .querySelector('[data-webio-mountpoint=\"2934266139932142184\"]')\n",
       "            .innerHTML = (\n",
       "                '<div style=\"padding: 1em; background-color: #f8d6da; border: 1px solid #f5c6cb\">' +\n",
       "                '<p><strong>WebIO not detected.</strong></p>' +\n",
       "                '<p>Please read ' +\n",
       "                '<a href=\"https://juliagizmos.github.io/WebIO.jl/latest/troubleshooting/not-detected/\" target=\"_blank\">the troubleshooting guide</a> ' +\n",
       "                'for more information on how to resolve this issue.</p>' +\n",
       "                '<p><a href=\"https://juliagizmos.github.io/WebIO.jl/latest/troubleshooting/not-detected/\" target=\"_blank\">https://juliagizmos.github.io/WebIO.jl/latest/troubleshooting/not-detected/</a></p>' +\n",
       "                '</div>'\n",
       "            );\n",
       "    }\n",
       "    </script>\n",
       "</div>\n"
      ],
      "text/plain": [
       "Node{WebIO.DOM}(WebIO.DOM(:html, :div), Any[Node{WebIO.DOM}(WebIO.DOM(:html, :div), Any[Scope(Node{WebIO.DOM}(WebIO.DOM(:html, :div), Any[Node{WebIO.DOM}(WebIO.DOM(:html, :div), Any[Node{WebIO.DOM}(WebIO.DOM(:html, :label), Any[\"Time\"], Dict{Symbol,Any}(:className => \"interact \",:style => Dict{Any,Any}(:padding => \"5px 10px 0px 10px\")))], Dict{Symbol,Any}(:className => \"interact-flex-row-left\")), Node{WebIO.DOM}(WebIO.DOM(:html, :div), Any[Node{WebIO.DOM}(WebIO.DOM(:html, :input), Any[], Dict{Symbol,Any}(:max => 120,:min => 1,:attributes => Dict{Any,Any}(:type => \"range\",Symbol(\"data-bind\") => \"numericValue: index, valueUpdate: 'input', event: {change: function (){this.changes(this.changes()+1)}}\",\"orient\" => \"horizontal\"),:step => 1,:className => \"slider slider is-fullwidth\",:style => Dict{Any,Any}()))], Dict{Symbol,Any}(:className => \"interact-flex-row-center\")), Node{WebIO.DOM}(WebIO.DOM(:html, :div), Any[Node{WebIO.DOM}(WebIO.DOM(:html, :p), Any[], Dict{Symbol,Any}(:attributes => Dict(\"data-bind\" => \"text: formatted_val\")))], Dict{Symbol,Any}(:className => \"interact-flex-row-right\"))], Dict{Symbol,Any}(:className => \"interact-flex-row interact-widget\")), Dict{String,Tuple{Observables.AbstractObservable,Union{Nothing, Bool}}}(\"changes\" => (Observable{Int64} with 1 listeners. Value:\n",
       "0, nothing),\"index\" => (Observable{Int64} with 2 listeners. Value:\n",
       "1, nothing)), Set(String[]), nothing, Asset[Asset(\"js\", \"knockout\", \"C:\\\\Users\\\\kaltsoplyn\\\\.julia\\\\packages\\\\Knockout\\\\1sDlc\\\\src\\\\..\\\\assets\\\\knockout.js\"), Asset(\"js\", \"knockout_punches\", \"C:\\\\Users\\\\kaltsoplyn\\\\.julia\\\\packages\\\\Knockout\\\\1sDlc\\\\src\\\\..\\\\assets\\\\knockout_punches.js\"), Asset(\"js\", nothing, \"C:\\\\Users\\\\kaltsoplyn\\\\.julia\\\\packages\\\\InteractBase\\\\9mFwe\\\\src\\\\..\\\\assets\\\\all.js\"), Asset(\"css\", nothing, \"C:\\\\Users\\\\kaltsoplyn\\\\.julia\\\\packages\\\\InteractBase\\\\9mFwe\\\\src\\\\..\\\\assets\\\\style.css\"), Asset(\"css\", nothing, \"C:\\\\Users\\\\kaltsoplyn\\\\.julia\\\\packages\\\\Interact\\\\SbgIk\\\\src\\\\..\\\\assets\\\\bulma_confined.min.css\")], Dict{Any,Any}(\"changes\" => Any[WebIO.JSString(\"(function (val){return (val!=this.model[\\\"changes\\\"]()) ? (this.valueFromJulia[\\\"changes\\\"]=true, this.model[\\\"changes\\\"](val)) : undefined})\")],\"index\" => Any[WebIO.JSString(\"(function (val){return (val!=this.model[\\\"index\\\"]()) ? (this.valueFromJulia[\\\"index\\\"]=true, this.model[\\\"index\\\"](val)) : undefined})\")]), WebIO.ConnectionPool(Channel{Any}(sz_max:32,sz_curr:0), Set(AbstractConnection[]), Base.GenericCondition{Base.AlwaysLockedST}(Base.InvasiveLinkedList{Task}(Task (runnable) @0x000000003ded6290, Task (runnable) @0x000000003ded6290), Base.AlwaysLockedST(1))), WebIO.JSString[WebIO.JSString(\"function () {\\n    var handler = (function (ko, koPunches) {\\n    ko.punches.enableAll();\\n    ko.bindingHandlers.numericValue = {\\n        init: function(element, valueAccessor, allBindings, data, context) {\\n            var stringified = ko.observable(ko.unwrap(valueAccessor()));\\n            stringified.subscribe(function(value) {\\n                var val = parseFloat(value);\\n                if (!isNaN(val)) {\\n                    valueAccessor()(val);\\n                }\\n            });\\n            valueAccessor().subscribe(function(value) {\\n                var str = JSON.stringify(value);\\n                if ((str == \\\"0\\\") && ([\\\"-0\\\", \\\"-0.\\\"].indexOf(stringified()) >= 0))\\n                     return;\\n                 if ([\\\"null\\\", \\\"\\\"].indexOf(str) >= 0)\\n                     return;\\n                stringified(str);\\n            });\\n            ko.applyBindingsToNode(\\n                element,\\n                {\\n                    value: stringified,\\n                    valueUpdate: allBindings.get('valueUpdate'),\\n                },\\n                context,\\n            );\\n        }\\n    };\\n    var json_data = {\\\"formatted_vals\\\":[\\\"1\\\",\\\"2\\\",\\\"3\\\",\\\"4\\\",\\\"5\\\",\\\"6\\\",\\\"7\\\",\\\"8\\\",\\\"9\\\",\\\"10\\\",\\\"11\\\",\\\"12\\\",\\\"13\\\",\\\"14\\\",\\\"15\\\",\\\"16\\\",\\\"17\\\",\\\"18\\\",\\\"19\\\",\\\"20\\\",\\\"21\\\",\\\"22\\\",\\\"23\\\",\\\"24\\\",\\\"25\\\",\\\"26\\\",\\\"27\\\",\\\"28\\\",\\\"29\\\",\\\"30\\\",\\\"31\\\",\\\"32\\\",\\\"33\\\",\\\"34\\\",\\\"35\\\",\\\"36\\\",\\\"37\\\",\\\"38\\\",\\\"39\\\",\\\"40\\\",\\\"41\\\",\\\"42\\\",\\\"43\\\",\\\"44\\\",\\\"45\\\",\\\"46\\\",\\\"47\\\",\\\"48\\\",\\\"49\\\",\\\"50\\\",\\\"51\\\",\\\"52\\\",\\\"53\\\",\\\"54\\\",\\\"55\\\",\\\"56\\\",\\\"57\\\",\\\"58\\\",\\\"59\\\",\\\"60\\\",\\\"61\\\",\\\"62\\\",\\\"63\\\",\\\"64\\\",\\\"65\\\",\\\"66\\\",\\\"67\\\",\\\"68\\\",\\\"69\\\",\\\"70\\\",\\\"71\\\",\\\"72\\\",\\\"73\\\",\\\"74\\\",\\\"75\\\",\\\"76\\\",\\\"77\\\",\\\"78\\\",\\\"79\\\",\\\"80\\\",\\\"81\\\",\\\"82\\\",\\\"83\\\",\\\"84\\\",\\\"85\\\",\\\"86\\\",\\\"87\\\",\\\"88\\\",\\\"89\\\",\\\"90\\\",\\\"91\\\",\\\"92\\\",\\\"93\\\",\\\"94\\\",\\\"95\\\",\\\"96\\\",\\\"97\\\",\\\"98\\\",\\\"99\\\",\\\"100\\\",\\\"101\\\",\\\"102\\\",\\\"103\\\",\\\"104\\\",\\\"105\\\",\\\"106\\\",\\\"107\\\",\\\"108\\\",\\\"109\\\",\\\"110\\\",\\\"111\\\",\\\"112\\\",\\\"113\\\",\\\"114\\\",\\\"115\\\",\\\"116\\\",\\\"117\\\",\\\"118\\\",\\\"119\\\",\\\"120\\\"],\\\"changes\\\":WebIO.getval({\\\"name\\\":\\\"changes\\\",\\\"scope\\\":\\\"9323177831670325951\\\",\\\"id\\\":\\\"ob_26\\\",\\\"type\\\":\\\"observable\\\"}),\\\"index\\\":WebIO.getval({\\\"name\\\":\\\"index\\\",\\\"scope\\\":\\\"9323177831670325951\\\",\\\"id\\\":\\\"ob_25\\\",\\\"type\\\":\\\"observable\\\"})};\\n    var self = this;\\n    function AppViewModel() {\\n        for (var key in json_data) {\\n            var el = json_data[key];\\n            this[key] = Array.isArray(el) ? ko.observableArray(el) : ko.observable(el);\\n        }\\n        \\n        [this[\\\"formatted_val\\\"]=ko.computed(    function(){\\n        return this.formatted_vals()[parseInt(this.index())-(1)];\\n    }\\n,this)]\\n        [this[\\\"changes\\\"].subscribe((function (val){!(this.valueFromJulia[\\\"changes\\\"]) ? (WebIO.setval({\\\"name\\\":\\\"changes\\\",\\\"scope\\\":\\\"9323177831670325951\\\",\\\"id\\\":\\\"ob_26\\\",\\\"type\\\":\\\"observable\\\"},val)) : undefined; return this.valueFromJulia[\\\"changes\\\"]=false}),self),this[\\\"index\\\"].subscribe((function (val){!(this.valueFromJulia[\\\"index\\\"]) ? (WebIO.setval({\\\"name\\\":\\\"index\\\",\\\"scope\\\":\\\"9323177831670325951\\\",\\\"id\\\":\\\"ob_25\\\",\\\"type\\\":\\\"observable\\\"},val)) : undefined; return this.valueFromJulia[\\\"index\\\"]=false}),self)]\\n        \\n    }\\n    self.model = new AppViewModel();\\n    self.valueFromJulia = {};\\n    for (var key in json_data) {\\n        self.valueFromJulia[key] = false;\\n    }\\n    ko.applyBindings(self.model, self.dom);\\n}\\n);\\n    (WebIO.importBlock({\\\"data\\\":[{\\\"name\\\":\\\"knockout\\\",\\\"type\\\":\\\"js\\\",\\\"url\\\":\\\"/assetserver/58532c656e5c3ea95bc9e6ba08f6e0bbf64f3349-knockout.js\\\"},{\\\"name\\\":\\\"knockout_punches\\\",\\\"type\\\":\\\"js\\\",\\\"url\\\":\\\"/assetserver/97167f822e98661cc85dd010a2419f4651aeb9c6-knockout_punches.js\\\"}],\\\"type\\\":\\\"async_block\\\"})).then((imports) => handler.apply(this, imports));\\n}\\n\")])], Dict{Symbol,Any}(:className => \"field interact-widget\")), Observable{Any} with 0 listeners. Value:\n",
       "Node{WebIO.DOM}(WebIO.DOM(:html, :div), Any[Plot{Plots.GRBackend() n=8}], Dict{Symbol,Any}(:className => \"interact-flex-row interact-widget\"))], Dict{Symbol,Any}())"
      ]
     },
     "execution_count": 15,
     "metadata": {
      "application/vnd.webio.node+json": {
       "kernelId": "5eb1ddec-ee6e-47d8-9d57-f88698952025"
      }
     },
     "output_type": "execute_result"
    }
   ],
   "source": [
    "@manipulate for t = slider(1:length(sol), value = 1, label = \"Time\")\n",
    "    evo = plot(sol[1:t], vars=[(0,1),(0,2),(0,3)], labels = [\"N1\" \"N2\" \"N3\"], lw = 2,\n",
    "        framestyle = :box, title = \"3-Level System Rate Equations -- Solution\",\n",
    "        title_location = :right, titlefontsize = 11, xaxis = (\"Time\", 0:1), yaxis = (\"Level populations\", 0:1))\n",
    "    sys = plot([level(1,1), level(3,2), level(2,3)], fillcolor = [:blue, :red, :green])\n",
    "          plot!(clipping_box(0.5, 0, 3.5, 4), lw = 0, fillalpha = 0, fillcolor = :white)\n",
    "          plot!(sys, framestyle = :box, xticks = ([1:1:3;], [\"N1\", \"N3\", \"N2\"]), yticks = [], legend = false)\n",
    "          plot!(level_pop(1, 1, pop1(t/length(sol))), fillalpha = 0.5, fillcolor = :blue)\n",
    "          plot!(level_pop(3, 2, pop2(t/length(sol))), fillalpha = 0.5, fillcolor = :red)\n",
    "          plot!(level_pop(2, 3, pop3(t/length(sol))), fillalpha = 0.5, fillcolor = :green)\n",
    "    plot(evo, sys, size = (1100, 500))\n",
    "end"
   ]
  },
  {
   "cell_type": "code",
   "execution_count": null,
   "metadata": {},
   "outputs": [],
   "source": []
  },
  {
   "cell_type": "markdown",
   "metadata": {},
   "source": [
    "## 4 Levels"
   ]
  },
  {
   "cell_type": "code",
   "execution_count": 30,
   "metadata": {},
   "outputs": [
    {
     "data": {
      "text/plain": [
       "\u001b[36mODEProblem\u001b[0m with uType \u001b[36mArray{Float64,1}\u001b[0m and tType \u001b[36mFloat64\u001b[0m. In-place: \u001b[36mtrue\u001b[0m\n",
       "timespan: (0.0, 1.0)\n",
       "u0: [1.0, 0.0, 0.0, 0.0]"
      ]
     },
     "execution_count": 30,
     "metadata": {},
     "output_type": "execute_result"
    }
   ],
   "source": [
    "using DifferentialEquations\n",
    "\n",
    "function rate_eqs4!(dN, N, pars, t)\n",
    "    N1, N2, N3, N4 = N\n",
    "    R, γ41, γ43, γ32, γ21 = pars\n",
    "    dN[1] = dN1 = -R * N1 + γ41 * N4 + γ21 * N2\n",
    "    dN[2] = dN2 = -γ21 * N2 + γ32 * N3\n",
    "    dN[3] = dN3 = γ43 * N4 - γ32 * N3\n",
    "    dN[4] = dN4 = +R * N1 - (γ41 + γ43) * N4\n",
    "end\n",
    "\n",
    "N0 = [1., 0., 0., 0.]\n",
    "tspan = (0.0, 1.0)\n",
    "p = [10., 4., 6., 1., 3.]\n",
    "\n",
    "prob = ODEProblem(rate_eqs4!, N0, tspan, p)"
   ]
  },
  {
   "cell_type": "code",
   "execution_count": 31,
   "metadata": {
    "scrolled": true
   },
   "outputs": [
    {
     "data": {
      "text/plain": [
       ":Success"
      ]
     },
     "execution_count": 31,
     "metadata": {},
     "output_type": "execute_result"
    }
   ],
   "source": [
    "sol4 = solve(prob, callback = PositiveDomain(),saveat = 0:0.01:1);\n",
    "sol4.retcode"
   ]
  },
  {
   "cell_type": "code",
   "execution_count": 32,
   "metadata": {},
   "outputs": [
    {
     "data": {
      "text/plain": [
       "level_pop (generic function with 1 method)"
      ]
     },
     "execution_count": 32,
     "metadata": {},
     "output_type": "execute_result"
    }
   ],
   "source": [
    "pop41(ti) = sol4(ti)[1]\n",
    "pop42(ti) = sol4(ti)[2]\n",
    "pop43(ti) = sol4(ti)[3]\n",
    "pop44(ti) = sol4(ti)[4]\n",
    "w_pop = 0.2;\n",
    "level_pop(x, y, pop) = Shape(x .+ [-0.5w_pop,0.5w_pop, 0.5w_pop,-0.5w_pop], y .+ [0.5h, 0.5h, pop + 0.5h, pop + 0.5h])"
   ]
  },
  {
   "cell_type": "code",
   "execution_count": 33,
   "metadata": {},
   "outputs": [
    {
     "data": {
      "application/vnd.webio.node+json": {
       "children": [
        {
         "children": [
          {
           "children": [
            {
             "children": [
              {
               "children": [
                {
                 "children": [
                  "Time"
                 ],
                 "instanceArgs": {
                  "namespace": "html",
                  "tag": "label"
                 },
                 "nodeType": "DOM",
                 "props": {
                  "className": "interact ",
                  "style": {
                   "padding": "5px 10px 0px 10px"
                  }
                 },
                 "type": "node"
                }
               ],
               "instanceArgs": {
                "namespace": "html",
                "tag": "div"
               },
               "nodeType": "DOM",
               "props": {
                "className": "interact-flex-row-left"
               },
               "type": "node"
              },
              {
               "children": [
                {
                 "children": [],
                 "instanceArgs": {
                  "namespace": "html",
                  "tag": "input"
                 },
                 "nodeType": "DOM",
                 "props": {
                  "attributes": {
                   "data-bind": "numericValue: index, valueUpdate: 'input', event: {change: function (){this.changes(this.changes()+1)}}",
                   "orient": "horizontal",
                   "type": "range"
                  },
                  "className": "slider slider is-fullwidth",
                  "max": 121,
                  "min": 1,
                  "step": 1,
                  "style": {}
                 },
                 "type": "node"
                }
               ],
               "instanceArgs": {
                "namespace": "html",
                "tag": "div"
               },
               "nodeType": "DOM",
               "props": {
                "className": "interact-flex-row-center"
               },
               "type": "node"
              },
              {
               "children": [
                {
                 "children": [],
                 "instanceArgs": {
                  "namespace": "html",
                  "tag": "p"
                 },
                 "nodeType": "DOM",
                 "props": {
                  "attributes": {
                   "data-bind": "text: formatted_val"
                  }
                 },
                 "type": "node"
                }
               ],
               "instanceArgs": {
                "namespace": "html",
                "tag": "div"
               },
               "nodeType": "DOM",
               "props": {
                "className": "interact-flex-row-right"
               },
               "type": "node"
              }
             ],
             "instanceArgs": {
              "namespace": "html",
              "tag": "div"
             },
             "nodeType": "DOM",
             "props": {
              "className": "interact-flex-row interact-widget"
             },
             "type": "node"
            }
           ],
           "instanceArgs": {
            "handlers": {
             "changes": [
              "(function (val){return (val!=this.model[\"changes\"]()) ? (this.valueFromJulia[\"changes\"]=true, this.model[\"changes\"](val)) : undefined})"
             ],
             "index": [
              "(function (val){return (val!=this.model[\"index\"]()) ? (this.valueFromJulia[\"index\"]=true, this.model[\"index\"](val)) : undefined})"
             ]
            },
            "id": "434744520325907643",
            "imports": {
             "data": [
              {
               "name": "knockout",
               "type": "js",
               "url": "/assetserver/58532c656e5c3ea95bc9e6ba08f6e0bbf64f3349-knockout.js"
              },
              {
               "name": "knockout_punches",
               "type": "js",
               "url": "/assetserver/97167f822e98661cc85dd010a2419f4651aeb9c6-knockout_punches.js"
              },
              {
               "name": null,
               "type": "js",
               "url": "/assetserver/c7daed194cd9e562afee3f059fad5f8587c42456-all.js"
              },
              {
               "name": null,
               "type": "css",
               "url": "/assetserver/3f97f38d83fe3be07cf18967ab9d3b51834c3353-style.css"
              },
              {
               "name": null,
               "type": "css",
               "url": "/assetserver/075c8efb747833dacc2bae1590f31f6a06a5b55a-bulma_confined.min.css"
              }
             ],
             "type": "async_block"
            },
            "mount_callbacks": [
             "function () {\n    var handler = (function (ko, koPunches) {\n    ko.punches.enableAll();\n    ko.bindingHandlers.numericValue = {\n        init: function(element, valueAccessor, allBindings, data, context) {\n            var stringified = ko.observable(ko.unwrap(valueAccessor()));\n            stringified.subscribe(function(value) {\n                var val = parseFloat(value);\n                if (!isNaN(val)) {\n                    valueAccessor()(val);\n                }\n            });\n            valueAccessor().subscribe(function(value) {\n                var str = JSON.stringify(value);\n                if ((str == \"0\") && ([\"-0\", \"-0.\"].indexOf(stringified()) >= 0))\n                     return;\n                 if ([\"null\", \"\"].indexOf(str) >= 0)\n                     return;\n                stringified(str);\n            });\n            ko.applyBindingsToNode(\n                element,\n                {\n                    value: stringified,\n                    valueUpdate: allBindings.get('valueUpdate'),\n                },\n                context,\n            );\n        }\n    };\n    var json_data = {\"formatted_vals\":[\"1\",\"2\",\"3\",\"4\",\"5\",\"6\",\"7\",\"8\",\"9\",\"10\",\"11\",\"12\",\"13\",\"14\",\"15\",\"16\",\"17\",\"18\",\"19\",\"20\",\"21\",\"22\",\"23\",\"24\",\"25\",\"26\",\"27\",\"28\",\"29\",\"30\",\"31\",\"32\",\"33\",\"34\",\"35\",\"36\",\"37\",\"38\",\"39\",\"40\",\"41\",\"42\",\"43\",\"44\",\"45\",\"46\",\"47\",\"48\",\"49\",\"50\",\"51\",\"52\",\"53\",\"54\",\"55\",\"56\",\"57\",\"58\",\"59\",\"60\",\"61\",\"62\",\"63\",\"64\",\"65\",\"66\",\"67\",\"68\",\"69\",\"70\",\"71\",\"72\",\"73\",\"74\",\"75\",\"76\",\"77\",\"78\",\"79\",\"80\",\"81\",\"82\",\"83\",\"84\",\"85\",\"86\",\"87\",\"88\",\"89\",\"90\",\"91\",\"92\",\"93\",\"94\",\"95\",\"96\",\"97\",\"98\",\"99\",\"100\",\"101\",\"102\",\"103\",\"104\",\"105\",\"106\",\"107\",\"108\",\"109\",\"110\",\"111\",\"112\",\"113\",\"114\",\"115\",\"116\",\"117\",\"118\",\"119\",\"120\",\"121\"],\"changes\":WebIO.getval({\"name\":\"changes\",\"scope\":\"434744520325907643\",\"id\":\"ob_66\",\"type\":\"observable\"}),\"index\":WebIO.getval({\"name\":\"index\",\"scope\":\"434744520325907643\",\"id\":\"ob_65\",\"type\":\"observable\"})};\n    var self = this;\n    function AppViewModel() {\n        for (var key in json_data) {\n            var el = json_data[key];\n            this[key] = Array.isArray(el) ? ko.observableArray(el) : ko.observable(el);\n        }\n        \n        [this[\"formatted_val\"]=ko.computed(    function(){\n        return this.formatted_vals()[parseInt(this.index())-(1)];\n    }\n,this)]\n        [this[\"changes\"].subscribe((function (val){!(this.valueFromJulia[\"changes\"]) ? (WebIO.setval({\"name\":\"changes\",\"scope\":\"434744520325907643\",\"id\":\"ob_66\",\"type\":\"observable\"},val)) : undefined; return this.valueFromJulia[\"changes\"]=false}),self),this[\"index\"].subscribe((function (val){!(this.valueFromJulia[\"index\"]) ? (WebIO.setval({\"name\":\"index\",\"scope\":\"434744520325907643\",\"id\":\"ob_65\",\"type\":\"observable\"},val)) : undefined; return this.valueFromJulia[\"index\"]=false}),self)]\n        \n    }\n    self.model = new AppViewModel();\n    self.valueFromJulia = {};\n    for (var key in json_data) {\n        self.valueFromJulia[key] = false;\n    }\n    ko.applyBindings(self.model, self.dom);\n}\n);\n    (WebIO.importBlock({\"data\":[{\"name\":\"knockout\",\"type\":\"js\",\"url\":\"/assetserver/58532c656e5c3ea95bc9e6ba08f6e0bbf64f3349-knockout.js\"},{\"name\":\"knockout_punches\",\"type\":\"js\",\"url\":\"/assetserver/97167f822e98661cc85dd010a2419f4651aeb9c6-knockout_punches.js\"}],\"type\":\"async_block\"})).then((imports) => handler.apply(this, imports));\n}\n"
            ],
            "observables": {
             "changes": {
              "id": "ob_66",
              "sync": false,
              "value": 0
             },
             "index": {
              "id": "ob_65",
              "sync": true,
              "value": 1
             }
            },
            "systemjs_options": null
           },
           "nodeType": "Scope",
           "props": {},
           "type": "node"
          }
         ],
         "instanceArgs": {
          "namespace": "html",
          "tag": "div"
         },
         "nodeType": "DOM",
         "props": {
          "className": "field interact-widget"
         },
         "type": "node"
        },
        {
         "children": [
          {
           "children": [],
           "instanceArgs": {
            "id": "ob_72",
            "name": "obs-node"
           },
           "nodeType": "ObservableNode",
           "props": {},
           "type": "node"
          }
         ],
         "instanceArgs": {
          "handlers": {},
          "id": "1890090186310403403",
          "imports": {
           "data": [],
           "type": "async_block"
          },
          "mount_callbacks": [],
          "observables": {
           "obs-node": {
            "id": "ob_72",
            "sync": false,
            "value": {
             "children": [
              {
               "children": [],
               "instanceArgs": {
                "namespace": "html",
                "tag": "div"
               },
               "nodeType": "DOM",
               "props": {
                "setInnerHtml": "<?xml version=\"1.0\" encoding=\"utf-8\"?>\n<svg xmlns=\"http://www.w3.org/2000/svg\" xmlns:xlink=\"http://www.w3.org/1999/xlink\" width=\"1100\" height=\"500\" viewBox=\"0 0 4400 2000\">\n<defs>\n  <clipPath id=\"clip8600\">\n    <rect x=\"0\" y=\"0\" width=\"4400\" height=\"2000\"/>\n  </clipPath>\n</defs>\n<path clip-path=\"url(#clip8600)\" d=\"\nM0 2000 L4400 2000 L4400 0 L0 0  Z\n  \" fill=\"#ffffff\" fill-rule=\"evenodd\" fill-opacity=\"1\"/>\n<defs>\n  <clipPath id=\"clip8601\">\n    <rect x=\"880\" y=\"0\" width=\"3081\" height=\"2000\"/>\n  </clipPath>\n</defs>\n<path clip-path=\"url(#clip8600)\" d=\"\nM247.846 1846.96 L2223.18 1846.96 L2223.18 94.4295 L247.846 94.4295  Z\n  \" fill=\"#ffffff\" fill-rule=\"evenodd\" fill-opacity=\"1\"/>\n<defs>\n  <clipPath id=\"clip8602\">\n    <rect x=\"247\" y=\"94\" width=\"1976\" height=\"1754\"/>\n  </clipPath>\n</defs>\n<polyline clip-path=\"url(#clip8602)\" style=\"stroke:#000000; stroke-width:2; stroke-opacity:0.1; fill:none\" points=\"\n  303.751,1846.96 303.751,94.4295 \n  \"/>\n<polyline clip-path=\"url(#clip8602)\" style=\"stroke:#000000; stroke-width:2; stroke-opacity:0.1; fill:none\" points=\"\n  769.633,1846.96 769.633,94.4295 \n  \"/>\n<polyline clip-path=\"url(#clip8602)\" style=\"stroke:#000000; stroke-width:2; stroke-opacity:0.1; fill:none\" points=\"\n  1235.51,1846.96 1235.51,94.4295 \n  \"/>\n<polyline clip-path=\"url(#clip8602)\" style=\"stroke:#000000; stroke-width:2; stroke-opacity:0.1; fill:none\" points=\"\n  1701.4,1846.96 1701.4,94.4295 \n  \"/>\n<polyline clip-path=\"url(#clip8602)\" style=\"stroke:#000000; stroke-width:2; stroke-opacity:0.1; fill:none\" points=\"\n  2167.28,1846.96 2167.28,94.4295 \n  \"/>\n<polyline clip-path=\"url(#clip8602)\" style=\"stroke:#000000; stroke-width:2; stroke-opacity:0.1; fill:none\" points=\"\n  247.846,1797.36 2223.18,1797.36 \n  \"/>\n<polyline clip-path=\"url(#clip8602)\" style=\"stroke:#000000; stroke-width:2; stroke-opacity:0.1; fill:none\" points=\"\n  247.846,1384.03 2223.18,1384.03 \n  \"/>\n<polyline clip-path=\"url(#clip8602)\" style=\"stroke:#000000; stroke-width:2; stroke-opacity:0.1; fill:none\" points=\"\n  247.846,970.694 2223.18,970.694 \n  \"/>\n<polyline clip-path=\"url(#clip8602)\" style=\"stroke:#000000; stroke-width:2; stroke-opacity:0.1; fill:none\" points=\"\n  247.846,557.362 2223.18,557.362 \n  \"/>\n<polyline clip-path=\"url(#clip8602)\" style=\"stroke:#000000; stroke-width:2; stroke-opacity:0.1; fill:none\" points=\"\n  247.846,144.029 2223.18,144.029 \n  \"/>\n<polyline clip-path=\"url(#clip8600)\" style=\"stroke:#000000; stroke-width:4; stroke-opacity:1; fill:none\" points=\"\n  247.846,1846.96 2223.18,1846.96 \n  \"/>\n<polyline clip-path=\"url(#clip8600)\" style=\"stroke:#000000; stroke-width:4; stroke-opacity:1; fill:none\" points=\"\n  247.846,1846.96 247.846,94.4295 \n  \"/>\n<polyline clip-path=\"url(#clip8600)\" style=\"stroke:#000000; stroke-width:4; stroke-opacity:1; fill:none\" points=\"\n  303.751,1846.96 303.751,1825.93 \n  \"/>\n<polyline clip-path=\"url(#clip8600)\" style=\"stroke:#000000; stroke-width:4; stroke-opacity:1; fill:none\" points=\"\n  769.633,1846.96 769.633,1825.93 \n  \"/>\n<polyline clip-path=\"url(#clip8600)\" style=\"stroke:#000000; stroke-width:4; stroke-opacity:1; fill:none\" points=\"\n  1235.51,1846.96 1235.51,1825.93 \n  \"/>\n<polyline clip-path=\"url(#clip8600)\" style=\"stroke:#000000; stroke-width:4; stroke-opacity:1; fill:none\" points=\"\n  1701.4,1846.96 1701.4,1825.93 \n  \"/>\n<polyline clip-path=\"url(#clip8600)\" style=\"stroke:#000000; stroke-width:4; stroke-opacity:1; fill:none\" points=\"\n  2167.28,1846.96 2167.28,1825.93 \n  \"/>\n<polyline clip-path=\"url(#clip8600)\" style=\"stroke:#000000; stroke-width:4; stroke-opacity:1; fill:none\" points=\"\n  247.846,1797.36 271.55,1797.36 \n  \"/>\n<polyline clip-path=\"url(#clip8600)\" style=\"stroke:#000000; stroke-width:4; stroke-opacity:1; fill:none\" points=\"\n  247.846,1384.03 271.55,1384.03 \n  \"/>\n<polyline clip-path=\"url(#clip8600)\" style=\"stroke:#000000; stroke-width:4; stroke-opacity:1; fill:none\" points=\"\n  247.846,970.694 271.55,970.694 \n  \"/>\n<polyline clip-path=\"url(#clip8600)\" style=\"stroke:#000000; stroke-width:4; stroke-opacity:1; fill:none\" points=\"\n  247.846,557.362 271.55,557.362 \n  \"/>\n<polyline clip-path=\"url(#clip8600)\" style=\"stroke:#000000; stroke-width:4; stroke-opacity:1; fill:none\" points=\"\n  247.846,144.029 271.55,144.029 \n  \"/>\n<g clip-path=\"url(#clip8600)\">\n<text style=\"fill:#000000; fill-opacity:1; font-family:Arial,Helvetica Neue,Helvetica,sans-serif; font-size:48px; text-anchor:middle;\" transform=\"rotate(0, 303.751, 1910.96)\" x=\"303.751\" y=\"1910.96\">0.00</text>\n</g>\n<g clip-path=\"url(#clip8600)\">\n<text style=\"fill:#000000; fill-opacity:1; font-family:Arial,Helvetica Neue,Helvetica,sans-serif; font-size:48px; text-anchor:middle;\" transform=\"rotate(0, 769.633, 1910.96)\" x=\"769.633\" y=\"1910.96\">0.25</text>\n</g>\n<g clip-path=\"url(#clip8600)\">\n<text style=\"fill:#000000; fill-opacity:1; font-family:Arial,Helvetica Neue,Helvetica,sans-serif; font-size:48px; text-anchor:middle;\" transform=\"rotate(0, 1235.51, 1910.96)\" x=\"1235.51\" y=\"1910.96\">0.50</text>\n</g>\n<g clip-path=\"url(#clip8600)\">\n<text style=\"fill:#000000; fill-opacity:1; font-family:Arial,Helvetica Neue,Helvetica,sans-serif; font-size:48px; text-anchor:middle;\" transform=\"rotate(0, 1701.4, 1910.96)\" x=\"1701.4\" y=\"1910.96\">0.75</text>\n</g>\n<g clip-path=\"url(#clip8600)\">\n<text style=\"fill:#000000; fill-opacity:1; font-family:Arial,Helvetica Neue,Helvetica,sans-serif; font-size:48px; text-anchor:middle;\" transform=\"rotate(0, 2167.28, 1910.96)\" x=\"2167.28\" y=\"1910.96\">1.00</text>\n</g>\n<g clip-path=\"url(#clip8600)\">\n<text style=\"fill:#000000; fill-opacity:1; font-family:Arial,Helvetica Neue,Helvetica,sans-serif; font-size:48px; text-anchor:end;\" transform=\"rotate(0, 203.846, 1814.86)\" x=\"203.846\" y=\"1814.86\">0.00</text>\n</g>\n<g clip-path=\"url(#clip8600)\">\n<text style=\"fill:#000000; fill-opacity:1; font-family:Arial,Helvetica Neue,Helvetica,sans-serif; font-size:48px; text-anchor:end;\" transform=\"rotate(0, 203.846, 1401.53)\" x=\"203.846\" y=\"1401.53\">0.25</text>\n</g>\n<g clip-path=\"url(#clip8600)\">\n<text style=\"fill:#000000; fill-opacity:1; font-family:Arial,Helvetica Neue,Helvetica,sans-serif; font-size:48px; text-anchor:end;\" transform=\"rotate(0, 203.846, 988.194)\" x=\"203.846\" y=\"988.194\">0.50</text>\n</g>\n<g clip-path=\"url(#clip8600)\">\n<text style=\"fill:#000000; fill-opacity:1; font-family:Arial,Helvetica Neue,Helvetica,sans-serif; font-size:48px; text-anchor:end;\" transform=\"rotate(0, 203.846, 574.862)\" x=\"203.846\" y=\"574.862\">0.75</text>\n</g>\n<g clip-path=\"url(#clip8600)\">\n<text style=\"fill:#000000; fill-opacity:1; font-family:Arial,Helvetica Neue,Helvetica,sans-serif; font-size:48px; text-anchor:end;\" transform=\"rotate(0, 203.846, 161.529)\" x=\"203.846\" y=\"161.529\">1.00</text>\n</g>\n<polyline clip-path=\"url(#clip8602)\" style=\"stroke:#000000; stroke-width:4; stroke-opacity:1; fill:none\" points=\"\n  247.846,94.4295 2223.18,94.4295 \n  \"/>\n<polyline clip-path=\"url(#clip8602)\" style=\"stroke:#000000; stroke-width:4; stroke-opacity:1; fill:none\" points=\"\n  2223.18,1846.96 2223.18,94.4295 \n  \"/>\n<g clip-path=\"url(#clip8600)\">\n<text style=\"fill:#000000; fill-opacity:1; font-family:Arial,Helvetica Neue,Helvetica,sans-serif; font-size:66px; text-anchor:end;\" transform=\"rotate(0, 2223.18, 57.6)\" x=\"2223.18\" y=\"57.6\">4-Level System Rate Equations -- Solution</text>\n</g>\n<g clip-path=\"url(#clip8600)\">\n<text style=\"fill:#000000; fill-opacity:1; font-family:Arial,Helvetica Neue,Helvetica,sans-serif; font-size:66px; text-anchor:middle;\" transform=\"rotate(0, 1235.51, 2000.82)\" x=\"1235.51\" y=\"2000.82\">Time</text>\n</g>\n<g clip-path=\"url(#clip8600)\">\n<text style=\"fill:#000000; fill-opacity:1; font-family:Arial,Helvetica Neue,Helvetica,sans-serif; font-size:66px; text-anchor:middle;\" transform=\"rotate(-90, 54.6154, 970.694)\" x=\"54.6154\" y=\"970.694\">Level populations</text>\n</g>\n<path clip-path=\"url(#clip8600)\" d=\"\nM1589.67 600.349 L2091.18 600.349 L2091.18 297.949 L1589.67 297.949  Z\n  \" fill=\"#ffffff\" fill-rule=\"evenodd\" fill-opacity=\"1\"/>\n<polyline clip-path=\"url(#clip8600)\" style=\"stroke:#000000; stroke-width:4; stroke-opacity:1; fill:none\" points=\"\n  1589.67,600.349 2091.18,600.349 2091.18,297.949 1589.67,297.949 1589.67,600.349 \n  \"/>\n<polyline clip-path=\"url(#clip8600)\" style=\"stroke:#009af9; stroke-width:8; stroke-opacity:1; fill:none\" points=\"\n  1633.67,358.429 1897.67,358.429 \n  \"/>\n<g clip-path=\"url(#clip8600)\">\n<text style=\"fill:#000000; fill-opacity:1; font-family:Arial,Helvetica Neue,Helvetica,sans-serif; font-size:48px; text-anchor:start;\" transform=\"rotate(0, 1941.67, 375.929)\" x=\"1941.67\" y=\"375.929\">N1</text>\n</g>\n<polyline clip-path=\"url(#clip8600)\" style=\"stroke:#e26f46; stroke-width:8; stroke-opacity:1; fill:none\" points=\"\n  1633.67,418.909 1897.67,418.909 \n  \"/>\n<g clip-path=\"url(#clip8600)\">\n<text style=\"fill:#000000; fill-opacity:1; font-family:Arial,Helvetica Neue,Helvetica,sans-serif; font-size:48px; text-anchor:start;\" transform=\"rotate(0, 1941.67, 436.409)\" x=\"1941.67\" y=\"436.409\">N2</text>\n</g>\n<polyline clip-path=\"url(#clip8600)\" style=\"stroke:#3da44d; stroke-width:8; stroke-opacity:1; fill:none\" points=\"\n  1633.67,479.389 1897.67,479.389 \n  \"/>\n<g clip-path=\"url(#clip8600)\">\n<text style=\"fill:#000000; fill-opacity:1; font-family:Arial,Helvetica Neue,Helvetica,sans-serif; font-size:48px; text-anchor:start;\" transform=\"rotate(0, 1941.67, 496.889)\" x=\"1941.67\" y=\"496.889\">N3</text>\n</g>\n<polyline clip-path=\"url(#clip8600)\" style=\"stroke:#c271d2; stroke-width:8; stroke-opacity:1; fill:none\" points=\"\n  1633.67,539.869 1897.67,539.869 \n  \"/>\n<g clip-path=\"url(#clip8600)\">\n<text style=\"fill:#000000; fill-opacity:1; font-family:Arial,Helvetica Neue,Helvetica,sans-serif; font-size:48px; text-anchor:start;\" transform=\"rotate(0, 1941.67, 557.369)\" x=\"1941.67\" y=\"557.369\">N4</text>\n</g>\n<path clip-path=\"url(#clip8600)\" d=\"\nM2377.42 1846.96 L4352.76 1846.96 L4352.76 94.4295 L2377.42 94.4295  Z\n  \" fill=\"#ffffff\" fill-rule=\"evenodd\" fill-opacity=\"1\"/>\n<defs>\n  <clipPath id=\"clip8603\">\n    <rect x=\"2377\" y=\"94\" width=\"1976\" height=\"1754\"/>\n  </clipPath>\n</defs>\n<polyline clip-path=\"url(#clip8603)\" style=\"stroke:#000000; stroke-width:2; stroke-opacity:0.1; fill:none\" points=\"\n  2743.91,1846.96 2743.91,94.4295 \n  \"/>\n<polyline clip-path=\"url(#clip8603)\" style=\"stroke:#000000; stroke-width:2; stroke-opacity:0.1; fill:none\" points=\"\n  3365.09,1846.96 3365.09,94.4295 \n  \"/>\n<polyline clip-path=\"url(#clip8603)\" style=\"stroke:#000000; stroke-width:2; stroke-opacity:0.1; fill:none\" points=\"\n  3986.26,1846.96 3986.26,94.4295 \n  \"/>\n<polyline clip-path=\"url(#clip8600)\" style=\"stroke:#000000; stroke-width:4; stroke-opacity:1; fill:none\" points=\"\n  2377.42,1846.96 4352.76,1846.96 \n  \"/>\n<polyline clip-path=\"url(#clip8600)\" style=\"stroke:#000000; stroke-width:4; stroke-opacity:1; fill:none\" points=\"\n  2377.42,1846.96 2377.42,94.4295 \n  \"/>\n<polyline clip-path=\"url(#clip8600)\" style=\"stroke:#000000; stroke-width:4; stroke-opacity:1; fill:none\" points=\"\n  2743.91,1846.96 2743.91,1825.93 \n  \"/>\n<polyline clip-path=\"url(#clip8600)\" style=\"stroke:#000000; stroke-width:4; stroke-opacity:1; fill:none\" points=\"\n  3365.09,1846.96 3365.09,1825.93 \n  \"/>\n<polyline clip-path=\"url(#clip8600)\" style=\"stroke:#000000; stroke-width:4; stroke-opacity:1; fill:none\" points=\"\n  3986.26,1846.96 3986.26,1825.93 \n  \"/>\n<g clip-path=\"url(#clip8600)\">\n<text style=\"fill:#000000; fill-opacity:1; font-family:Arial,Helvetica Neue,Helvetica,sans-serif; font-size:48px; text-anchor:middle;\" transform=\"rotate(0, 2743.91, 1910.96)\" x=\"2743.91\" y=\"1910.96\">N1</text>\n</g>\n<g clip-path=\"url(#clip8600)\">\n<text style=\"fill:#000000; fill-opacity:1; font-family:Arial,Helvetica Neue,Helvetica,sans-serif; font-size:48px; text-anchor:middle;\" transform=\"rotate(0, 3365.09, 1910.96)\" x=\"3365.09\" y=\"1910.96\">N4</text>\n</g>\n<g clip-path=\"url(#clip8600)\">\n<text style=\"fill:#000000; fill-opacity:1; font-family:Arial,Helvetica Neue,Helvetica,sans-serif; font-size:48px; text-anchor:middle;\" transform=\"rotate(0, 3986.26, 1910.96)\" x=\"3986.26\" y=\"1910.96\">N2|N3</text>\n</g>\n<polyline clip-path=\"url(#clip8603)\" style=\"stroke:#000000; stroke-width:4; stroke-opacity:1; fill:none\" points=\"\n  2377.42,94.4295 4352.76,94.4295 \n  \"/>\n<polyline clip-path=\"url(#clip8603)\" style=\"stroke:#000000; stroke-width:4; stroke-opacity:1; fill:none\" points=\"\n  4352.76,1846.96 4352.76,94.4295 \n  \"/>\n<path clip-path=\"url(#clip8603)\" d=\"\nM2433.32 1474.96 L3054.5 1474.96 L3054.5 1458.43 L2433.32 1458.43 L2433.32 1474.96  Z\n  \" fill=\"#0000ff\" fill-rule=\"evenodd\" fill-opacity=\"1\"/>\n<polyline clip-path=\"url(#clip8603)\" style=\"stroke:#000000; stroke-width:4; stroke-opacity:1; fill:none\" points=\"\n  2433.32,1474.96 3054.5,1474.96 3054.5,1458.43 2433.32,1458.43 2433.32,1474.96 \n  \"/>\n<path clip-path=\"url(#clip8603)\" d=\"\nM3675.67 1144.29 L4296.85 1144.29 L4296.85 1127.76 L3675.67 1127.76 L3675.67 1144.29  Z\n  \" fill=\"#ff0000\" fill-rule=\"evenodd\" fill-opacity=\"1\"/>\n<polyline clip-path=\"url(#clip8603)\" style=\"stroke:#000000; stroke-width:4; stroke-opacity:1; fill:none\" points=\"\n  3675.67,1144.29 4296.85,1144.29 4296.85,1127.76 3675.67,1127.76 3675.67,1144.29 \n  \"/>\n<path clip-path=\"url(#clip8603)\" d=\"\nM3675.67 813.628 L4296.85 813.628 L4296.85 797.095 L3675.67 797.095 L3675.67 813.628  Z\n  \" fill=\"#008000\" fill-rule=\"evenodd\" fill-opacity=\"1\"/>\n<polyline clip-path=\"url(#clip8603)\" style=\"stroke:#000000; stroke-width:4; stroke-opacity:1; fill:none\" points=\"\n  3675.67,813.628 4296.85,813.628 4296.85,797.095 3675.67,797.095 3675.67,813.628 \n  \"/>\n<path clip-path=\"url(#clip8603)\" d=\"\nM3054.5 482.962 L3675.67 482.962 L3675.67 466.429 L3054.5 466.429 L3054.5 482.962  Z\n  \" fill=\"#a52a2a\" fill-rule=\"evenodd\" fill-opacity=\"1\"/>\n<polyline clip-path=\"url(#clip8603)\" style=\"stroke:#000000; stroke-width:4; stroke-opacity:1; fill:none\" points=\"\n  3054.5,482.962 3675.67,482.962 3675.67,466.429 3054.5,466.429 3054.5,482.962 \n  \"/>\n<path clip-path=\"url(#clip8603)\" d=\"\nM2433.32 1797.36 L4296.85 1797.36 L4296.85 144.029 L2433.32 144.029 L2433.32 1797.36  Z\n  \" fill=\"#ffffff\" fill-rule=\"evenodd\" fill-opacity=\"0\"/>\n<polyline clip-path=\"url(#clip8603)\" style=\"stroke:#000000; stroke-width:0; stroke-opacity:1; fill:none\" points=\"\n  2433.32,1797.36 4296.85,1797.36 4296.85,144.029 2433.32,144.029 2433.32,1797.36 \n  \"/>\n<path clip-path=\"url(#clip8603)\" d=\"\nM2681.79 1458.43 L2806.03 1458.43 L2806.03 1153.47 L2681.79 1153.47 L2681.79 1458.43  Z\n  \" fill=\"#0000ff\" fill-rule=\"evenodd\" fill-opacity=\"0.5\"/>\n<polyline clip-path=\"url(#clip8603)\" style=\"stroke:#000000; stroke-width:4; stroke-opacity:1; fill:none\" points=\"\n  2681.79,1458.43 2806.03,1458.43 2806.03,1153.47 2681.79,1153.47 2681.79,1458.43 \n  \"/>\n<path clip-path=\"url(#clip8603)\" d=\"\nM3924.15 1127.76 L4048.38 1127.76 L4048.38 1127.76 L3924.15 1127.76 L3924.15 1127.76  Z\n  \" fill=\"#ff0000\" fill-rule=\"evenodd\" fill-opacity=\"0.5\"/>\n<polyline clip-path=\"url(#clip8603)\" style=\"stroke:#000000; stroke-width:4; stroke-opacity:1; fill:none\" points=\"\n  3924.15,1127.76 4048.38,1127.76 4048.38,1127.76 3924.15,1127.76 3924.15,1127.76 \n  \"/>\n<path clip-path=\"url(#clip8603)\" d=\"\nM3924.15 797.095 L4048.38 797.095 L4048.38 796.413 L3924.15 796.413 L3924.15 797.095  Z\n  \" fill=\"#008000\" fill-rule=\"evenodd\" fill-opacity=\"0.5\"/>\n<polyline clip-path=\"url(#clip8603)\" style=\"stroke:#000000; stroke-width:4; stroke-opacity:1; fill:none\" points=\"\n  3924.15,797.095 4048.38,797.095 4048.38,796.413 3924.15,796.413 3924.15,797.095 \n  \"/>\n<path clip-path=\"url(#clip8603)\" d=\"\nM3302.97 466.429 L3427.2 466.429 L3427.2 441.402 L3302.97 441.402 L3302.97 466.429  Z\n  \" fill=\"#a52a2a\" fill-rule=\"evenodd\" fill-opacity=\"0.5\"/>\n<polyline clip-path=\"url(#clip8603)\" style=\"stroke:#000000; stroke-width:4; stroke-opacity:1; fill:none\" points=\"\n  3302.97,466.429 3427.2,466.429 3427.2,441.402 3302.97,441.402 3302.97,466.429 \n  \"/>\n</svg>\n"
               },
               "type": "node"
              }
             ],
             "instanceArgs": {
              "namespace": "html",
              "tag": "div"
             },
             "nodeType": "DOM",
             "props": {
              "className": "interact-flex-row interact-widget"
             },
             "type": "node"
            }
           }
          },
          "systemjs_options": null
         },
         "nodeType": "Scope",
         "props": {},
         "type": "node"
        }
       ],
       "instanceArgs": {
        "namespace": "html",
        "tag": "div"
       },
       "nodeType": "DOM",
       "props": {},
       "type": "node"
      },
      "text/html": [
       "<div\n",
       "    class=\"webio-mountpoint\"\n",
       "    data-webio-mountpoint=\"8934256170842206247\"\n",
       ">\n",
       "    <script>\n",
       "    if (window.require && require.defined && require.defined(\"nbextensions/webio-jupyter-notebook\")) {\n",
       "        console.log(\"Jupyter WebIO extension detected, not mounting.\");\n",
       "    } else if (window.WebIO) {\n",
       "        WebIO.mount(\n",
       "            document.querySelector('[data-webio-mountpoint=\"8934256170842206247\"]'),\n",
       "            {\"props\":{},\"nodeType\":\"DOM\",\"type\":\"node\",\"instanceArgs\":{\"namespace\":\"html\",\"tag\":\"div\"},\"children\":[{\"props\":{\"className\":\"field interact-widget\"},\"nodeType\":\"DOM\",\"type\":\"node\",\"instanceArgs\":{\"namespace\":\"html\",\"tag\":\"div\"},\"children\":[{\"props\":{},\"nodeType\":\"Scope\",\"type\":\"node\",\"instanceArgs\":{\"imports\":{\"data\":[{\"name\":\"knockout\",\"type\":\"js\",\"url\":\"\\/assetserver\\/58532c656e5c3ea95bc9e6ba08f6e0bbf64f3349-knockout.js\"},{\"name\":\"knockout_punches\",\"type\":\"js\",\"url\":\"\\/assetserver\\/97167f822e98661cc85dd010a2419f4651aeb9c6-knockout_punches.js\"},{\"name\":null,\"type\":\"js\",\"url\":\"\\/assetserver\\/c7daed194cd9e562afee3f059fad5f8587c42456-all.js\"},{\"name\":null,\"type\":\"css\",\"url\":\"\\/assetserver\\/3f97f38d83fe3be07cf18967ab9d3b51834c3353-style.css\"},{\"name\":null,\"type\":\"css\",\"url\":\"\\/assetserver\\/075c8efb747833dacc2bae1590f31f6a06a5b55a-bulma_confined.min.css\"}],\"type\":\"async_block\"},\"id\":\"434744520325907643\",\"handlers\":{\"changes\":[\"(function (val){return (val!=this.model[\\\"changes\\\"]()) ? (this.valueFromJulia[\\\"changes\\\"]=true, this.model[\\\"changes\\\"](val)) : undefined})\"],\"index\":[\"(function (val){return (val!=this.model[\\\"index\\\"]()) ? (this.valueFromJulia[\\\"index\\\"]=true, this.model[\\\"index\\\"](val)) : undefined})\"]},\"systemjs_options\":null,\"mount_callbacks\":[\"function () {\\n    var handler = (function (ko, koPunches) {\\n    ko.punches.enableAll();\\n    ko.bindingHandlers.numericValue = {\\n        init: function(element, valueAccessor, allBindings, data, context) {\\n            var stringified = ko.observable(ko.unwrap(valueAccessor()));\\n            stringified.subscribe(function(value) {\\n                var val = parseFloat(value);\\n                if (!isNaN(val)) {\\n                    valueAccessor()(val);\\n                }\\n            });\\n            valueAccessor().subscribe(function(value) {\\n                var str = JSON.stringify(value);\\n                if ((str == \\\"0\\\") && ([\\\"-0\\\", \\\"-0.\\\"].indexOf(stringified()) >= 0))\\n                     return;\\n                 if ([\\\"null\\\", \\\"\\\"].indexOf(str) >= 0)\\n                     return;\\n                stringified(str);\\n            });\\n            ko.applyBindingsToNode(\\n                element,\\n                {\\n                    value: stringified,\\n                    valueUpdate: allBindings.get('valueUpdate'),\\n                },\\n                context,\\n            );\\n        }\\n    };\\n    var json_data = {\\\"formatted_vals\\\":[\\\"1\\\",\\\"2\\\",\\\"3\\\",\\\"4\\\",\\\"5\\\",\\\"6\\\",\\\"7\\\",\\\"8\\\",\\\"9\\\",\\\"10\\\",\\\"11\\\",\\\"12\\\",\\\"13\\\",\\\"14\\\",\\\"15\\\",\\\"16\\\",\\\"17\\\",\\\"18\\\",\\\"19\\\",\\\"20\\\",\\\"21\\\",\\\"22\\\",\\\"23\\\",\\\"24\\\",\\\"25\\\",\\\"26\\\",\\\"27\\\",\\\"28\\\",\\\"29\\\",\\\"30\\\",\\\"31\\\",\\\"32\\\",\\\"33\\\",\\\"34\\\",\\\"35\\\",\\\"36\\\",\\\"37\\\",\\\"38\\\",\\\"39\\\",\\\"40\\\",\\\"41\\\",\\\"42\\\",\\\"43\\\",\\\"44\\\",\\\"45\\\",\\\"46\\\",\\\"47\\\",\\\"48\\\",\\\"49\\\",\\\"50\\\",\\\"51\\\",\\\"52\\\",\\\"53\\\",\\\"54\\\",\\\"55\\\",\\\"56\\\",\\\"57\\\",\\\"58\\\",\\\"59\\\",\\\"60\\\",\\\"61\\\",\\\"62\\\",\\\"63\\\",\\\"64\\\",\\\"65\\\",\\\"66\\\",\\\"67\\\",\\\"68\\\",\\\"69\\\",\\\"70\\\",\\\"71\\\",\\\"72\\\",\\\"73\\\",\\\"74\\\",\\\"75\\\",\\\"76\\\",\\\"77\\\",\\\"78\\\",\\\"79\\\",\\\"80\\\",\\\"81\\\",\\\"82\\\",\\\"83\\\",\\\"84\\\",\\\"85\\\",\\\"86\\\",\\\"87\\\",\\\"88\\\",\\\"89\\\",\\\"90\\\",\\\"91\\\",\\\"92\\\",\\\"93\\\",\\\"94\\\",\\\"95\\\",\\\"96\\\",\\\"97\\\",\\\"98\\\",\\\"99\\\",\\\"100\\\",\\\"101\\\",\\\"102\\\",\\\"103\\\",\\\"104\\\",\\\"105\\\",\\\"106\\\",\\\"107\\\",\\\"108\\\",\\\"109\\\",\\\"110\\\",\\\"111\\\",\\\"112\\\",\\\"113\\\",\\\"114\\\",\\\"115\\\",\\\"116\\\",\\\"117\\\",\\\"118\\\",\\\"119\\\",\\\"120\\\",\\\"121\\\"],\\\"changes\\\":WebIO.getval({\\\"name\\\":\\\"changes\\\",\\\"scope\\\":\\\"434744520325907643\\\",\\\"id\\\":\\\"ob_66\\\",\\\"type\\\":\\\"observable\\\"}),\\\"index\\\":WebIO.getval({\\\"name\\\":\\\"index\\\",\\\"scope\\\":\\\"434744520325907643\\\",\\\"id\\\":\\\"ob_65\\\",\\\"type\\\":\\\"observable\\\"})};\\n    var self = this;\\n    function AppViewModel() {\\n        for (var key in json_data) {\\n            var el = json_data[key];\\n            this[key] = Array.isArray(el) ? ko.observableArray(el) : ko.observable(el);\\n        }\\n        \\n        [this[\\\"formatted_val\\\"]=ko.computed(    function(){\\n        return this.formatted_vals()[parseInt(this.index())-(1)];\\n    }\\n,this)]\\n        [this[\\\"changes\\\"].subscribe((function (val){!(this.valueFromJulia[\\\"changes\\\"]) ? (WebIO.setval({\\\"name\\\":\\\"changes\\\",\\\"scope\\\":\\\"434744520325907643\\\",\\\"id\\\":\\\"ob_66\\\",\\\"type\\\":\\\"observable\\\"},val)) : undefined; return this.valueFromJulia[\\\"changes\\\"]=false}),self),this[\\\"index\\\"].subscribe((function (val){!(this.valueFromJulia[\\\"index\\\"]) ? (WebIO.setval({\\\"name\\\":\\\"index\\\",\\\"scope\\\":\\\"434744520325907643\\\",\\\"id\\\":\\\"ob_65\\\",\\\"type\\\":\\\"observable\\\"},val)) : undefined; return this.valueFromJulia[\\\"index\\\"]=false}),self)]\\n        \\n    }\\n    self.model = new AppViewModel();\\n    self.valueFromJulia = {};\\n    for (var key in json_data) {\\n        self.valueFromJulia[key] = false;\\n    }\\n    ko.applyBindings(self.model, self.dom);\\n}\\n);\\n    (WebIO.importBlock({\\\"data\\\":[{\\\"name\\\":\\\"knockout\\\",\\\"type\\\":\\\"js\\\",\\\"url\\\":\\\"\\/assetserver\\/58532c656e5c3ea95bc9e6ba08f6e0bbf64f3349-knockout.js\\\"},{\\\"name\\\":\\\"knockout_punches\\\",\\\"type\\\":\\\"js\\\",\\\"url\\\":\\\"\\/assetserver\\/97167f822e98661cc85dd010a2419f4651aeb9c6-knockout_punches.js\\\"}],\\\"type\\\":\\\"async_block\\\"})).then((imports) => handler.apply(this, imports));\\n}\\n\"],\"observables\":{\"changes\":{\"sync\":false,\"id\":\"ob_66\",\"value\":0},\"index\":{\"sync\":true,\"id\":\"ob_65\",\"value\":1}}},\"children\":[{\"props\":{\"className\":\"interact-flex-row interact-widget\"},\"nodeType\":\"DOM\",\"type\":\"node\",\"instanceArgs\":{\"namespace\":\"html\",\"tag\":\"div\"},\"children\":[{\"props\":{\"className\":\"interact-flex-row-left\"},\"nodeType\":\"DOM\",\"type\":\"node\",\"instanceArgs\":{\"namespace\":\"html\",\"tag\":\"div\"},\"children\":[{\"props\":{\"className\":\"interact \",\"style\":{\"padding\":\"5px 10px 0px 10px\"}},\"nodeType\":\"DOM\",\"type\":\"node\",\"instanceArgs\":{\"namespace\":\"html\",\"tag\":\"label\"},\"children\":[\"Time\"]}]},{\"props\":{\"className\":\"interact-flex-row-center\"},\"nodeType\":\"DOM\",\"type\":\"node\",\"instanceArgs\":{\"namespace\":\"html\",\"tag\":\"div\"},\"children\":[{\"props\":{\"max\":121,\"min\":1,\"attributes\":{\"type\":\"range\",\"data-bind\":\"numericValue: index, valueUpdate: 'input', event: {change: function (){this.changes(this.changes()+1)}}\",\"orient\":\"horizontal\"},\"step\":1,\"className\":\"slider slider is-fullwidth\",\"style\":{}},\"nodeType\":\"DOM\",\"type\":\"node\",\"instanceArgs\":{\"namespace\":\"html\",\"tag\":\"input\"},\"children\":[]}]},{\"props\":{\"className\":\"interact-flex-row-right\"},\"nodeType\":\"DOM\",\"type\":\"node\",\"instanceArgs\":{\"namespace\":\"html\",\"tag\":\"div\"},\"children\":[{\"props\":{\"attributes\":{\"data-bind\":\"text: formatted_val\"}},\"nodeType\":\"DOM\",\"type\":\"node\",\"instanceArgs\":{\"namespace\":\"html\",\"tag\":\"p\"},\"children\":[]}]}]}]}]},{\"props\":{},\"nodeType\":\"Scope\",\"type\":\"node\",\"instanceArgs\":{\"imports\":{\"data\":[],\"type\":\"async_block\"},\"id\":\"12469010748453903452\",\"handlers\":{},\"systemjs_options\":null,\"mount_callbacks\":[],\"observables\":{\"obs-node\":{\"sync\":false,\"id\":\"ob_70\",\"value\":{\"props\":{\"className\":\"interact-flex-row interact-widget\"},\"nodeType\":\"DOM\",\"type\":\"node\",\"instanceArgs\":{\"namespace\":\"html\",\"tag\":\"div\"},\"children\":[{\"props\":{\"setInnerHtml\":\"<?xml version=\\\"1.0\\\" encoding=\\\"utf-8\\\"?>\\n<svg xmlns=\\\"http:\\/\\/www.w3.org\\/2000\\/svg\\\" xmlns:xlink=\\\"http:\\/\\/www.w3.org\\/1999\\/xlink\\\" width=\\\"1100\\\" height=\\\"500\\\" viewBox=\\\"0 0 4400 2000\\\">\\n<defs>\\n  <clipPath id=\\\"clip8200\\\">\\n    <rect x=\\\"0\\\" y=\\\"0\\\" width=\\\"4400\\\" height=\\\"2000\\\"\\/>\\n  <\\/clipPath>\\n<\\/defs>\\n<path clip-path=\\\"url(#clip8200)\\\" d=\\\"\\nM0 2000 L4400 2000 L4400 0 L0 0  Z\\n  \\\" fill=\\\"#ffffff\\\" fill-rule=\\\"evenodd\\\" fill-opacity=\\\"1\\\"\\/>\\n<defs>\\n  <clipPath id=\\\"clip8201\\\">\\n    <rect x=\\\"880\\\" y=\\\"0\\\" width=\\\"3081\\\" height=\\\"2000\\\"\\/>\\n  <\\/clipPath>\\n<\\/defs>\\n<path clip-path=\\\"url(#clip8200)\\\" d=\\\"\\nM247.846 1846.96 L2223.18 1846.96 L2223.18 94.4295 L247.846 94.4295  Z\\n  \\\" fill=\\\"#ffffff\\\" fill-rule=\\\"evenodd\\\" fill-opacity=\\\"1\\\"\\/>\\n<defs>\\n  <clipPath id=\\\"clip8202\\\">\\n    <rect x=\\\"247\\\" y=\\\"94\\\" width=\\\"1976\\\" height=\\\"1754\\\"\\/>\\n  <\\/clipPath>\\n<\\/defs>\\n<polyline clip-path=\\\"url(#clip8202)\\\" style=\\\"stroke:#000000; stroke-width:2; stroke-opacity:0.1; fill:none\\\" points=\\\"\\n  303.751,1846.96 303.751,94.4295 \\n  \\\"\\/>\\n<polyline clip-path=\\\"url(#clip8202)\\\" style=\\\"stroke:#000000; stroke-width:2; stroke-opacity:0.1; fill:none\\\" points=\\\"\\n  769.633,1846.96 769.633,94.4295 \\n  \\\"\\/>\\n<polyline clip-path=\\\"url(#clip8202)\\\" style=\\\"stroke:#000000; stroke-width:2; stroke-opacity:0.1; fill:none\\\" points=\\\"\\n  1235.51,1846.96 1235.51,94.4295 \\n  \\\"\\/>\\n<polyline clip-path=\\\"url(#clip8202)\\\" style=\\\"stroke:#000000; stroke-width:2; stroke-opacity:0.1; fill:none\\\" points=\\\"\\n  1701.4,1846.96 1701.4,94.4295 \\n  \\\"\\/>\\n<polyline clip-path=\\\"url(#clip8202)\\\" style=\\\"stroke:#000000; stroke-width:2; stroke-opacity:0.1; fill:none\\\" points=\\\"\\n  2167.28,1846.96 2167.28,94.4295 \\n  \\\"\\/>\\n<polyline clip-path=\\\"url(#clip8202)\\\" style=\\\"stroke:#000000; stroke-width:2; stroke-opacity:0.1; fill:none\\\" points=\\\"\\n  247.846,1797.36 2223.18,1797.36 \\n  \\\"\\/>\\n<polyline clip-path=\\\"url(#clip8202)\\\" style=\\\"stroke:#000000; stroke-width:2; stroke-opacity:0.1; fill:none\\\" points=\\\"\\n  247.846,1384.03 2223.18,1384.03 \\n  \\\"\\/>\\n<polyline clip-path=\\\"url(#clip8202)\\\" style=\\\"stroke:#000000; stroke-width:2; stroke-opacity:0.1; fill:none\\\" points=\\\"\\n  247.846,970.694 2223.18,970.694 \\n  \\\"\\/>\\n<polyline clip-path=\\\"url(#clip8202)\\\" style=\\\"stroke:#000000; stroke-width:2; stroke-opacity:0.1; fill:none\\\" points=\\\"\\n  247.846,557.362 2223.18,557.362 \\n  \\\"\\/>\\n<polyline clip-path=\\\"url(#clip8202)\\\" style=\\\"stroke:#000000; stroke-width:2; stroke-opacity:0.1; fill:none\\\" points=\\\"\\n  247.846,144.029 2223.18,144.029 \\n  \\\"\\/>\\n<polyline clip-path=\\\"url(#clip8200)\\\" style=\\\"stroke:#000000; stroke-width:4; stroke-opacity:1; fill:none\\\" points=\\\"\\n  247.846,1846.96 2223.18,1846.96 \\n  \\\"\\/>\\n<polyline clip-path=\\\"url(#clip8200)\\\" style=\\\"stroke:#000000; stroke-width:4; stroke-opacity:1; fill:none\\\" points=\\\"\\n  247.846,1846.96 247.846,94.4295 \\n  \\\"\\/>\\n<polyline clip-path=\\\"url(#clip8200)\\\" style=\\\"stroke:#000000; stroke-width:4; stroke-opacity:1; fill:none\\\" points=\\\"\\n  303.751,1846.96 303.751,1825.93 \\n  \\\"\\/>\\n<polyline clip-path=\\\"url(#clip8200)\\\" style=\\\"stroke:#000000; stroke-width:4; stroke-opacity:1; fill:none\\\" points=\\\"\\n  769.633,1846.96 769.633,1825.93 \\n  \\\"\\/>\\n<polyline clip-path=\\\"url(#clip8200)\\\" style=\\\"stroke:#000000; stroke-width:4; stroke-opacity:1; fill:none\\\" points=\\\"\\n  1235.51,1846.96 1235.51,1825.93 \\n  \\\"\\/>\\n<polyline clip-path=\\\"url(#clip8200)\\\" style=\\\"stroke:#000000; stroke-width:4; stroke-opacity:1; fill:none\\\" points=\\\"\\n  1701.4,1846.96 1701.4,1825.93 \\n  \\\"\\/>\\n<polyline clip-path=\\\"url(#clip8200)\\\" style=\\\"stroke:#000000; stroke-width:4; stroke-opacity:1; fill:none\\\" points=\\\"\\n  2167.28,1846.96 2167.28,1825.93 \\n  \\\"\\/>\\n<polyline clip-path=\\\"url(#clip8200)\\\" style=\\\"stroke:#000000; stroke-width:4; stroke-opacity:1; fill:none\\\" points=\\\"\\n  247.846,1797.36 271.55,1797.36 \\n  \\\"\\/>\\n<polyline clip-path=\\\"url(#clip8200)\\\" style=\\\"stroke:#000000; stroke-width:4; stroke-opacity:1; fill:none\\\" points=\\\"\\n  247.846,1384.03 271.55,1384.03 \\n  \\\"\\/>\\n<polyline clip-path=\\\"url(#clip8200)\\\" style=\\\"stroke:#000000; stroke-width:4; stroke-opacity:1; fill:none\\\" points=\\\"\\n  247.846,970.694 271.55,970.694 \\n  \\\"\\/>\\n<polyline clip-path=\\\"url(#clip8200)\\\" style=\\\"stroke:#000000; stroke-width:4; stroke-opacity:1; fill:none\\\" points=\\\"\\n  247.846,557.362 271.55,557.362 \\n  \\\"\\/>\\n<polyline clip-path=\\\"url(#clip8200)\\\" style=\\\"stroke:#000000; stroke-width:4; stroke-opacity:1; fill:none\\\" points=\\\"\\n  247.846,144.029 271.55,144.029 \\n  \\\"\\/>\\n<g clip-path=\\\"url(#clip8200)\\\">\\n<text style=\\\"fill:#000000; fill-opacity:1; font-family:Arial,Helvetica Neue,Helvetica,sans-serif; font-size:48px; text-anchor:middle;\\\" transform=\\\"rotate(0, 303.751, 1910.96)\\\" x=\\\"303.751\\\" y=\\\"1910.96\\\">0.00<\\/text>\\n<\\/g>\\n<g clip-path=\\\"url(#clip8200)\\\">\\n<text style=\\\"fill:#000000; fill-opacity:1; font-family:Arial,Helvetica Neue,Helvetica,sans-serif; font-size:48px; text-anchor:middle;\\\" transform=\\\"rotate(0, 769.633, 1910.96)\\\" x=\\\"769.633\\\" y=\\\"1910.96\\\">0.25<\\/text>\\n<\\/g>\\n<g clip-path=\\\"url(#clip8200)\\\">\\n<text style=\\\"fill:#000000; fill-opacity:1; font-family:Arial,Helvetica Neue,Helvetica,sans-serif; font-size:48px; text-anchor:middle;\\\" transform=\\\"rotate(0, 1235.51, 1910.96)\\\" x=\\\"1235.51\\\" y=\\\"1910.96\\\">0.50<\\/text>\\n<\\/g>\\n<g clip-path=\\\"url(#clip8200)\\\">\\n<text style=\\\"fill:#000000; fill-opacity:1; font-family:Arial,Helvetica Neue,Helvetica,sans-serif; font-size:48px; text-anchor:middle;\\\" transform=\\\"rotate(0, 1701.4, 1910.96)\\\" x=\\\"1701.4\\\" y=\\\"1910.96\\\">0.75<\\/text>\\n<\\/g>\\n<g clip-path=\\\"url(#clip8200)\\\">\\n<text style=\\\"fill:#000000; fill-opacity:1; font-family:Arial,Helvetica Neue,Helvetica,sans-serif; font-size:48px; text-anchor:middle;\\\" transform=\\\"rotate(0, 2167.28, 1910.96)\\\" x=\\\"2167.28\\\" y=\\\"1910.96\\\">1.00<\\/text>\\n<\\/g>\\n<g clip-path=\\\"url(#clip8200)\\\">\\n<text style=\\\"fill:#000000; fill-opacity:1; font-family:Arial,Helvetica Neue,Helvetica,sans-serif; font-size:48px; text-anchor:end;\\\" transform=\\\"rotate(0, 203.846, 1814.86)\\\" x=\\\"203.846\\\" y=\\\"1814.86\\\">0.00<\\/text>\\n<\\/g>\\n<g clip-path=\\\"url(#clip8200)\\\">\\n<text style=\\\"fill:#000000; fill-opacity:1; font-family:Arial,Helvetica Neue,Helvetica,sans-serif; font-size:48px; text-anchor:end;\\\" transform=\\\"rotate(0, 203.846, 1401.53)\\\" x=\\\"203.846\\\" y=\\\"1401.53\\\">0.25<\\/text>\\n<\\/g>\\n<g clip-path=\\\"url(#clip8200)\\\">\\n<text style=\\\"fill:#000000; fill-opacity:1; font-family:Arial,Helvetica Neue,Helvetica,sans-serif; font-size:48px; text-anchor:end;\\\" transform=\\\"rotate(0, 203.846, 988.194)\\\" x=\\\"203.846\\\" y=\\\"988.194\\\">0.50<\\/text>\\n<\\/g>\\n<g clip-path=\\\"url(#clip8200)\\\">\\n<text style=\\\"fill:#000000; fill-opacity:1; font-family:Arial,Helvetica Neue,Helvetica,sans-serif; font-size:48px; text-anchor:end;\\\" transform=\\\"rotate(0, 203.846, 574.862)\\\" x=\\\"203.846\\\" y=\\\"574.862\\\">0.75<\\/text>\\n<\\/g>\\n<g clip-path=\\\"url(#clip8200)\\\">\\n<text style=\\\"fill:#000000; fill-opacity:1; font-family:Arial,Helvetica Neue,Helvetica,sans-serif; font-size:48px; text-anchor:end;\\\" transform=\\\"rotate(0, 203.846, 161.529)\\\" x=\\\"203.846\\\" y=\\\"161.529\\\">1.00<\\/text>\\n<\\/g>\\n<polyline clip-path=\\\"url(#clip8202)\\\" style=\\\"stroke:#000000; stroke-width:4; stroke-opacity:1; fill:none\\\" points=\\\"\\n  247.846,94.4295 2223.18,94.4295 \\n  \\\"\\/>\\n<polyline clip-path=\\\"url(#clip8202)\\\" style=\\\"stroke:#000000; stroke-width:4; stroke-opacity:1; fill:none\\\" points=\\\"\\n  2223.18,1846.96 2223.18,94.4295 \\n  \\\"\\/>\\n<g clip-path=\\\"url(#clip8200)\\\">\\n<text style=\\\"fill:#000000; fill-opacity:1; font-family:Arial,Helvetica Neue,Helvetica,sans-serif; font-size:66px; text-anchor:end;\\\" transform=\\\"rotate(0, 2223.18, 57.6)\\\" x=\\\"2223.18\\\" y=\\\"57.6\\\">4-Level System Rate Equations -- Solution<\\/text>\\n<\\/g>\\n<g clip-path=\\\"url(#clip8200)\\\">\\n<text style=\\\"fill:#000000; fill-opacity:1; font-family:Arial,Helvetica Neue,Helvetica,sans-serif; font-size:66px; text-anchor:middle;\\\" transform=\\\"rotate(0, 1235.51, 2000.82)\\\" x=\\\"1235.51\\\" y=\\\"2000.82\\\">Time<\\/text>\\n<\\/g>\\n<g clip-path=\\\"url(#clip8200)\\\">\\n<text style=\\\"fill:#000000; fill-opacity:1; font-family:Arial,Helvetica Neue,Helvetica,sans-serif; font-size:66px; text-anchor:middle;\\\" transform=\\\"rotate(-90, 54.6154, 970.694)\\\" x=\\\"54.6154\\\" y=\\\"970.694\\\">Level populations<\\/text>\\n<\\/g>\\n<path clip-path=\\\"url(#clip8200)\\\" d=\\\"\\nM1589.67 600.349 L2091.18 600.349 L2091.18 297.949 L1589.67 297.949  Z\\n  \\\" fill=\\\"#ffffff\\\" fill-rule=\\\"evenodd\\\" fill-opacity=\\\"1\\\"\\/>\\n<polyline clip-path=\\\"url(#clip8200)\\\" style=\\\"stroke:#000000; stroke-width:4; stroke-opacity:1; fill:none\\\" points=\\\"\\n  1589.67,600.349 2091.18,600.349 2091.18,297.949 1589.67,297.949 1589.67,600.349 \\n  \\\"\\/>\\n<polyline clip-path=\\\"url(#clip8200)\\\" style=\\\"stroke:#009af9; stroke-width:8; stroke-opacity:1; fill:none\\\" points=\\\"\\n  1633.67,358.429 1897.67,358.429 \\n  \\\"\\/>\\n<g clip-path=\\\"url(#clip8200)\\\">\\n<text style=\\\"fill:#000000; fill-opacity:1; font-family:Arial,Helvetica Neue,Helvetica,sans-serif; font-size:48px; text-anchor:start;\\\" transform=\\\"rotate(0, 1941.67, 375.929)\\\" x=\\\"1941.67\\\" y=\\\"375.929\\\">N1<\\/text>\\n<\\/g>\\n<polyline clip-path=\\\"url(#clip8200)\\\" style=\\\"stroke:#e26f46; stroke-width:8; stroke-opacity:1; fill:none\\\" points=\\\"\\n  1633.67,418.909 1897.67,418.909 \\n  \\\"\\/>\\n<g clip-path=\\\"url(#clip8200)\\\">\\n<text style=\\\"fill:#000000; fill-opacity:1; font-family:Arial,Helvetica Neue,Helvetica,sans-serif; font-size:48px; text-anchor:start;\\\" transform=\\\"rotate(0, 1941.67, 436.409)\\\" x=\\\"1941.67\\\" y=\\\"436.409\\\">N2<\\/text>\\n<\\/g>\\n<polyline clip-path=\\\"url(#clip8200)\\\" style=\\\"stroke:#3da44d; stroke-width:8; stroke-opacity:1; fill:none\\\" points=\\\"\\n  1633.67,479.389 1897.67,479.389 \\n  \\\"\\/>\\n<g clip-path=\\\"url(#clip8200)\\\">\\n<text style=\\\"fill:#000000; fill-opacity:1; font-family:Arial,Helvetica Neue,Helvetica,sans-serif; font-size:48px; text-anchor:start;\\\" transform=\\\"rotate(0, 1941.67, 496.889)\\\" x=\\\"1941.67\\\" y=\\\"496.889\\\">N3<\\/text>\\n<\\/g>\\n<polyline clip-path=\\\"url(#clip8200)\\\" style=\\\"stroke:#c271d2; stroke-width:8; stroke-opacity:1; fill:none\\\" points=\\\"\\n  1633.67,539.869 1897.67,539.869 \\n  \\\"\\/>\\n<g clip-path=\\\"url(#clip8200)\\\">\\n<text style=\\\"fill:#000000; fill-opacity:1; font-family:Arial,Helvetica Neue,Helvetica,sans-serif; font-size:48px; text-anchor:start;\\\" transform=\\\"rotate(0, 1941.67, 557.369)\\\" x=\\\"1941.67\\\" y=\\\"557.369\\\">N4<\\/text>\\n<\\/g>\\n<path clip-path=\\\"url(#clip8200)\\\" d=\\\"\\nM2377.42 1846.96 L4352.76 1846.96 L4352.76 94.4295 L2377.42 94.4295  Z\\n  \\\" fill=\\\"#ffffff\\\" fill-rule=\\\"evenodd\\\" fill-opacity=\\\"1\\\"\\/>\\n<defs>\\n  <clipPath id=\\\"clip8203\\\">\\n    <rect x=\\\"2377\\\" y=\\\"94\\\" width=\\\"1976\\\" height=\\\"1754\\\"\\/>\\n  <\\/clipPath>\\n<\\/defs>\\n<polyline clip-path=\\\"url(#clip8203)\\\" style=\\\"stroke:#000000; stroke-width:2; stroke-opacity:0.1; fill:none\\\" points=\\\"\\n  2743.91,1846.96 2743.91,94.4295 \\n  \\\"\\/>\\n<polyline clip-path=\\\"url(#clip8203)\\\" style=\\\"stroke:#000000; stroke-width:2; stroke-opacity:0.1; fill:none\\\" points=\\\"\\n  3365.09,1846.96 3365.09,94.4295 \\n  \\\"\\/>\\n<polyline clip-path=\\\"url(#clip8203)\\\" style=\\\"stroke:#000000; stroke-width:2; stroke-opacity:0.1; fill:none\\\" points=\\\"\\n  3986.26,1846.96 3986.26,94.4295 \\n  \\\"\\/>\\n<polyline clip-path=\\\"url(#clip8200)\\\" style=\\\"stroke:#000000; stroke-width:4; stroke-opacity:1; fill:none\\\" points=\\\"\\n  2377.42,1846.96 4352.76,1846.96 \\n  \\\"\\/>\\n<polyline clip-path=\\\"url(#clip8200)\\\" style=\\\"stroke:#000000; stroke-width:4; stroke-opacity:1; fill:none\\\" points=\\\"\\n  2377.42,1846.96 2377.42,94.4295 \\n  \\\"\\/>\\n<polyline clip-path=\\\"url(#clip8200)\\\" style=\\\"stroke:#000000; stroke-width:4; stroke-opacity:1; fill:none\\\" points=\\\"\\n  2743.91,1846.96 2743.91,1825.93 \\n  \\\"\\/>\\n<polyline clip-path=\\\"url(#clip8200)\\\" style=\\\"stroke:#000000; stroke-width:4; stroke-opacity:1; fill:none\\\" points=\\\"\\n  3365.09,1846.96 3365.09,1825.93 \\n  \\\"\\/>\\n<polyline clip-path=\\\"url(#clip8200)\\\" style=\\\"stroke:#000000; stroke-width:4; stroke-opacity:1; fill:none\\\" points=\\\"\\n  3986.26,1846.96 3986.26,1825.93 \\n  \\\"\\/>\\n<g clip-path=\\\"url(#clip8200)\\\">\\n<text style=\\\"fill:#000000; fill-opacity:1; font-family:Arial,Helvetica Neue,Helvetica,sans-serif; font-size:48px; text-anchor:middle;\\\" transform=\\\"rotate(0, 2743.91, 1910.96)\\\" x=\\\"2743.91\\\" y=\\\"1910.96\\\">N1<\\/text>\\n<\\/g>\\n<g clip-path=\\\"url(#clip8200)\\\">\\n<text style=\\\"fill:#000000; fill-opacity:1; font-family:Arial,Helvetica Neue,Helvetica,sans-serif; font-size:48px; text-anchor:middle;\\\" transform=\\\"rotate(0, 3365.09, 1910.96)\\\" x=\\\"3365.09\\\" y=\\\"1910.96\\\">N4<\\/text>\\n<\\/g>\\n<g clip-path=\\\"url(#clip8200)\\\">\\n<text style=\\\"fill:#000000; fill-opacity:1; font-family:Arial,Helvetica Neue,Helvetica,sans-serif; font-size:48px; text-anchor:middle;\\\" transform=\\\"rotate(0, 3986.26, 1910.96)\\\" x=\\\"3986.26\\\" y=\\\"1910.96\\\">N2|N3<\\/text>\\n<\\/g>\\n<polyline clip-path=\\\"url(#clip8203)\\\" style=\\\"stroke:#000000; stroke-width:4; stroke-opacity:1; fill:none\\\" points=\\\"\\n  2377.42,94.4295 4352.76,94.4295 \\n  \\\"\\/>\\n<polyline clip-path=\\\"url(#clip8203)\\\" style=\\\"stroke:#000000; stroke-width:4; stroke-opacity:1; fill:none\\\" points=\\\"\\n  4352.76,1846.96 4352.76,94.4295 \\n  \\\"\\/>\\n<path clip-path=\\\"url(#clip8203)\\\" d=\\\"\\nM2433.32 1474.96 L3054.5 1474.96 L3054.5 1458.43 L2433.32 1458.43 L2433.32 1474.96  Z\\n  \\\" fill=\\\"#0000ff\\\" fill-rule=\\\"evenodd\\\" fill-opacity=\\\"1\\\"\\/>\\n<polyline clip-path=\\\"url(#clip8203)\\\" style=\\\"stroke:#000000; stroke-width:4; stroke-opacity:1; fill:none\\\" points=\\\"\\n  2433.32,1474.96 3054.5,1474.96 3054.5,1458.43 2433.32,1458.43 2433.32,1474.96 \\n  \\\"\\/>\\n<path clip-path=\\\"url(#clip8203)\\\" d=\\\"\\nM3675.67 1144.29 L4296.85 1144.29 L4296.85 1127.76 L3675.67 1127.76 L3675.67 1144.29  Z\\n  \\\" fill=\\\"#ff0000\\\" fill-rule=\\\"evenodd\\\" fill-opacity=\\\"1\\\"\\/>\\n<polyline clip-path=\\\"url(#clip8203)\\\" style=\\\"stroke:#000000; stroke-width:4; stroke-opacity:1; fill:none\\\" points=\\\"\\n  3675.67,1144.29 4296.85,1144.29 4296.85,1127.76 3675.67,1127.76 3675.67,1144.29 \\n  \\\"\\/>\\n<path clip-path=\\\"url(#clip8203)\\\" d=\\\"\\nM3675.67 813.628 L4296.85 813.628 L4296.85 797.095 L3675.67 797.095 L3675.67 813.628  Z\\n  \\\" fill=\\\"#008000\\\" fill-rule=\\\"evenodd\\\" fill-opacity=\\\"1\\\"\\/>\\n<polyline clip-path=\\\"url(#clip8203)\\\" style=\\\"stroke:#000000; stroke-width:4; stroke-opacity:1; fill:none\\\" points=\\\"\\n  3675.67,813.628 4296.85,813.628 4296.85,797.095 3675.67,797.095 3675.67,813.628 \\n  \\\"\\/>\\n<path clip-path=\\\"url(#clip8203)\\\" d=\\\"\\nM3054.5 482.962 L3675.67 482.962 L3675.67 466.429 L3054.5 466.429 L3054.5 482.962  Z\\n  \\\" fill=\\\"#a52a2a\\\" fill-rule=\\\"evenodd\\\" fill-opacity=\\\"1\\\"\\/>\\n<polyline clip-path=\\\"url(#clip8203)\\\" style=\\\"stroke:#000000; stroke-width:4; stroke-opacity:1; fill:none\\\" points=\\\"\\n  3054.5,482.962 3675.67,482.962 3675.67,466.429 3054.5,466.429 3054.5,482.962 \\n  \\\"\\/>\\n<path clip-path=\\\"url(#clip8203)\\\" d=\\\"\\nM2433.32 1797.36 L4296.85 1797.36 L4296.85 144.029 L2433.32 144.029 L2433.32 1797.36  Z\\n  \\\" fill=\\\"#ffffff\\\" fill-rule=\\\"evenodd\\\" fill-opacity=\\\"0\\\"\\/>\\n<polyline clip-path=\\\"url(#clip8203)\\\" style=\\\"stroke:#000000; stroke-width:0; stroke-opacity:1; fill:none\\\" points=\\\"\\n  2433.32,1797.36 4296.85,1797.36 4296.85,144.029 2433.32,144.029 2433.32,1797.36 \\n  \\\"\\/>\\n<path clip-path=\\\"url(#clip8203)\\\" d=\\\"\\nM2681.79 1458.43 L2806.03 1458.43 L2806.03 1153.47 L2681.79 1153.47 L2681.79 1458.43  Z\\n  \\\" fill=\\\"#0000ff\\\" fill-rule=\\\"evenodd\\\" fill-opacity=\\\"0.5\\\"\\/>\\n<polyline clip-path=\\\"url(#clip8203)\\\" style=\\\"stroke:#000000; stroke-width:4; stroke-opacity:1; fill:none\\\" points=\\\"\\n  2681.79,1458.43 2806.03,1458.43 2806.03,1153.47 2681.79,1153.47 2681.79,1458.43 \\n  \\\"\\/>\\n<path clip-path=\\\"url(#clip8203)\\\" d=\\\"\\nM3924.15 1127.76 L4048.38 1127.76 L4048.38 1127.76 L3924.15 1127.76 L3924.15 1127.76  Z\\n  \\\" fill=\\\"#ff0000\\\" fill-rule=\\\"evenodd\\\" fill-opacity=\\\"0.5\\\"\\/>\\n<polyline clip-path=\\\"url(#clip8203)\\\" style=\\\"stroke:#000000; stroke-width:4; stroke-opacity:1; fill:none\\\" points=\\\"\\n  3924.15,1127.76 4048.38,1127.76 4048.38,1127.76 3924.15,1127.76 3924.15,1127.76 \\n  \\\"\\/>\\n<path clip-path=\\\"url(#clip8203)\\\" d=\\\"\\nM3924.15 797.095 L4048.38 797.095 L4048.38 796.413 L3924.15 796.413 L3924.15 797.095  Z\\n  \\\" fill=\\\"#008000\\\" fill-rule=\\\"evenodd\\\" fill-opacity=\\\"0.5\\\"\\/>\\n<polyline clip-path=\\\"url(#clip8203)\\\" style=\\\"stroke:#000000; stroke-width:4; stroke-opacity:1; fill:none\\\" points=\\\"\\n  3924.15,797.095 4048.38,797.095 4048.38,796.413 3924.15,796.413 3924.15,797.095 \\n  \\\"\\/>\\n<path clip-path=\\\"url(#clip8203)\\\" d=\\\"\\nM3302.97 466.429 L3427.2 466.429 L3427.2 441.402 L3302.97 441.402 L3302.97 466.429  Z\\n  \\\" fill=\\\"#a52a2a\\\" fill-rule=\\\"evenodd\\\" fill-opacity=\\\"0.5\\\"\\/>\\n<polyline clip-path=\\\"url(#clip8203)\\\" style=\\\"stroke:#000000; stroke-width:4; stroke-opacity:1; fill:none\\\" points=\\\"\\n  3302.97,466.429 3427.2,466.429 3427.2,441.402 3302.97,441.402 3302.97,466.429 \\n  \\\"\\/>\\n<\\/svg>\\n\"},\"nodeType\":\"DOM\",\"type\":\"node\",\"instanceArgs\":{\"namespace\":\"html\",\"tag\":\"div\"},\"children\":[]}]}}}},\"children\":[{\"props\":{},\"nodeType\":\"ObservableNode\",\"type\":\"node\",\"instanceArgs\":{\"id\":\"ob_70\",\"name\":\"obs-node\"},\"children\":[]}]}]},\n",
       "            window,\n",
       "        );\n",
       "    } else {\n",
       "        document\n",
       "            .querySelector('[data-webio-mountpoint=\"8934256170842206247\"]')\n",
       "            .innerHTML = (\n",
       "                '<div style=\"padding: 1em; background-color: #f8d6da; border: 1px solid #f5c6cb\">' +\n",
       "                '<p><strong>WebIO not detected.</strong></p>' +\n",
       "                '<p>Please read ' +\n",
       "                '<a href=\"https://juliagizmos.github.io/WebIO.jl/latest/troubleshooting/not-detected/\" target=\"_blank\">the troubleshooting guide</a> ' +\n",
       "                'for more information on how to resolve this issue.</p>' +\n",
       "                '<p><a href=\"https://juliagizmos.github.io/WebIO.jl/latest/troubleshooting/not-detected/\" target=\"_blank\">https://juliagizmos.github.io/WebIO.jl/latest/troubleshooting/not-detected/</a></p>' +\n",
       "                '</div>'\n",
       "            );\n",
       "    }\n",
       "    </script>\n",
       "</div>\n"
      ],
      "text/plain": [
       "Node{WebIO.DOM}(WebIO.DOM(:html, :div), Any[Node{WebIO.DOM}(WebIO.DOM(:html, :div), Any[Scope(Node{WebIO.DOM}(WebIO.DOM(:html, :div), Any[Node{WebIO.DOM}(WebIO.DOM(:html, :div), Any[Node{WebIO.DOM}(WebIO.DOM(:html, :label), Any[\"Time\"], Dict{Symbol,Any}(:className => \"interact \",:style => Dict{Any,Any}(:padding => \"5px 10px 0px 10px\")))], Dict{Symbol,Any}(:className => \"interact-flex-row-left\")), Node{WebIO.DOM}(WebIO.DOM(:html, :div), Any[Node{WebIO.DOM}(WebIO.DOM(:html, :input), Any[], Dict{Symbol,Any}(:max => 121,:min => 1,:attributes => Dict{Any,Any}(:type => \"range\",Symbol(\"data-bind\") => \"numericValue: index, valueUpdate: 'input', event: {change: function (){this.changes(this.changes()+1)}}\",\"orient\" => \"horizontal\"),:step => 1,:className => \"slider slider is-fullwidth\",:style => Dict{Any,Any}()))], Dict{Symbol,Any}(:className => \"interact-flex-row-center\")), Node{WebIO.DOM}(WebIO.DOM(:html, :div), Any[Node{WebIO.DOM}(WebIO.DOM(:html, :p), Any[], Dict{Symbol,Any}(:attributes => Dict(\"data-bind\" => \"text: formatted_val\")))], Dict{Symbol,Any}(:className => \"interact-flex-row-right\"))], Dict{Symbol,Any}(:className => \"interact-flex-row interact-widget\")), Dict{String,Tuple{Observables.AbstractObservable,Union{Nothing, Bool}}}(\"changes\" => (Observable{Int64} with 1 listeners. Value:\n",
       "0, nothing),\"index\" => (Observable{Int64} with 2 listeners. Value:\n",
       "1, nothing)), Set(String[]), nothing, Asset[Asset(\"js\", \"knockout\", \"C:\\\\Users\\\\kaltsoplyn\\\\.julia\\\\packages\\\\Knockout\\\\1sDlc\\\\src\\\\..\\\\assets\\\\knockout.js\"), Asset(\"js\", \"knockout_punches\", \"C:\\\\Users\\\\kaltsoplyn\\\\.julia\\\\packages\\\\Knockout\\\\1sDlc\\\\src\\\\..\\\\assets\\\\knockout_punches.js\"), Asset(\"js\", nothing, \"C:\\\\Users\\\\kaltsoplyn\\\\.julia\\\\packages\\\\InteractBase\\\\9mFwe\\\\src\\\\..\\\\assets\\\\all.js\"), Asset(\"css\", nothing, \"C:\\\\Users\\\\kaltsoplyn\\\\.julia\\\\packages\\\\InteractBase\\\\9mFwe\\\\src\\\\..\\\\assets\\\\style.css\"), Asset(\"css\", nothing, \"C:\\\\Users\\\\kaltsoplyn\\\\.julia\\\\packages\\\\Interact\\\\SbgIk\\\\src\\\\..\\\\assets\\\\bulma_confined.min.css\")], Dict{Any,Any}(\"changes\" => Any[WebIO.JSString(\"(function (val){return (val!=this.model[\\\"changes\\\"]()) ? (this.valueFromJulia[\\\"changes\\\"]=true, this.model[\\\"changes\\\"](val)) : undefined})\")],\"index\" => Any[WebIO.JSString(\"(function (val){return (val!=this.model[\\\"index\\\"]()) ? (this.valueFromJulia[\\\"index\\\"]=true, this.model[\\\"index\\\"](val)) : undefined})\")]), WebIO.ConnectionPool(Channel{Any}(sz_max:32,sz_curr:0), Set(AbstractConnection[]), Base.GenericCondition{Base.AlwaysLockedST}(Base.InvasiveLinkedList{Task}(Task (runnable) @0x0000000013b008b0, Task (runnable) @0x0000000013b008b0), Base.AlwaysLockedST(1))), WebIO.JSString[WebIO.JSString(\"function () {\\n    var handler = (function (ko, koPunches) {\\n    ko.punches.enableAll();\\n    ko.bindingHandlers.numericValue = {\\n        init: function(element, valueAccessor, allBindings, data, context) {\\n            var stringified = ko.observable(ko.unwrap(valueAccessor()));\\n            stringified.subscribe(function(value) {\\n                var val = parseFloat(value);\\n                if (!isNaN(val)) {\\n                    valueAccessor()(val);\\n                }\\n            });\\n            valueAccessor().subscribe(function(value) {\\n                var str = JSON.stringify(value);\\n                if ((str == \\\"0\\\") && ([\\\"-0\\\", \\\"-0.\\\"].indexOf(stringified()) >= 0))\\n                     return;\\n                 if ([\\\"null\\\", \\\"\\\"].indexOf(str) >= 0)\\n                     return;\\n                stringified(str);\\n            });\\n            ko.applyBindingsToNode(\\n                element,\\n                {\\n                    value: stringified,\\n                    valueUpdate: allBindings.get('valueUpdate'),\\n                },\\n                context,\\n            );\\n        }\\n    };\\n    var json_data = {\\\"formatted_vals\\\":[\\\"1\\\",\\\"2\\\",\\\"3\\\",\\\"4\\\",\\\"5\\\",\\\"6\\\",\\\"7\\\",\\\"8\\\",\\\"9\\\",\\\"10\\\",\\\"11\\\",\\\"12\\\",\\\"13\\\",\\\"14\\\",\\\"15\\\",\\\"16\\\",\\\"17\\\",\\\"18\\\",\\\"19\\\",\\\"20\\\",\\\"21\\\",\\\"22\\\",\\\"23\\\",\\\"24\\\",\\\"25\\\",\\\"26\\\",\\\"27\\\",\\\"28\\\",\\\"29\\\",\\\"30\\\",\\\"31\\\",\\\"32\\\",\\\"33\\\",\\\"34\\\",\\\"35\\\",\\\"36\\\",\\\"37\\\",\\\"38\\\",\\\"39\\\",\\\"40\\\",\\\"41\\\",\\\"42\\\",\\\"43\\\",\\\"44\\\",\\\"45\\\",\\\"46\\\",\\\"47\\\",\\\"48\\\",\\\"49\\\",\\\"50\\\",\\\"51\\\",\\\"52\\\",\\\"53\\\",\\\"54\\\",\\\"55\\\",\\\"56\\\",\\\"57\\\",\\\"58\\\",\\\"59\\\",\\\"60\\\",\\\"61\\\",\\\"62\\\",\\\"63\\\",\\\"64\\\",\\\"65\\\",\\\"66\\\",\\\"67\\\",\\\"68\\\",\\\"69\\\",\\\"70\\\",\\\"71\\\",\\\"72\\\",\\\"73\\\",\\\"74\\\",\\\"75\\\",\\\"76\\\",\\\"77\\\",\\\"78\\\",\\\"79\\\",\\\"80\\\",\\\"81\\\",\\\"82\\\",\\\"83\\\",\\\"84\\\",\\\"85\\\",\\\"86\\\",\\\"87\\\",\\\"88\\\",\\\"89\\\",\\\"90\\\",\\\"91\\\",\\\"92\\\",\\\"93\\\",\\\"94\\\",\\\"95\\\",\\\"96\\\",\\\"97\\\",\\\"98\\\",\\\"99\\\",\\\"100\\\",\\\"101\\\",\\\"102\\\",\\\"103\\\",\\\"104\\\",\\\"105\\\",\\\"106\\\",\\\"107\\\",\\\"108\\\",\\\"109\\\",\\\"110\\\",\\\"111\\\",\\\"112\\\",\\\"113\\\",\\\"114\\\",\\\"115\\\",\\\"116\\\",\\\"117\\\",\\\"118\\\",\\\"119\\\",\\\"120\\\",\\\"121\\\"],\\\"changes\\\":WebIO.getval({\\\"name\\\":\\\"changes\\\",\\\"scope\\\":\\\"434744520325907643\\\",\\\"id\\\":\\\"ob_66\\\",\\\"type\\\":\\\"observable\\\"}),\\\"index\\\":WebIO.getval({\\\"name\\\":\\\"index\\\",\\\"scope\\\":\\\"434744520325907643\\\",\\\"id\\\":\\\"ob_65\\\",\\\"type\\\":\\\"observable\\\"})};\\n    var self = this;\\n    function AppViewModel() {\\n        for (var key in json_data) {\\n            var el = json_data[key];\\n            this[key] = Array.isArray(el) ? ko.observableArray(el) : ko.observable(el);\\n        }\\n        \\n        [this[\\\"formatted_val\\\"]=ko.computed(    function(){\\n        return this.formatted_vals()[parseInt(this.index())-(1)];\\n    }\\n,this)]\\n        [this[\\\"changes\\\"].subscribe((function (val){!(this.valueFromJulia[\\\"changes\\\"]) ? (WebIO.setval({\\\"name\\\":\\\"changes\\\",\\\"scope\\\":\\\"434744520325907643\\\",\\\"id\\\":\\\"ob_66\\\",\\\"type\\\":\\\"observable\\\"},val)) : undefined; return this.valueFromJulia[\\\"changes\\\"]=false}),self),this[\\\"index\\\"].subscribe((function (val){!(this.valueFromJulia[\\\"index\\\"]) ? (WebIO.setval({\\\"name\\\":\\\"index\\\",\\\"scope\\\":\\\"434744520325907643\\\",\\\"id\\\":\\\"ob_65\\\",\\\"type\\\":\\\"observable\\\"},val)) : undefined; return this.valueFromJulia[\\\"index\\\"]=false}),self)]\\n        \\n    }\\n    self.model = new AppViewModel();\\n    self.valueFromJulia = {};\\n    for (var key in json_data) {\\n        self.valueFromJulia[key] = false;\\n    }\\n    ko.applyBindings(self.model, self.dom);\\n}\\n);\\n    (WebIO.importBlock({\\\"data\\\":[{\\\"name\\\":\\\"knockout\\\",\\\"type\\\":\\\"js\\\",\\\"url\\\":\\\"/assetserver/58532c656e5c3ea95bc9e6ba08f6e0bbf64f3349-knockout.js\\\"},{\\\"name\\\":\\\"knockout_punches\\\",\\\"type\\\":\\\"js\\\",\\\"url\\\":\\\"/assetserver/97167f822e98661cc85dd010a2419f4651aeb9c6-knockout_punches.js\\\"}],\\\"type\\\":\\\"async_block\\\"})).then((imports) => handler.apply(this, imports));\\n}\\n\")])], Dict{Symbol,Any}(:className => \"field interact-widget\")), Observable{Any} with 0 listeners. Value:\n",
       "Node{WebIO.DOM}(WebIO.DOM(:html, :div), Any[Plot{Plots.GRBackend() n=10}], Dict{Symbol,Any}(:className => \"interact-flex-row interact-widget\"))], Dict{Symbol,Any}())"
      ]
     },
     "execution_count": 33,
     "metadata": {
      "application/vnd.webio.node+json": {
       "kernelId": "5eb1ddec-ee6e-47d8-9d57-f88698952025"
      }
     },
     "output_type": "execute_result"
    }
   ],
   "source": [
    "@manipulate for t = slider(1:length(sol4), value = 1, label = \"Time\")\n",
    "    evo4 = plot(sol4[1:t], vars=[(0,1),(0,2),(0,3),(0,4)], labels = [\"N1\" \"N2\" \"N3\" \"N4\"], lw = 2,\n",
    "        framestyle = :box, title = \"4-Level System Rate Equations -- Solution\",\n",
    "        title_location = :right, titlefontsize = 11, xaxis = (\"Time\", 0:1), yaxis = (\"Level populations\", 0:1))\n",
    "    sys4 = plot([level(1,1), level(3,2), level(3,3), level(2,4)], fillcolor = [:blue, :red, :green, :brown])\n",
    "          plot!(clipping_box(0.5, 0, 3.5, 5), lw = 0, fillalpha = 0, fillcolor = :white)\n",
    "          plot!(sys4, framestyle = :box, xticks = ([1:1:3;], [\"N1\", \"N4\", \"N2|N3\"]), yticks = [], legend = false)\n",
    "          plot!(level_pop(1, 1, pop41(t/length(sol4))), fillalpha = 0.5, fillcolor = :blue)\n",
    "          plot!(level_pop(3, 2, pop42(t/length(sol4))), fillalpha = 0.5, fillcolor = :red)\n",
    "          plot!(level_pop(3, 3, pop43(t/length(sol4))), fillalpha = 0.5, fillcolor = :green)\n",
    "          plot!(level_pop(2, 4, pop44(t/length(sol4))), fillalpha = 0.5, fillcolor = :brown)\n",
    "    plot(evo4, sys4, size = (1100, 500))\n",
    "end"
   ]
  },
  {
   "cell_type": "code",
   "execution_count": null,
   "metadata": {},
   "outputs": [],
   "source": []
  }
 ],
 "metadata": {
  "@webio": {
   "lastCommId": "d7dc2654e6c7489b840580d57c14cbc0",
   "lastKernelId": "5eb1ddec-ee6e-47d8-9d57-f88698952025"
  },
  "kernelspec": {
   "display_name": "Julia 1.3.1",
   "language": "julia",
   "name": "julia-1.3"
  },
  "language_info": {
   "file_extension": ".jl",
   "mimetype": "application/julia",
   "name": "julia",
   "version": "1.3.1"
  }
 },
 "nbformat": 4,
 "nbformat_minor": 4
}
